{
 "cells": [
  {
   "cell_type": "code",
   "execution_count": 1,
   "id": "1a3eb0c8-b93d-4e46-aa54-10f5b687d05c",
   "metadata": {},
   "outputs": [],
   "source": [
    "import numpy as np \n",
    "import pandas as pd \n",
    "\n",
    "import matplotlib.pyplot as plt\n",
    "\n",
    "from sklearn.model_selection import train_test_split, GridSearchCV\n",
    "from sklearn.metrics import accuracy_score, precision_score, recall_score, f1_score, make_scorer, confusion_matrix, ConfusionMatrixDisplay\n",
    "from sklearn.ensemble import RandomForestClassifier\n",
    "from sklearn.utils import shuffle\n",
    "\n",
    "from xgboost import XGBClassifier\n",
    "from catboost import CatBoostClassifier\n",
    "\n",
    "import plotly.express as px\n",
    "import plotly.graph_objects as go\n",
    "\n",
    "import pickle"
   ]
  },
  {
   "cell_type": "code",
   "execution_count": 2,
   "id": "7f53a6e8-d94c-496d-b5b3-fc5a534bd9b5",
   "metadata": {},
   "outputs": [],
   "source": [
    "income = pd.read_csv('data/income_2021.csv')"
   ]
  },
  {
   "cell_type": "code",
   "execution_count": 3,
   "id": "0b53c16b-5609-4cdc-b98c-1192e55b158a",
   "metadata": {},
   "outputs": [
    {
     "data": {
      "text/html": [
       "<div>\n",
       "<style scoped>\n",
       "    .dataframe tbody tr th:only-of-type {\n",
       "        vertical-align: middle;\n",
       "    }\n",
       "\n",
       "    .dataframe tbody tr th {\n",
       "        vertical-align: top;\n",
       "    }\n",
       "\n",
       "    .dataframe thead th {\n",
       "        text-align: right;\n",
       "    }\n",
       "</style>\n",
       "<table border=\"1\" class=\"dataframe\">\n",
       "  <thead>\n",
       "    <tr style=\"text-align: right;\">\n",
       "      <th></th>\n",
       "      <th>ZIP</th>\n",
       "      <th>Households</th>\n",
       "      <th>Households Less Than $10,000</th>\n",
       "      <th>Households $10,000 to $14,999</th>\n",
       "      <th>Households $15,000 to $24,999</th>\n",
       "      <th>Households $25,000 to $34,999</th>\n",
       "      <th>Households $35,000 to $49,999</th>\n",
       "      <th>Households $50,000 to $74,999</th>\n",
       "      <th>Households $75,000 to $99,999</th>\n",
       "      <th>Households $100,000 to $149,999</th>\n",
       "      <th>...</th>\n",
       "      <th>Nonfamily Households $50,000 to $74,999</th>\n",
       "      <th>Nonfamily Households $75,000 to $99,999</th>\n",
       "      <th>Nonfamily Households $100,000 to $149,999</th>\n",
       "      <th>Nonfamily Households $150,000 to $199,999</th>\n",
       "      <th>Nonfamily Households $200,000 or More</th>\n",
       "      <th>Nonfamily Households Median Income (Dollars)</th>\n",
       "      <th>Nonfamily Households Mean Income (Dollars)</th>\n",
       "      <th>Nonfamily Households Nonfamily Income in the Past 12 Months</th>\n",
       "      <th>Year</th>\n",
       "      <th>store_presence</th>\n",
       "    </tr>\n",
       "  </thead>\n",
       "  <tbody>\n",
       "    <tr>\n",
       "      <th>0</th>\n",
       "      <td>601</td>\n",
       "      <td>5397.0</td>\n",
       "      <td>33.2</td>\n",
       "      <td>15.7</td>\n",
       "      <td>23.9</td>\n",
       "      <td>13.4</td>\n",
       "      <td>8.7</td>\n",
       "      <td>3.5</td>\n",
       "      <td>0.7</td>\n",
       "      <td>0.9</td>\n",
       "      <td>...</td>\n",
       "      <td>0.3</td>\n",
       "      <td>0.9</td>\n",
       "      <td>0.0</td>\n",
       "      <td>0.0</td>\n",
       "      <td>0.0</td>\n",
       "      <td>9386.0</td>\n",
       "      <td>13044.0</td>\n",
       "      <td>15.0</td>\n",
       "      <td>2021</td>\n",
       "      <td>0</td>\n",
       "    </tr>\n",
       "    <tr>\n",
       "      <th>1</th>\n",
       "      <td>602</td>\n",
       "      <td>12858.0</td>\n",
       "      <td>27.1</td>\n",
       "      <td>12.7</td>\n",
       "      <td>20.5</td>\n",
       "      <td>14.3</td>\n",
       "      <td>10.9</td>\n",
       "      <td>8.2</td>\n",
       "      <td>3.3</td>\n",
       "      <td>2.0</td>\n",
       "      <td>...</td>\n",
       "      <td>3.2</td>\n",
       "      <td>1.8</td>\n",
       "      <td>0.0</td>\n",
       "      <td>0.0</td>\n",
       "      <td>0.0</td>\n",
       "      <td>11242.0</td>\n",
       "      <td>16419.0</td>\n",
       "      <td>20.1</td>\n",
       "      <td>2021</td>\n",
       "      <td>0</td>\n",
       "    </tr>\n",
       "    <tr>\n",
       "      <th>2</th>\n",
       "      <td>603</td>\n",
       "      <td>19295.0</td>\n",
       "      <td>32.1</td>\n",
       "      <td>13.4</td>\n",
       "      <td>17.2</td>\n",
       "      <td>9.9</td>\n",
       "      <td>9.3</td>\n",
       "      <td>10.2</td>\n",
       "      <td>4.1</td>\n",
       "      <td>2.5</td>\n",
       "      <td>...</td>\n",
       "      <td>4.7</td>\n",
       "      <td>1.1</td>\n",
       "      <td>0.5</td>\n",
       "      <td>0.6</td>\n",
       "      <td>0.2</td>\n",
       "      <td>10639.0</td>\n",
       "      <td>16824.0</td>\n",
       "      <td>34.9</td>\n",
       "      <td>2021</td>\n",
       "      <td>0</td>\n",
       "    </tr>\n",
       "    <tr>\n",
       "      <th>3</th>\n",
       "      <td>606</td>\n",
       "      <td>1968.0</td>\n",
       "      <td>28.4</td>\n",
       "      <td>13.3</td>\n",
       "      <td>23.3</td>\n",
       "      <td>15.4</td>\n",
       "      <td>11.0</td>\n",
       "      <td>7.7</td>\n",
       "      <td>0.7</td>\n",
       "      <td>0.3</td>\n",
       "      <td>...</td>\n",
       "      <td>3.0</td>\n",
       "      <td>0.0</td>\n",
       "      <td>0.0</td>\n",
       "      <td>0.0</td>\n",
       "      <td>0.0</td>\n",
       "      <td>15849.0</td>\n",
       "      <td>16312.0</td>\n",
       "      <td>13.0</td>\n",
       "      <td>2021</td>\n",
       "      <td>0</td>\n",
       "    </tr>\n",
       "    <tr>\n",
       "      <th>4</th>\n",
       "      <td>610</td>\n",
       "      <td>8934.0</td>\n",
       "      <td>20.5</td>\n",
       "      <td>13.2</td>\n",
       "      <td>23.3</td>\n",
       "      <td>15.7</td>\n",
       "      <td>11.5</td>\n",
       "      <td>9.8</td>\n",
       "      <td>3.4</td>\n",
       "      <td>1.7</td>\n",
       "      <td>...</td>\n",
       "      <td>3.0</td>\n",
       "      <td>0.0</td>\n",
       "      <td>0.0</td>\n",
       "      <td>0.0</td>\n",
       "      <td>0.0</td>\n",
       "      <td>12832.0</td>\n",
       "      <td>16756.0</td>\n",
       "      <td>14.5</td>\n",
       "      <td>2021</td>\n",
       "      <td>0</td>\n",
       "    </tr>\n",
       "  </tbody>\n",
       "</table>\n",
       "<p>5 rows × 57 columns</p>\n",
       "</div>"
      ],
      "text/plain": [
       "   ZIP  Households  Households Less Than $10,000  \\\n",
       "0  601      5397.0                          33.2   \n",
       "1  602     12858.0                          27.1   \n",
       "2  603     19295.0                          32.1   \n",
       "3  606      1968.0                          28.4   \n",
       "4  610      8934.0                          20.5   \n",
       "\n",
       "   Households $10,000 to $14,999  Households $15,000 to $24,999  \\\n",
       "0                           15.7                           23.9   \n",
       "1                           12.7                           20.5   \n",
       "2                           13.4                           17.2   \n",
       "3                           13.3                           23.3   \n",
       "4                           13.2                           23.3   \n",
       "\n",
       "   Households $25,000 to $34,999  Households $35,000 to $49,999  \\\n",
       "0                           13.4                            8.7   \n",
       "1                           14.3                           10.9   \n",
       "2                            9.9                            9.3   \n",
       "3                           15.4                           11.0   \n",
       "4                           15.7                           11.5   \n",
       "\n",
       "   Households $50,000 to $74,999  Households $75,000 to $99,999  \\\n",
       "0                            3.5                            0.7   \n",
       "1                            8.2                            3.3   \n",
       "2                           10.2                            4.1   \n",
       "3                            7.7                            0.7   \n",
       "4                            9.8                            3.4   \n",
       "\n",
       "   Households $100,000 to $149,999  ...  \\\n",
       "0                              0.9  ...   \n",
       "1                              2.0  ...   \n",
       "2                              2.5  ...   \n",
       "3                              0.3  ...   \n",
       "4                              1.7  ...   \n",
       "\n",
       "   Nonfamily Households $50,000 to $74,999  \\\n",
       "0                                      0.3   \n",
       "1                                      3.2   \n",
       "2                                      4.7   \n",
       "3                                      3.0   \n",
       "4                                      3.0   \n",
       "\n",
       "   Nonfamily Households $75,000 to $99,999  \\\n",
       "0                                      0.9   \n",
       "1                                      1.8   \n",
       "2                                      1.1   \n",
       "3                                      0.0   \n",
       "4                                      0.0   \n",
       "\n",
       "   Nonfamily Households $100,000 to $149,999  \\\n",
       "0                                        0.0   \n",
       "1                                        0.0   \n",
       "2                                        0.5   \n",
       "3                                        0.0   \n",
       "4                                        0.0   \n",
       "\n",
       "   Nonfamily Households $150,000 to $199,999  \\\n",
       "0                                        0.0   \n",
       "1                                        0.0   \n",
       "2                                        0.6   \n",
       "3                                        0.0   \n",
       "4                                        0.0   \n",
       "\n",
       "   Nonfamily Households $200,000 or More  \\\n",
       "0                                    0.0   \n",
       "1                                    0.0   \n",
       "2                                    0.2   \n",
       "3                                    0.0   \n",
       "4                                    0.0   \n",
       "\n",
       "   Nonfamily Households Median Income (Dollars)  \\\n",
       "0                                        9386.0   \n",
       "1                                       11242.0   \n",
       "2                                       10639.0   \n",
       "3                                       15849.0   \n",
       "4                                       12832.0   \n",
       "\n",
       "   Nonfamily Households Mean Income (Dollars)  \\\n",
       "0                                     13044.0   \n",
       "1                                     16419.0   \n",
       "2                                     16824.0   \n",
       "3                                     16312.0   \n",
       "4                                     16756.0   \n",
       "\n",
       "   Nonfamily Households Nonfamily Income in the Past 12 Months  Year  \\\n",
       "0                                               15.0            2021   \n",
       "1                                               20.1            2021   \n",
       "2                                               34.9            2021   \n",
       "3                                               13.0            2021   \n",
       "4                                               14.5            2021   \n",
       "\n",
       "   store_presence  \n",
       "0               0  \n",
       "1               0  \n",
       "2               0  \n",
       "3               0  \n",
       "4               0  \n",
       "\n",
       "[5 rows x 57 columns]"
      ]
     },
     "execution_count": 3,
     "metadata": {},
     "output_type": "execute_result"
    }
   ],
   "source": [
    "income.head()"
   ]
  },
  {
   "cell_type": "markdown",
   "id": "e3c7ec00-4c36-4683-a570-7468bfb88554",
   "metadata": {},
   "source": [
    "#### Baseline classification model "
   ]
  },
  {
   "cell_type": "code",
   "execution_count": 4,
   "id": "89a32768-02ba-4a5e-926b-9255f162f6ea",
   "metadata": {},
   "outputs": [],
   "source": [
    "# define matrix X and outcome vector\n",
    "\n",
    "X = income.drop(columns=['store_presence', \"ZIP\"])\n",
    "y = income['store_presence']"
   ]
  },
  {
   "cell_type": "code",
   "execution_count": 5,
   "id": "10b0f466",
   "metadata": {},
   "outputs": [],
   "source": [
    "#  sample split\n",
    "\n",
    "X_train, X_test, y_train, y_test = train_test_split(X, y, test_size=0.3, random_state=42)"
   ]
  },
  {
   "cell_type": "code",
   "execution_count": 6,
   "id": "b47ff9e8-6862-428f-99fc-6d7ee65899b5",
   "metadata": {},
   "outputs": [
    {
     "data": {
      "text/html": [
       "<style>#sk-container-id-1 {color: black;background-color: white;}#sk-container-id-1 pre{padding: 0;}#sk-container-id-1 div.sk-toggleable {background-color: white;}#sk-container-id-1 label.sk-toggleable__label {cursor: pointer;display: block;width: 100%;margin-bottom: 0;padding: 0.3em;box-sizing: border-box;text-align: center;}#sk-container-id-1 label.sk-toggleable__label-arrow:before {content: \"▸\";float: left;margin-right: 0.25em;color: #696969;}#sk-container-id-1 label.sk-toggleable__label-arrow:hover:before {color: black;}#sk-container-id-1 div.sk-estimator:hover label.sk-toggleable__label-arrow:before {color: black;}#sk-container-id-1 div.sk-toggleable__content {max-height: 0;max-width: 0;overflow: hidden;text-align: left;background-color: #f0f8ff;}#sk-container-id-1 div.sk-toggleable__content pre {margin: 0.2em;color: black;border-radius: 0.25em;background-color: #f0f8ff;}#sk-container-id-1 input.sk-toggleable__control:checked~div.sk-toggleable__content {max-height: 200px;max-width: 100%;overflow: auto;}#sk-container-id-1 input.sk-toggleable__control:checked~label.sk-toggleable__label-arrow:before {content: \"▾\";}#sk-container-id-1 div.sk-estimator input.sk-toggleable__control:checked~label.sk-toggleable__label {background-color: #d4ebff;}#sk-container-id-1 div.sk-label input.sk-toggleable__control:checked~label.sk-toggleable__label {background-color: #d4ebff;}#sk-container-id-1 input.sk-hidden--visually {border: 0;clip: rect(1px 1px 1px 1px);clip: rect(1px, 1px, 1px, 1px);height: 1px;margin: -1px;overflow: hidden;padding: 0;position: absolute;width: 1px;}#sk-container-id-1 div.sk-estimator {font-family: monospace;background-color: #f0f8ff;border: 1px dotted black;border-radius: 0.25em;box-sizing: border-box;margin-bottom: 0.5em;}#sk-container-id-1 div.sk-estimator:hover {background-color: #d4ebff;}#sk-container-id-1 div.sk-parallel-item::after {content: \"\";width: 100%;border-bottom: 1px solid gray;flex-grow: 1;}#sk-container-id-1 div.sk-label:hover label.sk-toggleable__label {background-color: #d4ebff;}#sk-container-id-1 div.sk-serial::before {content: \"\";position: absolute;border-left: 1px solid gray;box-sizing: border-box;top: 0;bottom: 0;left: 50%;z-index: 0;}#sk-container-id-1 div.sk-serial {display: flex;flex-direction: column;align-items: center;background-color: white;padding-right: 0.2em;padding-left: 0.2em;position: relative;}#sk-container-id-1 div.sk-item {position: relative;z-index: 1;}#sk-container-id-1 div.sk-parallel {display: flex;align-items: stretch;justify-content: center;background-color: white;position: relative;}#sk-container-id-1 div.sk-item::before, #sk-container-id-1 div.sk-parallel-item::before {content: \"\";position: absolute;border-left: 1px solid gray;box-sizing: border-box;top: 0;bottom: 0;left: 50%;z-index: -1;}#sk-container-id-1 div.sk-parallel-item {display: flex;flex-direction: column;z-index: 1;position: relative;background-color: white;}#sk-container-id-1 div.sk-parallel-item:first-child::after {align-self: flex-end;width: 50%;}#sk-container-id-1 div.sk-parallel-item:last-child::after {align-self: flex-start;width: 50%;}#sk-container-id-1 div.sk-parallel-item:only-child::after {width: 0;}#sk-container-id-1 div.sk-dashed-wrapped {border: 1px dashed gray;margin: 0 0.4em 0.5em 0.4em;box-sizing: border-box;padding-bottom: 0.4em;background-color: white;}#sk-container-id-1 div.sk-label label {font-family: monospace;font-weight: bold;display: inline-block;line-height: 1.2em;}#sk-container-id-1 div.sk-label-container {text-align: center;}#sk-container-id-1 div.sk-container {/* jupyter's `normalize.less` sets `[hidden] { display: none; }` but bootstrap.min.css set `[hidden] { display: none !important; }` so we also need the `!important` here to be able to override the default hidden behavior on the sphinx rendered scikit-learn.org. See: https://github.com/scikit-learn/scikit-learn/issues/21755 */display: inline-block !important;position: relative;}#sk-container-id-1 div.sk-text-repr-fallback {display: none;}</style><div id=\"sk-container-id-1\" class=\"sk-top-container\"><div class=\"sk-text-repr-fallback\"><pre>XGBClassifier(base_score=None, booster=None, callbacks=None,\n",
       "              colsample_bylevel=None, colsample_bynode=None,\n",
       "              colsample_bytree=None, device=None, early_stopping_rounds=None,\n",
       "              enable_categorical=False, eval_metric=None, feature_types=None,\n",
       "              gamma=None, grow_policy=None, importance_type=None,\n",
       "              interaction_constraints=None, learning_rate=None, max_bin=None,\n",
       "              max_cat_threshold=None, max_cat_to_onehot=None,\n",
       "              max_delta_step=None, max_depth=None, max_leaves=None,\n",
       "              min_child_weight=None, missing=nan, monotone_constraints=None,\n",
       "              multi_strategy=None, n_estimators=None, n_jobs=None,\n",
       "              num_parallel_tree=None, random_state=None, ...)</pre><b>In a Jupyter environment, please rerun this cell to show the HTML representation or trust the notebook. <br />On GitHub, the HTML representation is unable to render, please try loading this page with nbviewer.org.</b></div><div class=\"sk-container\" hidden><div class=\"sk-item\"><div class=\"sk-estimator sk-toggleable\"><input class=\"sk-toggleable__control sk-hidden--visually\" id=\"sk-estimator-id-1\" type=\"checkbox\" checked><label for=\"sk-estimator-id-1\" class=\"sk-toggleable__label sk-toggleable__label-arrow\">XGBClassifier</label><div class=\"sk-toggleable__content\"><pre>XGBClassifier(base_score=None, booster=None, callbacks=None,\n",
       "              colsample_bylevel=None, colsample_bynode=None,\n",
       "              colsample_bytree=None, device=None, early_stopping_rounds=None,\n",
       "              enable_categorical=False, eval_metric=None, feature_types=None,\n",
       "              gamma=None, grow_policy=None, importance_type=None,\n",
       "              interaction_constraints=None, learning_rate=None, max_bin=None,\n",
       "              max_cat_threshold=None, max_cat_to_onehot=None,\n",
       "              max_delta_step=None, max_depth=None, max_leaves=None,\n",
       "              min_child_weight=None, missing=nan, monotone_constraints=None,\n",
       "              multi_strategy=None, n_estimators=None, n_jobs=None,\n",
       "              num_parallel_tree=None, random_state=None, ...)</pre></div></div></div></div></div>"
      ],
      "text/plain": [
       "XGBClassifier(base_score=None, booster=None, callbacks=None,\n",
       "              colsample_bylevel=None, colsample_bynode=None,\n",
       "              colsample_bytree=None, device=None, early_stopping_rounds=None,\n",
       "              enable_categorical=False, eval_metric=None, feature_types=None,\n",
       "              gamma=None, grow_policy=None, importance_type=None,\n",
       "              interaction_constraints=None, learning_rate=None, max_bin=None,\n",
       "              max_cat_threshold=None, max_cat_to_onehot=None,\n",
       "              max_delta_step=None, max_depth=None, max_leaves=None,\n",
       "              min_child_weight=None, missing=nan, monotone_constraints=None,\n",
       "              multi_strategy=None, n_estimators=None, n_jobs=None,\n",
       "              num_parallel_tree=None, random_state=None, ...)"
      ]
     },
     "execution_count": 6,
     "metadata": {},
     "output_type": "execute_result"
    }
   ],
   "source": [
    "# instantiate and fit model \n",
    "model = XGBClassifier()\n",
    "model.fit(X_train, y_train)"
   ]
  },
  {
   "cell_type": "code",
   "execution_count": 7,
   "id": "e046f462-6818-4da8-84f4-0384aeac6c89",
   "metadata": {},
   "outputs": [],
   "source": [
    "# make predictions \n",
    "\n",
    "y_pred = model.predict(X_test)"
   ]
  },
  {
   "cell_type": "code",
   "execution_count": 8,
   "id": "e7bd4556-4c15-4db5-adf7-4f22e862e7fd",
   "metadata": {},
   "outputs": [
    {
     "data": {
      "text/plain": [
       "0.9753619507239014"
      ]
     },
     "execution_count": 8,
     "metadata": {},
     "output_type": "execute_result"
    }
   ],
   "source": [
    "# Calculate accuracy \n",
    "accuracy = accuracy_score(y_test, y_pred)\n",
    "accuracy"
   ]
  },
  {
   "cell_type": "code",
   "execution_count": 9,
   "id": "d716ba46-9f99-4dd8-9eee-dd08d7e72a8a",
   "metadata": {},
   "outputs": [
    {
     "data": {
      "text/plain": [
       "0.2857142857142857"
      ]
     },
     "execution_count": 9,
     "metadata": {},
     "output_type": "execute_result"
    }
   ],
   "source": [
    "# Calculate precision\n",
    "precision = precision_score(y_test, y_pred)\n",
    "precision"
   ]
  },
  {
   "cell_type": "code",
   "execution_count": 10,
   "id": "c93151b3-684f-4637-8d9f-9ce062239b30",
   "metadata": {},
   "outputs": [
    {
     "data": {
      "text/plain": [
       "0.06818181818181818"
      ]
     },
     "execution_count": 10,
     "metadata": {},
     "output_type": "execute_result"
    }
   ],
   "source": [
    "# Calculate recall\n",
    "recall = recall_score(y_test, y_pred)\n",
    "recall"
   ]
  },
  {
   "cell_type": "code",
   "execution_count": 11,
   "id": "95a75d17-202e-478d-8e5a-2ebb7d938be7",
   "metadata": {},
   "outputs": [
    {
     "data": {
      "text/plain": [
       "0.11009174311926603"
      ]
     },
     "execution_count": 11,
     "metadata": {},
     "output_type": "execute_result"
    }
   ],
   "source": [
    "f1 = f1_score(y_test, y_pred)\n",
    "f1"
   ]
  },
  {
   "cell_type": "code",
   "execution_count": 24,
   "id": "d90a5e57-7404-45b2-a8fb-346b59d988c1",
   "metadata": {},
   "outputs": [
    {
     "data": {
      "image/png": "[encoded data removed]",
      "text/plain": [
       "<Figure size 640x480 with 2 Axes>"
      ]
     },
     "metadata": {},
     "output_type": "display_data"
    }
   ],
   "source": [
    "# confusion Matrix\n",
    "cm = confusion_matrix(y_test, y_pred)\n",
    "disp = ConfusionMatrixDisplay(confusion_matrix=cm)\n",
    "disp.plot()\n",
    "plt.title('XGBoost Classifier');"
   ]
  },
  {
   "cell_type": "markdown",
   "id": "20410404-4bbc-40b4-88ad-4b7b64d68c5f",
   "metadata": {},
   "source": [
    "#### Baseline model with grid search"
   ]
  },
  {
   "cell_type": "code",
   "execution_count": 13,
   "id": "fa606c7c-f507-4f14-9f28-a534d65096f1",
   "metadata": {},
   "outputs": [],
   "source": [
    "# Instantiate the XGBoost classifier\n",
    "xgb = XGBClassifier()\n",
    "f1_scorer = make_scorer(f1_score, average='binary')\n",
    "\n",
    "# Define the parameter grid to search\n",
    "param_grid = {\n",
    "    'n_estimators': [50, 100, 200],\n",
    "    'max_depth': [3, 5, 7],\n",
    "    'learning_rate': [0.01, 0.1, 0.2]\n",
    "}\n"
   ]
  },
  {
   "cell_type": "code",
   "execution_count": 14,
   "id": "ec2c8eca-ca10-4aac-b0ed-21f81fd71629",
   "metadata": {},
   "outputs": [
    {
     "name": "stdout",
     "output_type": "stream",
     "text": [
      "Fitting 3 folds for each of 27 candidates, totalling 81 fits\n"
     ]
    },
    {
     "data": {
      "text/html": [
       "<style>#sk-container-id-2 {color: black;background-color: white;}#sk-container-id-2 pre{padding: 0;}#sk-container-id-2 div.sk-toggleable {background-color: white;}#sk-container-id-2 label.sk-toggleable__label {cursor: pointer;display: block;width: 100%;margin-bottom: 0;padding: 0.3em;box-sizing: border-box;text-align: center;}#sk-container-id-2 label.sk-toggleable__label-arrow:before {content: \"▸\";float: left;margin-right: 0.25em;color: #696969;}#sk-container-id-2 label.sk-toggleable__label-arrow:hover:before {color: black;}#sk-container-id-2 div.sk-estimator:hover label.sk-toggleable__label-arrow:before {color: black;}#sk-container-id-2 div.sk-toggleable__content {max-height: 0;max-width: 0;overflow: hidden;text-align: left;background-color: #f0f8ff;}#sk-container-id-2 div.sk-toggleable__content pre {margin: 0.2em;color: black;border-radius: 0.25em;background-color: #f0f8ff;}#sk-container-id-2 input.sk-toggleable__control:checked~div.sk-toggleable__content {max-height: 200px;max-width: 100%;overflow: auto;}#sk-container-id-2 input.sk-toggleable__control:checked~label.sk-toggleable__label-arrow:before {content: \"▾\";}#sk-container-id-2 div.sk-estimator input.sk-toggleable__control:checked~label.sk-toggleable__label {background-color: #d4ebff;}#sk-container-id-2 div.sk-label input.sk-toggleable__control:checked~label.sk-toggleable__label {background-color: #d4ebff;}#sk-container-id-2 input.sk-hidden--visually {border: 0;clip: rect(1px 1px 1px 1px);clip: rect(1px, 1px, 1px, 1px);height: 1px;margin: -1px;overflow: hidden;padding: 0;position: absolute;width: 1px;}#sk-container-id-2 div.sk-estimator {font-family: monospace;background-color: #f0f8ff;border: 1px dotted black;border-radius: 0.25em;box-sizing: border-box;margin-bottom: 0.5em;}#sk-container-id-2 div.sk-estimator:hover {background-color: #d4ebff;}#sk-container-id-2 div.sk-parallel-item::after {content: \"\";width: 100%;border-bottom: 1px solid gray;flex-grow: 1;}#sk-container-id-2 div.sk-label:hover label.sk-toggleable__label {background-color: #d4ebff;}#sk-container-id-2 div.sk-serial::before {content: \"\";position: absolute;border-left: 1px solid gray;box-sizing: border-box;top: 0;bottom: 0;left: 50%;z-index: 0;}#sk-container-id-2 div.sk-serial {display: flex;flex-direction: column;align-items: center;background-color: white;padding-right: 0.2em;padding-left: 0.2em;position: relative;}#sk-container-id-2 div.sk-item {position: relative;z-index: 1;}#sk-container-id-2 div.sk-parallel {display: flex;align-items: stretch;justify-content: center;background-color: white;position: relative;}#sk-container-id-2 div.sk-item::before, #sk-container-id-2 div.sk-parallel-item::before {content: \"\";position: absolute;border-left: 1px solid gray;box-sizing: border-box;top: 0;bottom: 0;left: 50%;z-index: -1;}#sk-container-id-2 div.sk-parallel-item {display: flex;flex-direction: column;z-index: 1;position: relative;background-color: white;}#sk-container-id-2 div.sk-parallel-item:first-child::after {align-self: flex-end;width: 50%;}#sk-container-id-2 div.sk-parallel-item:last-child::after {align-self: flex-start;width: 50%;}#sk-container-id-2 div.sk-parallel-item:only-child::after {width: 0;}#sk-container-id-2 div.sk-dashed-wrapped {border: 1px dashed gray;margin: 0 0.4em 0.5em 0.4em;box-sizing: border-box;padding-bottom: 0.4em;background-color: white;}#sk-container-id-2 div.sk-label label {font-family: monospace;font-weight: bold;display: inline-block;line-height: 1.2em;}#sk-container-id-2 div.sk-label-container {text-align: center;}#sk-container-id-2 div.sk-container {/* jupyter's `normalize.less` sets `[hidden] { display: none; }` but bootstrap.min.css set `[hidden] { display: none !important; }` so we also need the `!important` here to be able to override the default hidden behavior on the sphinx rendered scikit-learn.org. See: https://github.com/scikit-learn/scikit-learn/issues/21755 */display: inline-block !important;position: relative;}#sk-container-id-2 div.sk-text-repr-fallback {display: none;}</style><div id=\"sk-container-id-2\" class=\"sk-top-container\"><div class=\"sk-text-repr-fallback\"><pre>GridSearchCV(cv=3,\n",
       "             estimator=XGBClassifier(base_score=None, booster=None,\n",
       "                                     callbacks=None, colsample_bylevel=None,\n",
       "                                     colsample_bynode=None,\n",
       "                                     colsample_bytree=None, device=None,\n",
       "                                     early_stopping_rounds=None,\n",
       "                                     enable_categorical=False, eval_metric=None,\n",
       "                                     feature_types=None, gamma=None,\n",
       "                                     grow_policy=None, importance_type=None,\n",
       "                                     interaction_constraints=None,\n",
       "                                     learning_rate=None,...\n",
       "                                     max_delta_step=None, max_depth=None,\n",
       "                                     max_leaves=None, min_child_weight=None,\n",
       "                                     missing=nan, monotone_constraints=None,\n",
       "                                     multi_strategy=None, n_estimators=None,\n",
       "                                     n_jobs=None, num_parallel_tree=None,\n",
       "                                     random_state=None, ...),\n",
       "             param_grid={&#x27;learning_rate&#x27;: [0.01, 0.1, 0.2],\n",
       "                         &#x27;max_depth&#x27;: [3, 5, 7],\n",
       "                         &#x27;n_estimators&#x27;: [50, 100, 200]},\n",
       "             scoring=make_scorer(f1_score, average=binary), verbose=1)</pre><b>In a Jupyter environment, please rerun this cell to show the HTML representation or trust the notebook. <br />On GitHub, the HTML representation is unable to render, please try loading this page with nbviewer.org.</b></div><div class=\"sk-container\" hidden><div class=\"sk-item sk-dashed-wrapped\"><div class=\"sk-label-container\"><div class=\"sk-label sk-toggleable\"><input class=\"sk-toggleable__control sk-hidden--visually\" id=\"sk-estimator-id-2\" type=\"checkbox\" ><label for=\"sk-estimator-id-2\" class=\"sk-toggleable__label sk-toggleable__label-arrow\">GridSearchCV</label><div class=\"sk-toggleable__content\"><pre>GridSearchCV(cv=3,\n",
       "             estimator=XGBClassifier(base_score=None, booster=None,\n",
       "                                     callbacks=None, colsample_bylevel=None,\n",
       "                                     colsample_bynode=None,\n",
       "                                     colsample_bytree=None, device=None,\n",
       "                                     early_stopping_rounds=None,\n",
       "                                     enable_categorical=False, eval_metric=None,\n",
       "                                     feature_types=None, gamma=None,\n",
       "                                     grow_policy=None, importance_type=None,\n",
       "                                     interaction_constraints=None,\n",
       "                                     learning_rate=None,...\n",
       "                                     max_delta_step=None, max_depth=None,\n",
       "                                     max_leaves=None, min_child_weight=None,\n",
       "                                     missing=nan, monotone_constraints=None,\n",
       "                                     multi_strategy=None, n_estimators=None,\n",
       "                                     n_jobs=None, num_parallel_tree=None,\n",
       "                                     random_state=None, ...),\n",
       "             param_grid={&#x27;learning_rate&#x27;: [0.01, 0.1, 0.2],\n",
       "                         &#x27;max_depth&#x27;: [3, 5, 7],\n",
       "                         &#x27;n_estimators&#x27;: [50, 100, 200]},\n",
       "             scoring=make_scorer(f1_score, average=binary), verbose=1)</pre></div></div></div><div class=\"sk-parallel\"><div class=\"sk-parallel-item\"><div class=\"sk-item\"><div class=\"sk-label-container\"><div class=\"sk-label sk-toggleable\"><input class=\"sk-toggleable__control sk-hidden--visually\" id=\"sk-estimator-id-3\" type=\"checkbox\" ><label for=\"sk-estimator-id-3\" class=\"sk-toggleable__label sk-toggleable__label-arrow\">estimator: XGBClassifier</label><div class=\"sk-toggleable__content\"><pre>XGBClassifier(base_score=None, booster=None, callbacks=None,\n",
       "              colsample_bylevel=None, colsample_bynode=None,\n",
       "              colsample_bytree=None, device=None, early_stopping_rounds=None,\n",
       "              enable_categorical=False, eval_metric=None, feature_types=None,\n",
       "              gamma=None, grow_policy=None, importance_type=None,\n",
       "              interaction_constraints=None, learning_rate=None, max_bin=None,\n",
       "              max_cat_threshold=None, max_cat_to_onehot=None,\n",
       "              max_delta_step=None, max_depth=None, max_leaves=None,\n",
       "              min_child_weight=None, missing=nan, monotone_constraints=None,\n",
       "              multi_strategy=None, n_estimators=None, n_jobs=None,\n",
       "              num_parallel_tree=None, random_state=None, ...)</pre></div></div></div><div class=\"sk-serial\"><div class=\"sk-item\"><div class=\"sk-estimator sk-toggleable\"><input class=\"sk-toggleable__control sk-hidden--visually\" id=\"sk-estimator-id-4\" type=\"checkbox\" ><label for=\"sk-estimator-id-4\" class=\"sk-toggleable__label sk-toggleable__label-arrow\">XGBClassifier</label><div class=\"sk-toggleable__content\"><pre>XGBClassifier(base_score=None, booster=None, callbacks=None,\n",
       "              colsample_bylevel=None, colsample_bynode=None,\n",
       "              colsample_bytree=None, device=None, early_stopping_rounds=None,\n",
       "              enable_categorical=False, eval_metric=None, feature_types=None,\n",
       "              gamma=None, grow_policy=None, importance_type=None,\n",
       "              interaction_constraints=None, learning_rate=None, max_bin=None,\n",
       "              max_cat_threshold=None, max_cat_to_onehot=None,\n",
       "              max_delta_step=None, max_depth=None, max_leaves=None,\n",
       "              min_child_weight=None, missing=nan, monotone_constraints=None,\n",
       "              multi_strategy=None, n_estimators=None, n_jobs=None,\n",
       "              num_parallel_tree=None, random_state=None, ...)</pre></div></div></div></div></div></div></div></div></div></div>"
      ],
      "text/plain": [
       "GridSearchCV(cv=3,\n",
       "             estimator=XGBClassifier(base_score=None, booster=None,\n",
       "                                     callbacks=None, colsample_bylevel=None,\n",
       "                                     colsample_bynode=None,\n",
       "                                     colsample_bytree=None, device=None,\n",
       "                                     early_stopping_rounds=None,\n",
       "                                     enable_categorical=False, eval_metric=None,\n",
       "                                     feature_types=None, gamma=None,\n",
       "                                     grow_policy=None, importance_type=None,\n",
       "                                     interaction_constraints=None,\n",
       "                                     learning_rate=None,...\n",
       "                                     max_delta_step=None, max_depth=None,\n",
       "                                     max_leaves=None, min_child_weight=None,\n",
       "                                     missing=nan, monotone_constraints=None,\n",
       "                                     multi_strategy=None, n_estimators=None,\n",
       "                                     n_jobs=None, num_parallel_tree=None,\n",
       "                                     random_state=None, ...),\n",
       "             param_grid={'learning_rate': [0.01, 0.1, 0.2],\n",
       "                         'max_depth': [3, 5, 7],\n",
       "                         'n_estimators': [50, 100, 200]},\n",
       "             scoring=make_scorer(f1_score, average=binary), verbose=1)"
      ]
     },
     "execution_count": 14,
     "metadata": {},
     "output_type": "execute_result"
    }
   ],
   "source": [
    "# Create GridSearchCV object\n",
    "grid_search = GridSearchCV(estimator=xgb, param_grid=param_grid, cv=3, scoring=f1_scorer, verbose=1)\n",
    "# Fit the GridSearchCV object to the training data\n",
    "grid_search.fit(X_train, y_train)"
   ]
  },
  {
   "cell_type": "code",
   "execution_count": 15,
   "id": "26b6ec52-1639-4545-8eb4-5c9253be753f",
   "metadata": {},
   "outputs": [
    {
     "data": {
      "text/plain": [
       "{'learning_rate': 0.1, 'max_depth': 7, 'n_estimators': 200}"
      ]
     },
     "execution_count": 15,
     "metadata": {},
     "output_type": "execute_result"
    }
   ],
   "source": [
    "# Get the best parameters and the best score\n",
    "best_params = grid_search.best_params_\n",
    "best_params"
   ]
  },
  {
   "cell_type": "code",
   "execution_count": 16,
   "id": "4a2d69fc-a5ea-4def-b6f8-60cd71348f45",
   "metadata": {},
   "outputs": [
    {
     "data": {
      "text/plain": [
       "0.11611139393253767"
      ]
     },
     "execution_count": 16,
     "metadata": {},
     "output_type": "execute_result"
    }
   ],
   "source": [
    "best_score = grid_search.best_score_\n",
    "best_score"
   ]
  },
  {
   "cell_type": "code",
   "execution_count": 17,
   "id": "8520c8ff-3922-4bc0-b068-500b862d8520",
   "metadata": {
    "scrolled": true
   },
   "outputs": [
    {
     "data": {
      "text/html": [
       "<style>#sk-container-id-3 {color: black;background-color: white;}#sk-container-id-3 pre{padding: 0;}#sk-container-id-3 div.sk-toggleable {background-color: white;}#sk-container-id-3 label.sk-toggleable__label {cursor: pointer;display: block;width: 100%;margin-bottom: 0;padding: 0.3em;box-sizing: border-box;text-align: center;}#sk-container-id-3 label.sk-toggleable__label-arrow:before {content: \"▸\";float: left;margin-right: 0.25em;color: #696969;}#sk-container-id-3 label.sk-toggleable__label-arrow:hover:before {color: black;}#sk-container-id-3 div.sk-estimator:hover label.sk-toggleable__label-arrow:before {color: black;}#sk-container-id-3 div.sk-toggleable__content {max-height: 0;max-width: 0;overflow: hidden;text-align: left;background-color: #f0f8ff;}#sk-container-id-3 div.sk-toggleable__content pre {margin: 0.2em;color: black;border-radius: 0.25em;background-color: #f0f8ff;}#sk-container-id-3 input.sk-toggleable__control:checked~div.sk-toggleable__content {max-height: 200px;max-width: 100%;overflow: auto;}#sk-container-id-3 input.sk-toggleable__control:checked~label.sk-toggleable__label-arrow:before {content: \"▾\";}#sk-container-id-3 div.sk-estimator input.sk-toggleable__control:checked~label.sk-toggleable__label {background-color: #d4ebff;}#sk-container-id-3 div.sk-label input.sk-toggleable__control:checked~label.sk-toggleable__label {background-color: #d4ebff;}#sk-container-id-3 input.sk-hidden--visually {border: 0;clip: rect(1px 1px 1px 1px);clip: rect(1px, 1px, 1px, 1px);height: 1px;margin: -1px;overflow: hidden;padding: 0;position: absolute;width: 1px;}#sk-container-id-3 div.sk-estimator {font-family: monospace;background-color: #f0f8ff;border: 1px dotted black;border-radius: 0.25em;box-sizing: border-box;margin-bottom: 0.5em;}#sk-container-id-3 div.sk-estimator:hover {background-color: #d4ebff;}#sk-container-id-3 div.sk-parallel-item::after {content: \"\";width: 100%;border-bottom: 1px solid gray;flex-grow: 1;}#sk-container-id-3 div.sk-label:hover label.sk-toggleable__label {background-color: #d4ebff;}#sk-container-id-3 div.sk-serial::before {content: \"\";position: absolute;border-left: 1px solid gray;box-sizing: border-box;top: 0;bottom: 0;left: 50%;z-index: 0;}#sk-container-id-3 div.sk-serial {display: flex;flex-direction: column;align-items: center;background-color: white;padding-right: 0.2em;padding-left: 0.2em;position: relative;}#sk-container-id-3 div.sk-item {position: relative;z-index: 1;}#sk-container-id-3 div.sk-parallel {display: flex;align-items: stretch;justify-content: center;background-color: white;position: relative;}#sk-container-id-3 div.sk-item::before, #sk-container-id-3 div.sk-parallel-item::before {content: \"\";position: absolute;border-left: 1px solid gray;box-sizing: border-box;top: 0;bottom: 0;left: 50%;z-index: -1;}#sk-container-id-3 div.sk-parallel-item {display: flex;flex-direction: column;z-index: 1;position: relative;background-color: white;}#sk-container-id-3 div.sk-parallel-item:first-child::after {align-self: flex-end;width: 50%;}#sk-container-id-3 div.sk-parallel-item:last-child::after {align-self: flex-start;width: 50%;}#sk-container-id-3 div.sk-parallel-item:only-child::after {width: 0;}#sk-container-id-3 div.sk-dashed-wrapped {border: 1px dashed gray;margin: 0 0.4em 0.5em 0.4em;box-sizing: border-box;padding-bottom: 0.4em;background-color: white;}#sk-container-id-3 div.sk-label label {font-family: monospace;font-weight: bold;display: inline-block;line-height: 1.2em;}#sk-container-id-3 div.sk-label-container {text-align: center;}#sk-container-id-3 div.sk-container {/* jupyter's `normalize.less` sets `[hidden] { display: none; }` but bootstrap.min.css set `[hidden] { display: none !important; }` so we also need the `!important` here to be able to override the default hidden behavior on the sphinx rendered scikit-learn.org. See: https://github.com/scikit-learn/scikit-learn/issues/21755 */display: inline-block !important;position: relative;}#sk-container-id-3 div.sk-text-repr-fallback {display: none;}</style><div id=\"sk-container-id-3\" class=\"sk-top-container\"><div class=\"sk-text-repr-fallback\"><pre>XGBClassifier(base_score=None, booster=None, callbacks=None,\n",
       "              colsample_bylevel=None, colsample_bynode=None,\n",
       "              colsample_bytree=None, device=None, early_stopping_rounds=None,\n",
       "              enable_categorical=False, eval_metric=None, feature_types=None,\n",
       "              gamma=None, grow_policy=None, importance_type=None,\n",
       "              interaction_constraints=None, learning_rate=0.1, max_bin=None,\n",
       "              max_cat_threshold=None, max_cat_to_onehot=None,\n",
       "              max_delta_step=None, max_depth=7, max_leaves=None,\n",
       "              min_child_weight=None, missing=nan, monotone_constraints=None,\n",
       "              multi_strategy=None, n_estimators=200, n_jobs=None,\n",
       "              num_parallel_tree=None, random_state=None, ...)</pre><b>In a Jupyter environment, please rerun this cell to show the HTML representation or trust the notebook. <br />On GitHub, the HTML representation is unable to render, please try loading this page with nbviewer.org.</b></div><div class=\"sk-container\" hidden><div class=\"sk-item\"><div class=\"sk-estimator sk-toggleable\"><input class=\"sk-toggleable__control sk-hidden--visually\" id=\"sk-estimator-id-5\" type=\"checkbox\" checked><label for=\"sk-estimator-id-5\" class=\"sk-toggleable__label sk-toggleable__label-arrow\">XGBClassifier</label><div class=\"sk-toggleable__content\"><pre>XGBClassifier(base_score=None, booster=None, callbacks=None,\n",
       "              colsample_bylevel=None, colsample_bynode=None,\n",
       "              colsample_bytree=None, device=None, early_stopping_rounds=None,\n",
       "              enable_categorical=False, eval_metric=None, feature_types=None,\n",
       "              gamma=None, grow_policy=None, importance_type=None,\n",
       "              interaction_constraints=None, learning_rate=0.1, max_bin=None,\n",
       "              max_cat_threshold=None, max_cat_to_onehot=None,\n",
       "              max_delta_step=None, max_depth=7, max_leaves=None,\n",
       "              min_child_weight=None, missing=nan, monotone_constraints=None,\n",
       "              multi_strategy=None, n_estimators=200, n_jobs=None,\n",
       "              num_parallel_tree=None, random_state=None, ...)</pre></div></div></div></div></div>"
      ],
      "text/plain": [
       "XGBClassifier(base_score=None, booster=None, callbacks=None,\n",
       "              colsample_bylevel=None, colsample_bynode=None,\n",
       "              colsample_bytree=None, device=None, early_stopping_rounds=None,\n",
       "              enable_categorical=False, eval_metric=None, feature_types=None,\n",
       "              gamma=None, grow_policy=None, importance_type=None,\n",
       "              interaction_constraints=None, learning_rate=0.1, max_bin=None,\n",
       "              max_cat_threshold=None, max_cat_to_onehot=None,\n",
       "              max_delta_step=None, max_depth=7, max_leaves=None,\n",
       "              min_child_weight=None, missing=nan, monotone_constraints=None,\n",
       "              multi_strategy=None, n_estimators=200, n_jobs=None,\n",
       "              num_parallel_tree=None, random_state=None, ...)"
      ]
     },
     "execution_count": 17,
     "metadata": {},
     "output_type": "execute_result"
    }
   ],
   "source": [
    "best_model = grid_search.best_estimator_\n",
    "best_model"
   ]
  },
  {
   "cell_type": "code",
   "execution_count": 18,
   "id": "343d96aa",
   "metadata": {},
   "outputs": [],
   "source": [
    "# evaluation over test"
   ]
  },
  {
   "cell_type": "code",
   "execution_count": 19,
   "id": "ba2544c0-81a2-4faa-b8ed-7324bfc1314b",
   "metadata": {},
   "outputs": [
    {
     "data": {
      "text/plain": [
       "array([0, 0, 0, ..., 0, 0, 0])"
      ]
     },
     "execution_count": 19,
     "metadata": {},
     "output_type": "execute_result"
    }
   ],
   "source": [
    "# Make predictions with the best model\n",
    "y_pred_grid = best_model.predict(X_test)\n",
    "y_pred_grid"
   ]
  },
  {
   "cell_type": "code",
   "execution_count": 20,
   "id": "576268ea-c0c0-4eb2-94cc-c84ccd520cae",
   "metadata": {},
   "outputs": [
    {
     "data": {
      "text/plain": [
       "0.976250952501905"
      ]
     },
     "execution_count": 20,
     "metadata": {},
     "output_type": "execute_result"
    }
   ],
   "source": [
    "# Calculate accuracy \n",
    "accuracy_grid = accuracy_score(y_test, y_pred_grid)\n",
    "accuracy_grid"
   ]
  },
  {
   "cell_type": "code",
   "execution_count": 21,
   "id": "c316a84f-290d-4876-969b-e90038e74b51",
   "metadata": {},
   "outputs": [
    {
     "data": {
      "text/plain": [
       "0.10526315789473684"
      ]
     },
     "execution_count": 21,
     "metadata": {},
     "output_type": "execute_result"
    }
   ],
   "source": [
    "# Calculate f1 score\n",
    "f1 = f1_score(y_test, y_pred_grid)\n",
    "f1"
   ]
  },
  {
   "cell_type": "code",
   "execution_count": 23,
   "id": "0312e46f-075b-4271-8f19-a14ab7bea0a2",
   "metadata": {},
   "outputs": [
    {
     "data": {
      "image/png": "[encoded data removed]",
      "text/plain": [
       "<Figure size 640x480 with 2 Axes>"
      ]
     },
     "metadata": {},
     "output_type": "display_data"
    }
   ],
   "source": [
    "# confusion matrix \n",
    "cm = confusion_matrix(y_test, y_pred_grid)\n",
    "disp = ConfusionMatrixDisplay(confusion_matrix=cm)\n",
    "disp.plot()\n",
    "\n",
    "# Adding a title\n",
    "plt.title('XGBoost Classifier with GridSearch');"
   ]
  },
  {
   "cell_type": "markdown",
   "id": "5ec346fc-3e38-4a88-ae9d-e78a77a50e9f",
   "metadata": {},
   "source": [
    "#### Define a function to evaluate different models "
   ]
  },
  {
   "cell_type": "code",
   "execution_count": 28,
   "id": "61c672b8",
   "metadata": {},
   "outputs": [],
   "source": [
    "X_train, X_test, y_train, y_test = train_test_split(X, y, test_size=0.3, random_state=42)"
   ]
  },
  {
   "cell_type": "code",
   "execution_count": 29,
   "id": "86ab0108",
   "metadata": {},
   "outputs": [],
   "source": [
    "def evaluate_models(X_train, y_train, X_test, y_test, target_rate=None, models_params=None):       # option to downsample negative intances to balance the data and customize grid search parameters. \n",
    "    # if target_rate is specified, downsample the negative instances to balance the classes \n",
    "    if target_rate is not None:\n",
    "        positives = X_train[y_train == 1]\n",
    "        negatives = X_train[y_train == 0]\n",
    "        n_samples = target_rate * len(positives)\n",
    "        # randomly sample negative instances to match the target rate\n",
    "        negatives_downsampled = negatives.sample(n=min(n_samples, len(negatives)), random_state=42)\n",
    "        # combine positive and downsampled negative instances \n",
    "        X_train_balanced = pd.concat([positives, negatives_downsampled])\n",
    "        y_train_balanced = y_train.loc[X_train_balanced.index]\n",
    "        # shuffle the balanced dataset to ensure that the order does not bias the training process\n",
    "        X_train_balanced, y_train_balanced = shuffle(X_train_balanced, y_train_balanced, random_state=42)\n",
    "    else:   # if targer_rate is not specified, use the original distribution \n",
    "        X_train_balanced, y_train_balanced = X_train, y_train\n",
    "        target_rate = 'Original distribution'\n",
    "\n",
    "    # Default models and parameters if none are provided\n",
    "    if models_params is None:\n",
    "        models_params = {\n",
    "            'XGBClassifier': {\n",
    "                'model': XGBClassifier(),\n",
    "                'params': {'n_estimators': [100, 200], 'max_depth': [3, 5], 'learning_rate': [0.1, 0.2]},\n",
    "            },\n",
    "            'RandomForestClassifier': {\n",
    "                'model': RandomForestClassifier(),\n",
    "                'params': {'n_estimators': [100, 200], 'max_depth': [10, 20]},\n",
    "            },\n",
    "            'CatBoostClassifier': {\n",
    "                'model': CatBoostClassifier(verbose=0),\n",
    "                'params': {'iterations': [100, 200], 'depth': [4, 6], 'learning_rate': [0.1, 0.2]},\n",
    "            }\n",
    "        }\n",
    "\n",
    "    results = []\n",
    "    \n",
    "    # Evaluate f1 score\n",
    "    f1_scorer = make_scorer(f1_score, average='binary')\n",
    "\n",
    "    # iterate over each model and perform grid search and cross-validation \n",
    "    for model_name, config in models_params.items():\n",
    "        grid_search = GridSearchCV(estimator=config['model'], param_grid=config['params'], cv=3, scoring=f1_scorer, verbose=1)\n",
    "        grid_search.fit(X_train_balanced, y_train_balanced)\n",
    "        best_model = grid_search.best_estimator_\n",
    "        # make predictions on the test set using the best model \n",
    "        y_pred = best_model.predict(X_test)\n",
    "        # calculate f1 score\n",
    "        f1 = f1_score(y_test, y_pred)\n",
    "\n",
    "        # append results for the current model to the results list \n",
    "        results.append({\n",
    "            'Model': model_name,\n",
    "            'F1 Score': f1,\n",
    "            'Target Rate Used': target_rate,\n",
    "            'Best Parameters': grid_search.best_params_,\n",
    "            'Best Model': best_model\n",
    "        })\n",
    "\n",
    "    return results"
   ]
  },
  {
   "cell_type": "code",
   "execution_count": 31,
   "id": "d240e76c",
   "metadata": {},
   "outputs": [
    {
     "name": "stdout",
     "output_type": "stream",
     "text": [
      "Testing models with target ratio: 20\n",
      "Fitting 3 folds for each of 8 candidates, totalling 24 fits\n",
      "Fitting 3 folds for each of 4 candidates, totalling 12 fits\n",
      "Fitting 3 folds for each of 8 candidates, totalling 24 fits\n",
      "Result for XGBClassifier at ratio 20: F1 Score = 0.33139534883720934\n",
      "Result for RandomForestClassifier at ratio 20: F1 Score = 0.2916666666666667\n",
      "Result for CatBoostClassifier at ratio 20: F1 Score = 0.2881844380403458\n",
      "Testing models with target ratio: 15\n",
      "Fitting 3 folds for each of 8 candidates, totalling 24 fits\n",
      "Fitting 3 folds for each of 4 candidates, totalling 12 fits\n",
      "Fitting 3 folds for each of 8 candidates, totalling 24 fits\n",
      "Result for XGBClassifier at ratio 15: F1 Score = 0.3399014778325123\n",
      "Result for RandomForestClassifier at ratio 15: F1 Score = 0.3504043126684636\n",
      "Result for CatBoostClassifier at ratio 15: F1 Score = 0.34010152284263956\n",
      "Testing models with target ratio: 10\n",
      "Fitting 3 folds for each of 8 candidates, totalling 24 fits\n",
      "Fitting 3 folds for each of 4 candidates, totalling 12 fits\n",
      "Fitting 3 folds for each of 8 candidates, totalling 24 fits\n",
      "Result for XGBClassifier at ratio 10: F1 Score = 0.3562152133580705\n",
      "Result for RandomForestClassifier at ratio 10: F1 Score = 0.37241379310344824\n",
      "Result for CatBoostClassifier at ratio 10: F1 Score = 0.3805668016194332\n",
      "Testing models with target ratio: 5\n",
      "Fitting 3 folds for each of 8 candidates, totalling 24 fits\n",
      "Fitting 3 folds for each of 4 candidates, totalling 12 fits\n",
      "Fitting 3 folds for each of 8 candidates, totalling 24 fits\n",
      "Result for XGBClassifier at ratio 5: F1 Score = 0.31770833333333337\n",
      "Result for RandomForestClassifier at ratio 5: F1 Score = 0.34678624813153963\n",
      "Result for CatBoostClassifier at ratio 5: F1 Score = 0.35868005738880915\n",
      "Testing models with target ratio: None\n",
      "Fitting 3 folds for each of 8 candidates, totalling 24 fits\n",
      "Fitting 3 folds for each of 4 candidates, totalling 12 fits\n",
      "Fitting 3 folds for each of 8 candidates, totalling 24 fits\n",
      "Result for XGBClassifier at ratio None: F1 Score = 0.14018691588785046\n",
      "Result for RandomForestClassifier at ratio None: F1 Score = 0.0223463687150838\n",
      "Result for CatBoostClassifier at ratio None: F1 Score = 0.10426540284360189\n",
      "                     Model  F1 Score       Target Rate Used  \\\n",
      "8       CatBoostClassifier  0.380567                     10   \n",
      "7   RandomForestClassifier  0.372414                     10   \n",
      "11      CatBoostClassifier  0.358680                      5   \n",
      "6            XGBClassifier  0.356215                     10   \n",
      "4   RandomForestClassifier  0.350404                     15   \n",
      "10  RandomForestClassifier  0.346786                      5   \n",
      "5       CatBoostClassifier  0.340102                     15   \n",
      "3            XGBClassifier  0.339901                     15   \n",
      "0            XGBClassifier  0.331395                     20   \n",
      "9            XGBClassifier  0.317708                      5   \n",
      "1   RandomForestClassifier  0.291667                     20   \n",
      "2       CatBoostClassifier  0.288184                     20   \n",
      "12           XGBClassifier  0.140187  Original distribution   \n",
      "14      CatBoostClassifier  0.104265  Original distribution   \n",
      "13  RandomForestClassifier  0.022346  Original distribution   \n",
      "\n",
      "                                      Best Parameters  \\\n",
      "8   {'depth': 4, 'iterations': 100, 'learning_rate...   \n",
      "7              {'max_depth': 20, 'n_estimators': 200}   \n",
      "11  {'depth': 4, 'iterations': 100, 'learning_rate...   \n",
      "6   {'learning_rate': 0.2, 'max_depth': 3, 'n_esti...   \n",
      "4              {'max_depth': 10, 'n_estimators': 200}   \n",
      "10             {'max_depth': 10, 'n_estimators': 100}   \n",
      "5   {'depth': 4, 'iterations': 100, 'learning_rate...   \n",
      "3   {'learning_rate': 0.2, 'max_depth': 3, 'n_esti...   \n",
      "0   {'learning_rate': 0.2, 'max_depth': 3, 'n_esti...   \n",
      "9   {'learning_rate': 0.2, 'max_depth': 3, 'n_esti...   \n",
      "1              {'max_depth': 10, 'n_estimators': 100}   \n",
      "2   {'depth': 4, 'iterations': 200, 'learning_rate...   \n",
      "12  {'learning_rate': 0.2, 'max_depth': 3, 'n_esti...   \n",
      "14  {'depth': 4, 'iterations': 100, 'learning_rate...   \n",
      "13             {'max_depth': 20, 'n_estimators': 100}   \n",
      "\n",
      "                                           Best Model  Target Ratio  \n",
      "8   <catboost.core.CatBoostClassifier object at 0x...          10.0  \n",
      "7   (DecisionTreeClassifier(max_depth=20, max_feat...          10.0  \n",
      "11  <catboost.core.CatBoostClassifier object at 0x...           5.0  \n",
      "6   XGBClassifier(base_score=None, booster=None, c...          10.0  \n",
      "4   (DecisionTreeClassifier(max_depth=10, max_feat...          15.0  \n",
      "10  (DecisionTreeClassifier(max_depth=10, max_feat...           5.0  \n",
      "5   <catboost.core.CatBoostClassifier object at 0x...          15.0  \n",
      "3   XGBClassifier(base_score=None, booster=None, c...          15.0  \n",
      "0   XGBClassifier(base_score=None, booster=None, c...          20.0  \n",
      "9   XGBClassifier(base_score=None, booster=None, c...           5.0  \n",
      "1   (DecisionTreeClassifier(max_depth=10, max_feat...          20.0  \n",
      "2   <catboost.core.CatBoostClassifier object at 0x...          20.0  \n",
      "12  XGBClassifier(base_score=None, booster=None, c...           NaN  \n",
      "14  <catboost.core.CatBoostClassifier object at 0x...           NaN  \n",
      "13  (DecisionTreeClassifier(max_depth=20, max_feat...           NaN  \n",
      "Best Model Details: {'Model': 'CatBoostClassifier', 'F1 Score': 0.3805668016194332, 'Target Rate Used': 10, 'Best Parameters': {'depth': 4, 'iterations': 100, 'learning_rate': 0.1}, 'Best Model': <catboost.core.CatBoostClassifier object at 0x0000029227EA94D0>, 'Target Ratio': 10}\n"
     ]
    }
   ],
   "source": [
    "# List of target ratios to test\n",
    "target_ratios = [\n",
    "                 20,\n",
    "                 15, \n",
    "                 10, \n",
    "                 5, \n",
    "                 None]\n",
    "\n",
    "# List to store the results from all models and ratios\n",
    "all_results = []\n",
    "best_f1 = 0\n",
    "best_model = None\n",
    "best_model_details = None\n",
    "\n",
    "# Loop through each target ratio\n",
    "for ratio in target_ratios:\n",
    "    print(f\"Testing models with target ratio: {ratio}\")\n",
    "    results = evaluate_models(X_train, y_train, X_test, y_test, target_rate=ratio)\n",
    "    \n",
    "    # Append each result with its corresponding ratio\n",
    "    for result in results:\n",
    "        result['Target Ratio'] = ratio  # Add the target ratio to the results\n",
    "        all_results.append(result)\n",
    "        print(f\"Result for {result['Model']} at ratio {ratio}: F1 Score = {result['F1 Score']}\")\n",
    "\n",
    "        # Track the best model across all types and ratios\n",
    "        if result['F1 Score'] > best_f1:\n",
    "            best_f1 = result['F1 Score']\n",
    "            best_model = result['Best Model']   # store the best model \n",
    "            best_model_details = result     # store details about the best model \n",
    "\n",
    "# Convert the all_results list to a DataFrame\n",
    "results_df = pd.DataFrame(all_results)\n",
    "\n",
    "# Sort the DataFrame by F1 Score in descending order\n",
    "sorted_results_df = results_df.sort_values(by='F1 Score', ascending=False)\n",
    "\n",
    "# Print the sorted DataFrame\n",
    "print(sorted_results_df)\n",
    "\n",
    "# Print the best model details\n",
    "print(f\"Best Model Details: {best_model_details}\")\n"
   ]
  },
  {
   "cell_type": "code",
   "execution_count": 32,
   "id": "bb0ef72e",
   "metadata": {},
   "outputs": [
    {
     "data": {
      "text/html": [
       "<div>\n",
       "<style scoped>\n",
       "    .dataframe tbody tr th:only-of-type {\n",
       "        vertical-align: middle;\n",
       "    }\n",
       "\n",
       "    .dataframe tbody tr th {\n",
       "        vertical-align: top;\n",
       "    }\n",
       "\n",
       "    .dataframe thead th {\n",
       "        text-align: right;\n",
       "    }\n",
       "</style>\n",
       "<table border=\"1\" class=\"dataframe\">\n",
       "  <thead>\n",
       "    <tr style=\"text-align: right;\">\n",
       "      <th></th>\n",
       "      <th>Model</th>\n",
       "      <th>F1 Score</th>\n",
       "      <th>Target Rate Used</th>\n",
       "      <th>Best Parameters</th>\n",
       "      <th>Best Model</th>\n",
       "      <th>Target Ratio</th>\n",
       "    </tr>\n",
       "  </thead>\n",
       "  <tbody>\n",
       "    <tr>\n",
       "      <th>8</th>\n",
       "      <td>CatBoostClassifier</td>\n",
       "      <td>0.380567</td>\n",
       "      <td>10</td>\n",
       "      <td>{'depth': 4, 'iterations': 100, 'learning_rate...</td>\n",
       "      <td>&lt;catboost.core.CatBoostClassifier object at 0x...</td>\n",
       "      <td>10.0</td>\n",
       "    </tr>\n",
       "    <tr>\n",
       "      <th>7</th>\n",
       "      <td>RandomForestClassifier</td>\n",
       "      <td>0.372414</td>\n",
       "      <td>10</td>\n",
       "      <td>{'max_depth': 20, 'n_estimators': 200}</td>\n",
       "      <td>(DecisionTreeClassifier(max_depth=20, max_feat...</td>\n",
       "      <td>10.0</td>\n",
       "    </tr>\n",
       "    <tr>\n",
       "      <th>11</th>\n",
       "      <td>CatBoostClassifier</td>\n",
       "      <td>0.358680</td>\n",
       "      <td>5</td>\n",
       "      <td>{'depth': 4, 'iterations': 100, 'learning_rate...</td>\n",
       "      <td>&lt;catboost.core.CatBoostClassifier object at 0x...</td>\n",
       "      <td>5.0</td>\n",
       "    </tr>\n",
       "    <tr>\n",
       "      <th>6</th>\n",
       "      <td>XGBClassifier</td>\n",
       "      <td>0.356215</td>\n",
       "      <td>10</td>\n",
       "      <td>{'learning_rate': 0.2, 'max_depth': 3, 'n_esti...</td>\n",
       "      <td>XGBClassifier(base_score=None, booster=None, c...</td>\n",
       "      <td>10.0</td>\n",
       "    </tr>\n",
       "    <tr>\n",
       "      <th>4</th>\n",
       "      <td>RandomForestClassifier</td>\n",
       "      <td>0.350404</td>\n",
       "      <td>15</td>\n",
       "      <td>{'max_depth': 10, 'n_estimators': 200}</td>\n",
       "      <td>(DecisionTreeClassifier(max_depth=10, max_feat...</td>\n",
       "      <td>15.0</td>\n",
       "    </tr>\n",
       "    <tr>\n",
       "      <th>10</th>\n",
       "      <td>RandomForestClassifier</td>\n",
       "      <td>0.346786</td>\n",
       "      <td>5</td>\n",
       "      <td>{'max_depth': 10, 'n_estimators': 100}</td>\n",
       "      <td>(DecisionTreeClassifier(max_depth=10, max_feat...</td>\n",
       "      <td>5.0</td>\n",
       "    </tr>\n",
       "    <tr>\n",
       "      <th>5</th>\n",
       "      <td>CatBoostClassifier</td>\n",
       "      <td>0.340102</td>\n",
       "      <td>15</td>\n",
       "      <td>{'depth': 4, 'iterations': 100, 'learning_rate...</td>\n",
       "      <td>&lt;catboost.core.CatBoostClassifier object at 0x...</td>\n",
       "      <td>15.0</td>\n",
       "    </tr>\n",
       "    <tr>\n",
       "      <th>3</th>\n",
       "      <td>XGBClassifier</td>\n",
       "      <td>0.339901</td>\n",
       "      <td>15</td>\n",
       "      <td>{'learning_rate': 0.2, 'max_depth': 3, 'n_esti...</td>\n",
       "      <td>XGBClassifier(base_score=None, booster=None, c...</td>\n",
       "      <td>15.0</td>\n",
       "    </tr>\n",
       "    <tr>\n",
       "      <th>0</th>\n",
       "      <td>XGBClassifier</td>\n",
       "      <td>0.331395</td>\n",
       "      <td>20</td>\n",
       "      <td>{'learning_rate': 0.2, 'max_depth': 3, 'n_esti...</td>\n",
       "      <td>XGBClassifier(base_score=None, booster=None, c...</td>\n",
       "      <td>20.0</td>\n",
       "    </tr>\n",
       "    <tr>\n",
       "      <th>9</th>\n",
       "      <td>XGBClassifier</td>\n",
       "      <td>0.317708</td>\n",
       "      <td>5</td>\n",
       "      <td>{'learning_rate': 0.2, 'max_depth': 3, 'n_esti...</td>\n",
       "      <td>XGBClassifier(base_score=None, booster=None, c...</td>\n",
       "      <td>5.0</td>\n",
       "    </tr>\n",
       "    <tr>\n",
       "      <th>1</th>\n",
       "      <td>RandomForestClassifier</td>\n",
       "      <td>0.291667</td>\n",
       "      <td>20</td>\n",
       "      <td>{'max_depth': 10, 'n_estimators': 100}</td>\n",
       "      <td>(DecisionTreeClassifier(max_depth=10, max_feat...</td>\n",
       "      <td>20.0</td>\n",
       "    </tr>\n",
       "    <tr>\n",
       "      <th>2</th>\n",
       "      <td>CatBoostClassifier</td>\n",
       "      <td>0.288184</td>\n",
       "      <td>20</td>\n",
       "      <td>{'depth': 4, 'iterations': 200, 'learning_rate...</td>\n",
       "      <td>&lt;catboost.core.CatBoostClassifier object at 0x...</td>\n",
       "      <td>20.0</td>\n",
       "    </tr>\n",
       "    <tr>\n",
       "      <th>12</th>\n",
       "      <td>XGBClassifier</td>\n",
       "      <td>0.140187</td>\n",
       "      <td>Original distribution</td>\n",
       "      <td>{'learning_rate': 0.2, 'max_depth': 3, 'n_esti...</td>\n",
       "      <td>XGBClassifier(base_score=None, booster=None, c...</td>\n",
       "      <td>NaN</td>\n",
       "    </tr>\n",
       "    <tr>\n",
       "      <th>14</th>\n",
       "      <td>CatBoostClassifier</td>\n",
       "      <td>0.104265</td>\n",
       "      <td>Original distribution</td>\n",
       "      <td>{'depth': 4, 'iterations': 100, 'learning_rate...</td>\n",
       "      <td>&lt;catboost.core.CatBoostClassifier object at 0x...</td>\n",
       "      <td>NaN</td>\n",
       "    </tr>\n",
       "    <tr>\n",
       "      <th>13</th>\n",
       "      <td>RandomForestClassifier</td>\n",
       "      <td>0.022346</td>\n",
       "      <td>Original distribution</td>\n",
       "      <td>{'max_depth': 20, 'n_estimators': 100}</td>\n",
       "      <td>(DecisionTreeClassifier(max_depth=20, max_feat...</td>\n",
       "      <td>NaN</td>\n",
       "    </tr>\n",
       "  </tbody>\n",
       "</table>\n",
       "</div>"
      ],
      "text/plain": [
       "                     Model  F1 Score       Target Rate Used  \\\n",
       "8       CatBoostClassifier  0.380567                     10   \n",
       "7   RandomForestClassifier  0.372414                     10   \n",
       "11      CatBoostClassifier  0.358680                      5   \n",
       "6            XGBClassifier  0.356215                     10   \n",
       "4   RandomForestClassifier  0.350404                     15   \n",
       "10  RandomForestClassifier  0.346786                      5   \n",
       "5       CatBoostClassifier  0.340102                     15   \n",
       "3            XGBClassifier  0.339901                     15   \n",
       "0            XGBClassifier  0.331395                     20   \n",
       "9            XGBClassifier  0.317708                      5   \n",
       "1   RandomForestClassifier  0.291667                     20   \n",
       "2       CatBoostClassifier  0.288184                     20   \n",
       "12           XGBClassifier  0.140187  Original distribution   \n",
       "14      CatBoostClassifier  0.104265  Original distribution   \n",
       "13  RandomForestClassifier  0.022346  Original distribution   \n",
       "\n",
       "                                      Best Parameters  \\\n",
       "8   {'depth': 4, 'iterations': 100, 'learning_rate...   \n",
       "7              {'max_depth': 20, 'n_estimators': 200}   \n",
       "11  {'depth': 4, 'iterations': 100, 'learning_rate...   \n",
       "6   {'learning_rate': 0.2, 'max_depth': 3, 'n_esti...   \n",
       "4              {'max_depth': 10, 'n_estimators': 200}   \n",
       "10             {'max_depth': 10, 'n_estimators': 100}   \n",
       "5   {'depth': 4, 'iterations': 100, 'learning_rate...   \n",
       "3   {'learning_rate': 0.2, 'max_depth': 3, 'n_esti...   \n",
       "0   {'learning_rate': 0.2, 'max_depth': 3, 'n_esti...   \n",
       "9   {'learning_rate': 0.2, 'max_depth': 3, 'n_esti...   \n",
       "1              {'max_depth': 10, 'n_estimators': 100}   \n",
       "2   {'depth': 4, 'iterations': 200, 'learning_rate...   \n",
       "12  {'learning_rate': 0.2, 'max_depth': 3, 'n_esti...   \n",
       "14  {'depth': 4, 'iterations': 100, 'learning_rate...   \n",
       "13             {'max_depth': 20, 'n_estimators': 100}   \n",
       "\n",
       "                                           Best Model  Target Ratio  \n",
       "8   <catboost.core.CatBoostClassifier object at 0x...          10.0  \n",
       "7   (DecisionTreeClassifier(max_depth=20, max_feat...          10.0  \n",
       "11  <catboost.core.CatBoostClassifier object at 0x...           5.0  \n",
       "6   XGBClassifier(base_score=None, booster=None, c...          10.0  \n",
       "4   (DecisionTreeClassifier(max_depth=10, max_feat...          15.0  \n",
       "10  (DecisionTreeClassifier(max_depth=10, max_feat...           5.0  \n",
       "5   <catboost.core.CatBoostClassifier object at 0x...          15.0  \n",
       "3   XGBClassifier(base_score=None, booster=None, c...          15.0  \n",
       "0   XGBClassifier(base_score=None, booster=None, c...          20.0  \n",
       "9   XGBClassifier(base_score=None, booster=None, c...           5.0  \n",
       "1   (DecisionTreeClassifier(max_depth=10, max_feat...          20.0  \n",
       "2   <catboost.core.CatBoostClassifier object at 0x...          20.0  \n",
       "12  XGBClassifier(base_score=None, booster=None, c...           NaN  \n",
       "14  <catboost.core.CatBoostClassifier object at 0x...           NaN  \n",
       "13  (DecisionTreeClassifier(max_depth=20, max_feat...           NaN  "
      ]
     },
     "execution_count": 32,
     "metadata": {},
     "output_type": "execute_result"
    }
   ],
   "source": [
    "sorted_results_df"
   ]
  },
  {
   "cell_type": "markdown",
   "id": "cc20e84e-c98a-48c2-9bb7-c0d721ce8c79",
   "metadata": {},
   "source": [
    "The best performing model is a Catboost model with a target ratio of 10 (downsampling of classes 10:1) and the following parameters: 'depth': 4, 'iterations': 100, 'learning_rate': 0.1"
   ]
  },
  {
   "cell_type": "code",
   "execution_count": null,
   "id": "f729d396-d6db-49e8-a6b1-e32c3985cb7a",
   "metadata": {
    "scrolled": true
   },
   "outputs": [
    {
     "data": {
      "application/vnd.plotly.v1+json": {
       "config": {
        "plotlyServerURL": "https://plot.ly"
       },
       "data": [
        {
         "alignmentgroup": "True",
         "hovertemplate": "Model=CatBoostClassifier<br>Target Ratio=%{x}<br>F1 Score=%{text}<extra></extra>",
         "legendgroup": "CatBoostClassifier",
         "marker": {
          "color": "#636efa",
          "line": {
           "color": "white",
           "width": 2
          },
          "pattern": {
           "shape": ""
          }
         },
         "name": "CatBoostClassifier",
         "offsetgroup": "CatBoostClassifier",
         "orientation": "v",
         "showlegend": true,
         "text": [
          0.35868,
          0.380567,
          0.340102,
          0.288184,
          0.104265
         ],
         "textposition": "outside",
         "texttemplate": "%{text:.3f}",
         "type": "bar",
         "x": [
          "5.0",
          "10.0",
          "15.0",
          "20.0",
          "raw"
         ],
         "xaxis": "x",
         "y": [
          0.35868,
          0.380567,
          0.340102,
          0.288184,
          0.104265
         ],
         "yaxis": "y"
        },
        {
         "alignmentgroup": "True",
         "hovertemplate": "Model=RandomForestClassifier<br>Target Ratio=%{x}<br>F1 Score=%{text}<extra></extra>",
         "legendgroup": "RandomForestClassifier",
         "marker": {
          "color": "#EF553B",
          "line": {
           "color": "white",
           "width": 2
          },
          "pattern": {
           "shape": ""
          }
         },
         "name": "RandomForestClassifier",
         "offsetgroup": "RandomForestClassifier",
         "orientation": "v",
         "showlegend": true,
         "text": [
          0.349304,
          0.372294,
          0.363636,
          0.276817,
          0.022222
         ],
         "textposition": "outside",
         "texttemplate": "%{text:.3f}",
         "type": "bar",
         "x": [
          "5.0",
          "10.0",
          "15.0",
          "20.0",
          "raw"
         ],
         "xaxis": "x",
         "y": [
          0.349304,
          0.372294,
          0.363636,
          0.276817,
          0.022222
         ],
         "yaxis": "y"
        },
        {
         "alignmentgroup": "True",
         "hovertemplate": "Model=XGBClassifier<br>Target Ratio=%{x}<br>F1 Score=%{text}<extra></extra>",
         "legendgroup": "XGBClassifier",
         "marker": {
          "color": "#00cc96",
          "line": {
           "color": "white",
           "width": 2
          },
          "pattern": {
           "shape": ""
          }
         },
         "name": "XGBClassifier",
         "offsetgroup": "XGBClassifier",
         "orientation": "v",
         "showlegend": true,
         "text": [
          0.317708,
          0.356215,
          0.339901,
          0.331395,
          0.140187
         ],
         "textposition": "outside",
         "texttemplate": "%{text:.3f}",
         "type": "bar",
         "x": [
          "5.0",
          "10.0",
          "15.0",
          "20.0",
          "raw"
         ],
         "xaxis": "x",
         "y": [
          0.317708,
          0.356215,
          0.339901,
          0.331395,
          0.140187
         ],
         "yaxis": "y"
        }
       ],
       "layout": {
        "barmode": "group",
        "height": 600,
        "legend": {
         "title": {
          "text": "Model Type"
         },
         "tracegroupgap": 0
        },
        "template": {
         "data": {
          "bar": [
           {
            "error_x": {
             "color": "#2a3f5f"
            },
            "error_y": {
             "color": "#2a3f5f"
            },
            "marker": {
             "line": {
              "color": "white",
              "width": 0.5
             },
             "pattern": {
              "fillmode": "overlay",
              "size": 10,
              "solidity": 0.2
             }
            },
            "type": "bar"
           }
          ],
          "barpolar": [
           {
            "marker": {
             "line": {
              "color": "white",
              "width": 0.5
             },
             "pattern": {
              "fillmode": "overlay",
              "size": 10,
              "solidity": 0.2
             }
            },
            "type": "barpolar"
           }
          ],
          "carpet": [
           {
            "aaxis": {
             "endlinecolor": "#2a3f5f",
             "gridcolor": "#C8D4E3",
             "linecolor": "#C8D4E3",
             "minorgridcolor": "#C8D4E3",
             "startlinecolor": "#2a3f5f"
            },
            "baxis": {
             "endlinecolor": "#2a3f5f",
             "gridcolor": "#C8D4E3",
             "linecolor": "#C8D4E3",
             "minorgridcolor": "#C8D4E3",
             "startlinecolor": "#2a3f5f"
            },
            "type": "carpet"
           }
          ],
          "choropleth": [
           {
            "colorbar": {
             "outlinewidth": 0,
             "ticks": ""
            },
            "type": "choropleth"
           }
          ],
          "contour": [
           {
            "colorbar": {
             "outlinewidth": 0,
             "ticks": ""
            },
            "colorscale": [
             [
              0,
              "#0d0887"
             ],
             [
              0.1111111111111111,
              "#46039f"
             ],
             [
              0.2222222222222222,
              "#7201a8"
             ],
             [
              0.3333333333333333,
              "#9c179e"
             ],
             [
              0.4444444444444444,
              "#bd3786"
             ],
             [
              0.5555555555555556,
              "#d8576b"
             ],
             [
              0.6666666666666666,
              "#ed7953"
             ],
             [
              0.7777777777777778,
              "#fb9f3a"
             ],
             [
              0.8888888888888888,
              "#fdca26"
             ],
             [
              1,
              "#f0f921"
             ]
            ],
            "type": "contour"
           }
          ],
          "contourcarpet": [
           {
            "colorbar": {
             "outlinewidth": 0,
             "ticks": ""
            },
            "type": "contourcarpet"
           }
          ],
          "heatmap": [
           {
            "colorbar": {
             "outlinewidth": 0,
             "ticks": ""
            },
            "colorscale": [
             [
              0,
              "#0d0887"
             ],
             [
              0.1111111111111111,
              "#46039f"
             ],
             [
              0.2222222222222222,
              "#7201a8"
             ],
             [
              0.3333333333333333,
              "#9c179e"
             ],
             [
              0.4444444444444444,
              "#bd3786"
             ],
             [
              0.5555555555555556,
              "#d8576b"
             ],
             [
              0.6666666666666666,
              "#ed7953"
             ],
             [
              0.7777777777777778,
              "#fb9f3a"
             ],
             [
              0.8888888888888888,
              "#fdca26"
             ],
             [
              1,
              "#f0f921"
             ]
            ],
            "type": "heatmap"
           }
          ],
          "heatmapgl": [
           {
            "colorbar": {
             "outlinewidth": 0,
             "ticks": ""
            },
            "colorscale": [
             [
              0,
              "#0d0887"
             ],
             [
              0.1111111111111111,
              "#46039f"
             ],
             [
              0.2222222222222222,
              "#7201a8"
             ],
             [
              0.3333333333333333,
              "#9c179e"
             ],
             [
              0.4444444444444444,
              "#bd3786"
             ],
             [
              0.5555555555555556,
              "#d8576b"
             ],
             [
              0.6666666666666666,
              "#ed7953"
             ],
             [
              0.7777777777777778,
              "#fb9f3a"
             ],
             [
              0.8888888888888888,
              "#fdca26"
             ],
             [
              1,
              "#f0f921"
             ]
            ],
            "type": "heatmapgl"
           }
          ],
          "histogram": [
           {
            "marker": {
             "pattern": {
              "fillmode": "overlay",
              "size": 10,
              "solidity": 0.2
             }
            },
            "type": "histogram"
           }
          ],
          "histogram2d": [
           {
            "colorbar": {
             "outlinewidth": 0,
             "ticks": ""
            },
            "colorscale": [
             [
              0,
              "#0d0887"
             ],
             [
              0.1111111111111111,
              "#46039f"
             ],
             [
              0.2222222222222222,
              "#7201a8"
             ],
             [
              0.3333333333333333,
              "#9c179e"
             ],
             [
              0.4444444444444444,
              "#bd3786"
             ],
             [
              0.5555555555555556,
              "#d8576b"
             ],
             [
              0.6666666666666666,
              "#ed7953"
             ],
             [
              0.7777777777777778,
              "#fb9f3a"
             ],
             [
              0.8888888888888888,
              "#fdca26"
             ],
             [
              1,
              "#f0f921"
             ]
            ],
            "type": "histogram2d"
           }
          ],
          "histogram2dcontour": [
           {
            "colorbar": {
             "outlinewidth": 0,
             "ticks": ""
            },
            "colorscale": [
             [
              0,
              "#0d0887"
             ],
             [
              0.1111111111111111,
              "#46039f"
             ],
             [
              0.2222222222222222,
              "#7201a8"
             ],
             [
              0.3333333333333333,
              "#9c179e"
             ],
             [
              0.4444444444444444,
              "#bd3786"
             ],
             [
              0.5555555555555556,
              "#d8576b"
             ],
             [
              0.6666666666666666,
              "#ed7953"
             ],
             [
              0.7777777777777778,
              "#fb9f3a"
             ],
             [
              0.8888888888888888,
              "#fdca26"
             ],
             [
              1,
              "#f0f921"
             ]
            ],
            "type": "histogram2dcontour"
           }
          ],
          "mesh3d": [
           {
            "colorbar": {
             "outlinewidth": 0,
             "ticks": ""
            },
            "type": "mesh3d"
           }
          ],
          "parcoords": [
           {
            "line": {
             "colorbar": {
              "outlinewidth": 0,
              "ticks": ""
             }
            },
            "type": "parcoords"
           }
          ],
          "pie": [
           {
            "automargin": true,
            "type": "pie"
           }
          ],
          "scatter": [
           {
            "fillpattern": {
             "fillmode": "overlay",
             "size": 10,
             "solidity": 0.2
            },
            "type": "scatter"
           }
          ],
          "scatter3d": [
           {
            "line": {
             "colorbar": {
              "outlinewidth": 0,
              "ticks": ""
             }
            },
            "marker": {
             "colorbar": {
              "outlinewidth": 0,
              "ticks": ""
             }
            },
            "type": "scatter3d"
           }
          ],
          "scattercarpet": [
           {
            "marker": {
             "colorbar": {
              "outlinewidth": 0,
              "ticks": ""
             }
            },
            "type": "scattercarpet"
           }
          ],
          "scattergeo": [
           {
            "marker": {
             "colorbar": {
              "outlinewidth": 0,
              "ticks": ""
             }
            },
            "type": "scattergeo"
           }
          ],
          "scattergl": [
           {
            "marker": {
             "colorbar": {
              "outlinewidth": 0,
              "ticks": ""
             }
            },
            "type": "scattergl"
           }
          ],
          "scattermapbox": [
           {
            "marker": {
             "colorbar": {
              "outlinewidth": 0,
              "ticks": ""
             }
            },
            "type": "scattermapbox"
           }
          ],
          "scatterpolar": [
           {
            "marker": {
             "colorbar": {
              "outlinewidth": 0,
              "ticks": ""
             }
            },
            "type": "scatterpolar"
           }
          ],
          "scatterpolargl": [
           {
            "marker": {
             "colorbar": {
              "outlinewidth": 0,
              "ticks": ""
             }
            },
            "type": "scatterpolargl"
           }
          ],
          "scatterternary": [
           {
            "marker": {
             "colorbar": {
              "outlinewidth": 0,
              "ticks": ""
             }
            },
            "type": "scatterternary"
           }
          ],
          "surface": [
           {
            "colorbar": {
             "outlinewidth": 0,
             "ticks": ""
            },
            "colorscale": [
             [
              0,
              "#0d0887"
             ],
             [
              0.1111111111111111,
              "#46039f"
             ],
             [
              0.2222222222222222,
              "#7201a8"
             ],
             [
              0.3333333333333333,
              "#9c179e"
             ],
             [
              0.4444444444444444,
              "#bd3786"
             ],
             [
              0.5555555555555556,
              "#d8576b"
             ],
             [
              0.6666666666666666,
              "#ed7953"
             ],
             [
              0.7777777777777778,
              "#fb9f3a"
             ],
             [
              0.8888888888888888,
              "#fdca26"
             ],
             [
              1,
              "#f0f921"
             ]
            ],
            "type": "surface"
           }
          ],
          "table": [
           {
            "cells": {
             "fill": {
              "color": "#EBF0F8"
             },
             "line": {
              "color": "white"
             }
            },
            "header": {
             "fill": {
              "color": "#C8D4E3"
             },
             "line": {
              "color": "white"
             }
            },
            "type": "table"
           }
          ]
         },
         "layout": {
          "annotationdefaults": {
           "arrowcolor": "#2a3f5f",
           "arrowhead": 0,
           "arrowwidth": 1
          },
          "autotypenumbers": "strict",
          "coloraxis": {
           "colorbar": {
            "outlinewidth": 0,
            "ticks": ""
           }
          },
          "colorscale": {
           "diverging": [
            [
             0,
             "#8e0152"
            ],
            [
             0.1,
             "#c51b7d"
            ],
            [
             0.2,
             "#de77ae"
            ],
            [
             0.3,
             "#f1b6da"
            ],
            [
             0.4,
             "#fde0ef"
            ],
            [
             0.5,
             "#f7f7f7"
            ],
            [
             0.6,
             "#e6f5d0"
            ],
            [
             0.7,
             "#b8e186"
            ],
            [
             0.8,
             "#7fbc41"
            ],
            [
             0.9,
             "#4d9221"
            ],
            [
             1,
             "#276419"
            ]
           ],
           "sequential": [
            [
             0,
             "#0d0887"
            ],
            [
             0.1111111111111111,
             "#46039f"
            ],
            [
             0.2222222222222222,
             "#7201a8"
            ],
            [
             0.3333333333333333,
             "#9c179e"
            ],
            [
             0.4444444444444444,
             "#bd3786"
            ],
            [
             0.5555555555555556,
             "#d8576b"
            ],
            [
             0.6666666666666666,
             "#ed7953"
            ],
            [
             0.7777777777777778,
             "#fb9f3a"
            ],
            [
             0.8888888888888888,
             "#fdca26"
            ],
            [
             1,
             "#f0f921"
            ]
           ],
           "sequentialminus": [
            [
             0,
             "#0d0887"
            ],
            [
             0.1111111111111111,
             "#46039f"
            ],
            [
             0.2222222222222222,
             "#7201a8"
            ],
            [
             0.3333333333333333,
             "#9c179e"
            ],
            [
             0.4444444444444444,
             "#bd3786"
            ],
            [
             0.5555555555555556,
             "#d8576b"
            ],
            [
             0.6666666666666666,
             "#ed7953"
            ],
            [
             0.7777777777777778,
             "#fb9f3a"
            ],
            [
             0.8888888888888888,
             "#fdca26"
            ],
            [
             1,
             "#f0f921"
            ]
           ]
          },
          "colorway": [
           "#636efa",
           "#EF553B",
           "#00cc96",
           "#ab63fa",
           "#FFA15A",
           "#19d3f3",
           "#FF6692",
           "#B6E880",
           "#FF97FF",
           "#FECB52"
          ],
          "font": {
           "color": "#2a3f5f"
          },
          "geo": {
           "bgcolor": "white",
           "lakecolor": "white",
           "landcolor": "white",
           "showlakes": true,
           "showland": true,
           "subunitcolor": "#C8D4E3"
          },
          "hoverlabel": {
           "align": "left"
          },
          "hovermode": "closest",
          "mapbox": {
           "style": "light"
          },
          "paper_bgcolor": "white",
          "plot_bgcolor": "white",
          "polar": {
           "angularaxis": {
            "gridcolor": "#EBF0F8",
            "linecolor": "#EBF0F8",
            "ticks": ""
           },
           "bgcolor": "white",
           "radialaxis": {
            "gridcolor": "#EBF0F8",
            "linecolor": "#EBF0F8",
            "ticks": ""
           }
          },
          "scene": {
           "xaxis": {
            "backgroundcolor": "white",
            "gridcolor": "#DFE8F3",
            "gridwidth": 2,
            "linecolor": "#EBF0F8",
            "showbackground": true,
            "ticks": "",
            "zerolinecolor": "#EBF0F8"
           },
           "yaxis": {
            "backgroundcolor": "white",
            "gridcolor": "#DFE8F3",
            "gridwidth": 2,
            "linecolor": "#EBF0F8",
            "showbackground": true,
            "ticks": "",
            "zerolinecolor": "#EBF0F8"
           },
           "zaxis": {
            "backgroundcolor": "white",
            "gridcolor": "#DFE8F3",
            "gridwidth": 2,
            "linecolor": "#EBF0F8",
            "showbackground": true,
            "ticks": "",
            "zerolinecolor": "#EBF0F8"
           }
          },
          "shapedefaults": {
           "line": {
            "color": "#2a3f5f"
           }
          },
          "ternary": {
           "aaxis": {
            "gridcolor": "#DFE8F3",
            "linecolor": "#A2B1C6",
            "ticks": ""
           },
           "baxis": {
            "gridcolor": "#DFE8F3",
            "linecolor": "#A2B1C6",
            "ticks": ""
           },
           "bgcolor": "white",
           "caxis": {
            "gridcolor": "#DFE8F3",
            "linecolor": "#A2B1C6",
            "ticks": ""
           }
          },
          "title": {
           "x": 0.05
          },
          "xaxis": {
           "automargin": true,
           "gridcolor": "#EBF0F8",
           "linecolor": "#EBF0F8",
           "ticks": "",
           "title": {
            "standoff": 15
           },
           "zerolinecolor": "#EBF0F8",
           "zerolinewidth": 2
          },
          "yaxis": {
           "automargin": true,
           "gridcolor": "#EBF0F8",
           "linecolor": "#EBF0F8",
           "ticks": "",
           "title": {
            "standoff": 15
           },
           "zerolinecolor": "#EBF0F8",
           "zerolinewidth": 2
          }
         }
        },
        "title": {
         "text": "Model Performance by Target Ratio"
        },
        "width": 900,
        "xaxis": {
         "anchor": "y",
         "autorange": true,
         "categoryarray": [
          "5.0",
          "5.0",
          "5.0",
          "10.0",
          "10.0",
          "10.0",
          "15.0",
          "15.0",
          "15.0",
          "20.0",
          "20.0",
          "20.0",
          "raw",
          "raw",
          "raw"
         ],
         "categoryorder": "array",
         "domain": [
          0,
          1
         ],
         "range": [
          -0.5,
          4.5
         ],
         "title": {
          "text": "Target Ratio"
         },
         "type": "category"
        },
        "yaxis": {
         "anchor": "x",
         "autorange": true,
         "domain": [
          0,
          1
         ],
         "range": [
          0,
          0.40059684210526314
         ],
         "title": {
          "text": "F1 Score"
         },
         "type": "linear"
        }
       }
      },
      "image/png": "[encoded data removed]",
      "text/html": [
       "<div>                            <div id=\"992422d6-195c-4cca-9667-17afc3551a41\" class=\"plotly-graph-div\" style=\"height:600px; width:900px;\"></div>            <script type=\"text/javascript\">                require([\"plotly\"], function(Plotly) {                    window.PLOTLYENV=window.PLOTLYENV || {};                                    if (document.getElementById(\"992422d6-195c-4cca-9667-17afc3551a41\")) {                    Plotly.newPlot(                        \"992422d6-195c-4cca-9667-17afc3551a41\",                        [{\"alignmentgroup\":\"True\",\"hovertemplate\":\"Model=CatBoostClassifier<br>Target Ratio=%{x}<br>F1 Score=%{text}<extra></extra>\",\"legendgroup\":\"CatBoostClassifier\",\"marker\":{\"color\":\"#636efa\",\"pattern\":{\"shape\":\"\"},\"line\":{\"color\":\"white\",\"width\":2}},\"name\":\"CatBoostClassifier\",\"offsetgroup\":\"CatBoostClassifier\",\"orientation\":\"v\",\"showlegend\":true,\"text\":[0.35868,0.380567,0.340102,0.288184,0.104265],\"textposition\":\"outside\",\"x\":[\"5.0\",\"10.0\",\"15.0\",\"20.0\",\"raw\"],\"xaxis\":\"x\",\"y\":[0.35868,0.380567,0.340102,0.288184,0.104265],\"yaxis\":\"y\",\"type\":\"bar\",\"texttemplate\":\"%{text:.3f}\"},{\"alignmentgroup\":\"True\",\"hovertemplate\":\"Model=RandomForestClassifier<br>Target Ratio=%{x}<br>F1 Score=%{text}<extra></extra>\",\"legendgroup\":\"RandomForestClassifier\",\"marker\":{\"color\":\"#EF553B\",\"pattern\":{\"shape\":\"\"},\"line\":{\"color\":\"white\",\"width\":2}},\"name\":\"RandomForestClassifier\",\"offsetgroup\":\"RandomForestClassifier\",\"orientation\":\"v\",\"showlegend\":true,\"text\":[0.349304,0.372294,0.363636,0.276817,0.022222],\"textposition\":\"outside\",\"x\":[\"5.0\",\"10.0\",\"15.0\",\"20.0\",\"raw\"],\"xaxis\":\"x\",\"y\":[0.349304,0.372294,0.363636,0.276817,0.022222],\"yaxis\":\"y\",\"type\":\"bar\",\"texttemplate\":\"%{text:.3f}\"},{\"alignmentgroup\":\"True\",\"hovertemplate\":\"Model=XGBClassifier<br>Target Ratio=%{x}<br>F1 Score=%{text}<extra></extra>\",\"legendgroup\":\"XGBClassifier\",\"marker\":{\"color\":\"#00cc96\",\"pattern\":{\"shape\":\"\"},\"line\":{\"color\":\"white\",\"width\":2}},\"name\":\"XGBClassifier\",\"offsetgroup\":\"XGBClassifier\",\"orientation\":\"v\",\"showlegend\":true,\"text\":[0.317708,0.356215,0.339901,0.331395,0.140187],\"textposition\":\"outside\",\"x\":[\"5.0\",\"10.0\",\"15.0\",\"20.0\",\"raw\"],\"xaxis\":\"x\",\"y\":[0.317708,0.356215,0.339901,0.331395,0.140187],\"yaxis\":\"y\",\"type\":\"bar\",\"texttemplate\":\"%{text:.3f}\"}],                        {\"template\":{\"data\":{\"barpolar\":[{\"marker\":{\"line\":{\"color\":\"white\",\"width\":0.5},\"pattern\":{\"fillmode\":\"overlay\",\"size\":10,\"solidity\":0.2}},\"type\":\"barpolar\"}],\"bar\":[{\"error_x\":{\"color\":\"#2a3f5f\"},\"error_y\":{\"color\":\"#2a3f5f\"},\"marker\":{\"line\":{\"color\":\"white\",\"width\":0.5},\"pattern\":{\"fillmode\":\"overlay\",\"size\":10,\"solidity\":0.2}},\"type\":\"bar\"}],\"carpet\":[{\"aaxis\":{\"endlinecolor\":\"#2a3f5f\",\"gridcolor\":\"#C8D4E3\",\"linecolor\":\"#C8D4E3\",\"minorgridcolor\":\"#C8D4E3\",\"startlinecolor\":\"#2a3f5f\"},\"baxis\":{\"endlinecolor\":\"#2a3f5f\",\"gridcolor\":\"#C8D4E3\",\"linecolor\":\"#C8D4E3\",\"minorgridcolor\":\"#C8D4E3\",\"startlinecolor\":\"#2a3f5f\"},\"type\":\"carpet\"}],\"choropleth\":[{\"colorbar\":{\"outlinewidth\":0,\"ticks\":\"\"},\"type\":\"choropleth\"}],\"contourcarpet\":[{\"colorbar\":{\"outlinewidth\":0,\"ticks\":\"\"},\"type\":\"contourcarpet\"}],\"contour\":[{\"colorbar\":{\"outlinewidth\":0,\"ticks\":\"\"},\"colorscale\":[[0.0,\"#0d0887\"],[0.1111111111111111,\"#46039f\"],[0.2222222222222222,\"#7201a8\"],[0.3333333333333333,\"#9c179e\"],[0.4444444444444444,\"#bd3786\"],[0.5555555555555556,\"#d8576b\"],[0.6666666666666666,\"#ed7953\"],[0.7777777777777778,\"#fb9f3a\"],[0.8888888888888888,\"#fdca26\"],[1.0,\"#f0f921\"]],\"type\":\"contour\"}],\"heatmapgl\":[{\"colorbar\":{\"outlinewidth\":0,\"ticks\":\"\"},\"colorscale\":[[0.0,\"#0d0887\"],[0.1111111111111111,\"#46039f\"],[0.2222222222222222,\"#7201a8\"],[0.3333333333333333,\"#9c179e\"],[0.4444444444444444,\"#bd3786\"],[0.5555555555555556,\"#d8576b\"],[0.6666666666666666,\"#ed7953\"],[0.7777777777777778,\"#fb9f3a\"],[0.8888888888888888,\"#fdca26\"],[1.0,\"#f0f921\"]],\"type\":\"heatmapgl\"}],\"heatmap\":[{\"colorbar\":{\"outlinewidth\":0,\"ticks\":\"\"},\"colorscale\":[[0.0,\"#0d0887\"],[0.1111111111111111,\"#46039f\"],[0.2222222222222222,\"#7201a8\"],[0.3333333333333333,\"#9c179e\"],[0.4444444444444444,\"#bd3786\"],[0.5555555555555556,\"#d8576b\"],[0.6666666666666666,\"#ed7953\"],[0.7777777777777778,\"#fb9f3a\"],[0.8888888888888888,\"#fdca26\"],[1.0,\"#f0f921\"]],\"type\":\"heatmap\"}],\"histogram2dcontour\":[{\"colorbar\":{\"outlinewidth\":0,\"ticks\":\"\"},\"colorscale\":[[0.0,\"#0d0887\"],[0.1111111111111111,\"#46039f\"],[0.2222222222222222,\"#7201a8\"],[0.3333333333333333,\"#9c179e\"],[0.4444444444444444,\"#bd3786\"],[0.5555555555555556,\"#d8576b\"],[0.6666666666666666,\"#ed7953\"],[0.7777777777777778,\"#fb9f3a\"],[0.8888888888888888,\"#fdca26\"],[1.0,\"#f0f921\"]],\"type\":\"histogram2dcontour\"}],\"histogram2d\":[{\"colorbar\":{\"outlinewidth\":0,\"ticks\":\"\"},\"colorscale\":[[0.0,\"#0d0887\"],[0.1111111111111111,\"#46039f\"],[0.2222222222222222,\"#7201a8\"],[0.3333333333333333,\"#9c179e\"],[0.4444444444444444,\"#bd3786\"],[0.5555555555555556,\"#d8576b\"],[0.6666666666666666,\"#ed7953\"],[0.7777777777777778,\"#fb9f3a\"],[0.8888888888888888,\"#fdca26\"],[1.0,\"#f0f921\"]],\"type\":\"histogram2d\"}],\"histogram\":[{\"marker\":{\"pattern\":{\"fillmode\":\"overlay\",\"size\":10,\"solidity\":0.2}},\"type\":\"histogram\"}],\"mesh3d\":[{\"colorbar\":{\"outlinewidth\":0,\"ticks\":\"\"},\"type\":\"mesh3d\"}],\"parcoords\":[{\"line\":{\"colorbar\":{\"outlinewidth\":0,\"ticks\":\"\"}},\"type\":\"parcoords\"}],\"pie\":[{\"automargin\":true,\"type\":\"pie\"}],\"scatter3d\":[{\"line\":{\"colorbar\":{\"outlinewidth\":0,\"ticks\":\"\"}},\"marker\":{\"colorbar\":{\"outlinewidth\":0,\"ticks\":\"\"}},\"type\":\"scatter3d\"}],\"scattercarpet\":[{\"marker\":{\"colorbar\":{\"outlinewidth\":0,\"ticks\":\"\"}},\"type\":\"scattercarpet\"}],\"scattergeo\":[{\"marker\":{\"colorbar\":{\"outlinewidth\":0,\"ticks\":\"\"}},\"type\":\"scattergeo\"}],\"scattergl\":[{\"marker\":{\"colorbar\":{\"outlinewidth\":0,\"ticks\":\"\"}},\"type\":\"scattergl\"}],\"scattermapbox\":[{\"marker\":{\"colorbar\":{\"outlinewidth\":0,\"ticks\":\"\"}},\"type\":\"scattermapbox\"}],\"scatterpolargl\":[{\"marker\":{\"colorbar\":{\"outlinewidth\":0,\"ticks\":\"\"}},\"type\":\"scatterpolargl\"}],\"scatterpolar\":[{\"marker\":{\"colorbar\":{\"outlinewidth\":0,\"ticks\":\"\"}},\"type\":\"scatterpolar\"}],\"scatter\":[{\"fillpattern\":{\"fillmode\":\"overlay\",\"size\":10,\"solidity\":0.2},\"type\":\"scatter\"}],\"scatterternary\":[{\"marker\":{\"colorbar\":{\"outlinewidth\":0,\"ticks\":\"\"}},\"type\":\"scatterternary\"}],\"surface\":[{\"colorbar\":{\"outlinewidth\":0,\"ticks\":\"\"},\"colorscale\":[[0.0,\"#0d0887\"],[0.1111111111111111,\"#46039f\"],[0.2222222222222222,\"#7201a8\"],[0.3333333333333333,\"#9c179e\"],[0.4444444444444444,\"#bd3786\"],[0.5555555555555556,\"#d8576b\"],[0.6666666666666666,\"#ed7953\"],[0.7777777777777778,\"#fb9f3a\"],[0.8888888888888888,\"#fdca26\"],[1.0,\"#f0f921\"]],\"type\":\"surface\"}],\"table\":[{\"cells\":{\"fill\":{\"color\":\"#EBF0F8\"},\"line\":{\"color\":\"white\"}},\"header\":{\"fill\":{\"color\":\"#C8D4E3\"},\"line\":{\"color\":\"white\"}},\"type\":\"table\"}]},\"layout\":{\"annotationdefaults\":{\"arrowcolor\":\"#2a3f5f\",\"arrowhead\":0,\"arrowwidth\":1},\"autotypenumbers\":\"strict\",\"coloraxis\":{\"colorbar\":{\"outlinewidth\":0,\"ticks\":\"\"}},\"colorscale\":{\"diverging\":[[0,\"#8e0152\"],[0.1,\"#c51b7d\"],[0.2,\"#de77ae\"],[0.3,\"#f1b6da\"],[0.4,\"#fde0ef\"],[0.5,\"#f7f7f7\"],[0.6,\"#e6f5d0\"],[0.7,\"#b8e186\"],[0.8,\"#7fbc41\"],[0.9,\"#4d9221\"],[1,\"#276419\"]],\"sequential\":[[0.0,\"#0d0887\"],[0.1111111111111111,\"#46039f\"],[0.2222222222222222,\"#7201a8\"],[0.3333333333333333,\"#9c179e\"],[0.4444444444444444,\"#bd3786\"],[0.5555555555555556,\"#d8576b\"],[0.6666666666666666,\"#ed7953\"],[0.7777777777777778,\"#fb9f3a\"],[0.8888888888888888,\"#fdca26\"],[1.0,\"#f0f921\"]],\"sequentialminus\":[[0.0,\"#0d0887\"],[0.1111111111111111,\"#46039f\"],[0.2222222222222222,\"#7201a8\"],[0.3333333333333333,\"#9c179e\"],[0.4444444444444444,\"#bd3786\"],[0.5555555555555556,\"#d8576b\"],[0.6666666666666666,\"#ed7953\"],[0.7777777777777778,\"#fb9f3a\"],[0.8888888888888888,\"#fdca26\"],[1.0,\"#f0f921\"]]},\"colorway\":[\"#636efa\",\"#EF553B\",\"#00cc96\",\"#ab63fa\",\"#FFA15A\",\"#19d3f3\",\"#FF6692\",\"#B6E880\",\"#FF97FF\",\"#FECB52\"],\"font\":{\"color\":\"#2a3f5f\"},\"geo\":{\"bgcolor\":\"white\",\"lakecolor\":\"white\",\"landcolor\":\"white\",\"showlakes\":true,\"showland\":true,\"subunitcolor\":\"#C8D4E3\"},\"hoverlabel\":{\"align\":\"left\"},\"hovermode\":\"closest\",\"mapbox\":{\"style\":\"light\"},\"paper_bgcolor\":\"white\",\"plot_bgcolor\":\"white\",\"polar\":{\"angularaxis\":{\"gridcolor\":\"#EBF0F8\",\"linecolor\":\"#EBF0F8\",\"ticks\":\"\"},\"bgcolor\":\"white\",\"radialaxis\":{\"gridcolor\":\"#EBF0F8\",\"linecolor\":\"#EBF0F8\",\"ticks\":\"\"}},\"scene\":{\"xaxis\":{\"backgroundcolor\":\"white\",\"gridcolor\":\"#DFE8F3\",\"gridwidth\":2,\"linecolor\":\"#EBF0F8\",\"showbackground\":true,\"ticks\":\"\",\"zerolinecolor\":\"#EBF0F8\"},\"yaxis\":{\"backgroundcolor\":\"white\",\"gridcolor\":\"#DFE8F3\",\"gridwidth\":2,\"linecolor\":\"#EBF0F8\",\"showbackground\":true,\"ticks\":\"\",\"zerolinecolor\":\"#EBF0F8\"},\"zaxis\":{\"backgroundcolor\":\"white\",\"gridcolor\":\"#DFE8F3\",\"gridwidth\":2,\"linecolor\":\"#EBF0F8\",\"showbackground\":true,\"ticks\":\"\",\"zerolinecolor\":\"#EBF0F8\"}},\"shapedefaults\":{\"line\":{\"color\":\"#2a3f5f\"}},\"ternary\":{\"aaxis\":{\"gridcolor\":\"#DFE8F3\",\"linecolor\":\"#A2B1C6\",\"ticks\":\"\"},\"baxis\":{\"gridcolor\":\"#DFE8F3\",\"linecolor\":\"#A2B1C6\",\"ticks\":\"\"},\"bgcolor\":\"white\",\"caxis\":{\"gridcolor\":\"#DFE8F3\",\"linecolor\":\"#A2B1C6\",\"ticks\":\"\"}},\"title\":{\"x\":0.05},\"xaxis\":{\"automargin\":true,\"gridcolor\":\"#EBF0F8\",\"linecolor\":\"#EBF0F8\",\"ticks\":\"\",\"title\":{\"standoff\":15},\"zerolinecolor\":\"#EBF0F8\",\"zerolinewidth\":2},\"yaxis\":{\"automargin\":true,\"gridcolor\":\"#EBF0F8\",\"linecolor\":\"#EBF0F8\",\"ticks\":\"\",\"title\":{\"standoff\":15},\"zerolinecolor\":\"#EBF0F8\",\"zerolinewidth\":2}}},\"xaxis\":{\"anchor\":\"y\",\"domain\":[0.0,1.0],\"title\":{\"text\":\"Target Ratio\"},\"categoryorder\":\"array\",\"categoryarray\":[\"5.0\",\"5.0\",\"5.0\",\"10.0\",\"10.0\",\"10.0\",\"15.0\",\"15.0\",\"15.0\",\"20.0\",\"20.0\",\"20.0\",\"raw\",\"raw\",\"raw\"]},\"yaxis\":{\"anchor\":\"x\",\"domain\":[0.0,1.0],\"title\":{\"text\":\"F1 Score\"}},\"legend\":{\"title\":{\"text\":\"Model Type\"},\"tracegroupgap\":0},\"title\":{\"text\":\"Model Performance by Target Ratio\"},\"barmode\":\"group\",\"height\":600,\"width\":900},                        {\"responsive\": true}                    ).then(function(){\n",
       "                            \n",
       "var gd = document.getElementById('992422d6-195c-4cca-9667-17afc3551a41');\n",
       "var x = new MutationObserver(function (mutations, observer) {{\n",
       "        var display = window.getComputedStyle(gd).display;\n",
       "        if (!display || display === 'none') {{\n",
       "            console.log([gd, 'removed!']);\n",
       "            Plotly.purge(gd);\n",
       "            observer.disconnect();\n",
       "        }}\n",
       "}});\n",
       "\n",
       "// Listen for the removal of the full notebook cells\n",
       "var notebookContainer = gd.closest('#notebook-container');\n",
       "if (notebookContainer) {{\n",
       "    x.observe(notebookContainer, {childList: true});\n",
       "}}\n",
       "\n",
       "// Listen for the clearing of the current output cell\n",
       "var outputEl = gd.closest('.output');\n",
       "if (outputEl) {{\n",
       "    x.observe(outputEl, {childList: true});\n",
       "}}\n",
       "\n",
       "                        })                };                });            </script>        </div>"
      ]
     },
     "metadata": {},
     "output_type": "display_data"
    }
   ],
   "source": [
    "# Compare models performance by Target Ratio \n",
    "\n",
    "\n",
    "# Creating the DataFrame\n",
    "data = {\n",
    "    \"Model\": [\"CatBoostClassifier\", \"RandomForestClassifier\", \"RandomForestClassifier\",\n",
    "              \"CatBoostClassifier\", \"XGBClassifier\", \"RandomForestClassifier\",\n",
    "              \"CatBoostClassifier\", \"XGBClassifier\", \"XGBClassifier\", \"XGBClassifier\",\n",
    "              \"CatBoostClassifier\", \"RandomForestClassifier\", \"XGBClassifier\",\n",
    "              \"CatBoostClassifier\", \"RandomForestClassifier\"],\n",
    "    \"F1 Score\": [0.380567, 0.372294, 0.363636, 0.358680, 0.356215, 0.349304, 0.340102,\n",
    "                 0.339901, 0.331395, 0.317708, 0.288184, 0.276817, 0.140187, 0.104265,\n",
    "                 0.022222],\n",
    "    \"Target Ratio\": [\"10.0\", \"10.0\", \"15.0\", \"5.0\", \"10.0\", \"5.0\", \"15.0\", \"15.0\", \"20.0\", \"5.0\",\n",
    "                     \"20.0\", \"20.0\", \"Original distribution\", \"Original distribution\", \"Original distribution\"]\n",
    "}\n",
    "\n",
    "df = pd.DataFrame(data)\n",
    "\n",
    "# Replacing \"Original distribution\" with \"raw\" and converting \"Target Ratio\" to string\n",
    "df[\"Target Ratio\"] = df[\"Target Ratio\"].replace(\"Original distribution\", \"raw\")\n",
    "df[\"Target Ratio\"] = df[\"Target Ratio\"].astype(str)\n",
    "\n",
    "# Convert 'Target Ratio' into sortable numeric values, placing 'raw' as infinity for last position\n",
    "df['Numeric Ratio'] = pd.to_numeric(df['Target Ratio'], errors='coerce')\n",
    "df.sort_values(by='Numeric Ratio', inplace=True, na_position='last')  # 'raw' will be sorted last as NaN\n",
    "df.drop('Numeric Ratio', axis=1, inplace=True)\n",
    "\n",
    "# Plotting\n",
    "fig = px.bar(df, x=\"Target Ratio\", y=\"F1 Score\", color=\"Model\",\n",
    "             text=\"F1 Score\", barmode='group', template='plotly_white', \n",
    "             title=\"Model Performance by Target Ratio\", height=600, width=900)\n",
    "\n",
    "fig.update_traces(texttemplate='%{text:.3f}', textposition='outside', marker=dict(line=dict(color='white', width=2)))\n",
    "fig.update_layout(xaxis_title=\"Target Ratio\", yaxis_title=\"F1 Score\",\n",
    "                  legend_title=\"Model Type\", xaxis={'categoryorder':'array', 'categoryarray': df['Target Ratio']})"
   ]
  },
  {
   "cell_type": "markdown",
   "id": "68b77edb",
   "metadata": {},
   "source": [
    "The top-performing model is a CatBoost Classifier with a Target Ratio of 10, closely followed by a Random Forest Classifier with the same Target Ratio."
   ]
  },
  {
   "cell_type": "code",
   "execution_count": 33,
   "id": "b25ff012",
   "metadata": {},
   "outputs": [
    {
     "data": {
      "text/plain": [
       "0.3805668016194332"
      ]
     },
     "execution_count": 33,
     "metadata": {},
     "output_type": "execute_result"
    }
   ],
   "source": [
    "best_f1"
   ]
  },
  {
   "cell_type": "code",
   "execution_count": 38,
   "id": "2a4b7068",
   "metadata": {},
   "outputs": [
    {
     "data": {
      "text/plain": [
       "{'Model': 'CatBoostClassifier',\n",
       " 'F1 Score': 0.3805668016194332,\n",
       " 'Target Rate Used': 10,\n",
       " 'Best Parameters': {'depth': 4, 'iterations': 100, 'learning_rate': 0.1},\n",
       " 'Best Model': <catboost.core.CatBoostClassifier at 0x29227ea94d0>,\n",
       " 'Target Ratio': 10}"
      ]
     },
     "execution_count": 38,
     "metadata": {},
     "output_type": "execute_result"
    }
   ],
   "source": [
    "best_model_details "
   ]
  },
  {
   "cell_type": "code",
   "execution_count": 39,
   "id": "18d08740",
   "metadata": {},
   "outputs": [
    {
     "data": {
      "text/plain": [
       "<catboost.core.CatBoostClassifier at 0x29227ea94d0>"
      ]
     },
     "execution_count": 39,
     "metadata": {},
     "output_type": "execute_result"
    }
   ],
   "source": [
    "best_model "
   ]
  },
  {
   "cell_type": "code",
   "execution_count": 40,
   "id": "e3934949-f603-40f8-bb57-b382a6d4695c",
   "metadata": {},
   "outputs": [
    {
     "data": {
      "text/plain": [
       "array([0, 0, 0, ..., 0, 0, 0], dtype=int64)"
      ]
     },
     "execution_count": 40,
     "metadata": {},
     "output_type": "execute_result"
    }
   ],
   "source": [
    "y_pred_grid = best_model.predict(X_test)\n",
    "y_pred_grid"
   ]
  },
  {
   "cell_type": "code",
   "execution_count": 41,
   "id": "3f1adbff-0f0f-434f-8c43-e85aa5cfb61f",
   "metadata": {},
   "outputs": [
    {
     "data": {
      "image/png": "[encoded data removed]",
      "text/plain": [
       "<Figure size 640x480 with 2 Axes>"
      ]
     },
     "metadata": {},
     "output_type": "display_data"
    }
   ],
   "source": [
    "# confusion matrix \n",
    "cm = confusion_matrix(y_test, y_pred_grid)\n",
    "disp = ConfusionMatrixDisplay(confusion_matrix=cm)\n",
    "disp.plot();"
   ]
  },
  {
   "cell_type": "code",
   "execution_count": 102,
   "id": "54303618",
   "metadata": {},
   "outputs": [],
   "source": [
    "# save the best model \n",
    "with open(\"models/model.pkl\", 'wb') as file:\n",
    "    pickle.dump(best_model, file)"
   ]
  },
  {
   "cell_type": "code",
   "execution_count": 55,
   "id": "a9ddbe57",
   "metadata": {},
   "outputs": [
    {
     "data": {
      "text/plain": [
       "[9.055588196139147e-05,\n",
       " 0.011493529619878085,\n",
       " 0.00021809928873758468,\n",
       " 0.8754831347985844,\n",
       " 0.02116087052459673,\n",
       " 0.00036860916734272566,\n",
       " 0.0003172046182955175,\n",
       " 0.07092471127418655,\n",
       " 0.00012977580739885648,\n",
       " 0.5577570789517887,\n",
       " 0.9074290342956245,\n",
       " 0.14665953150476785,\n",
       " 0.00332153291728739,\n",
       " 0.003947853833017104,\n",
       " 0.00018341176531311618,\n",
       " 0.008484402210897966,\n",
       " 0.0017098779246535437,\n",
       " 0.0646431980158109,\n",
       " 0.0016625433926298163,\n",
       " 0.0002772816837905128,\n",
       " 0.013489572414555645,\n",
       " 0.0003155473401903541,\n",
       " 0.0009947898183327298,\n",
       " 0.000401743627422747,\n",
       " 0.8786182925758772,\n",
       " 0.06870810956315715,\n",
       " 0.00015185397007793123,\n",
       " 0.0010511319388162926,\n",
       " 0.0010462686425960954,\n",
       " 0.0003252930493722535,\n",
       " 0.0013388872841830048,\n",
       " 0.0002975930515309742,\n",
       " 0.007050799017314387,\n",
       " 0.08226460363885979,\n",
       " 0.00027046508489336844,\n",
       " 0.0009558107886830232,\n",
       " 0.0003759846413257796,\n",
       " 0.00028655867708120747,\n",
       " 0.0011014587091868003,\n",
       " 0.0017412358562441362,\n",
       " 0.00028973389437432837,\n",
       " 0.00022022431341479226,\n",
       " 0.0019134824929462298,\n",
       " 0.00963571482261995,\n",
       " 0.006672939756385436,\n",
       " 0.09206046525739822,\n",
       " 0.0004775555328751813,\n",
       " 0.0008491840805232756,\n",
       " 0.001320869457522444,\n",
       " 0.0017927883108292686,\n",
       " 0.00027219106484462026,\n",
       " 0.0007224076955043197,\n",
       " 0.10722247186822706,\n",
       " 0.0005849464500133675,\n",
       " 0.004039595727516529,\n",
       " 0.008700074124184113,\n",
       " 0.0007619635550838757,\n",
       " 0.002926710814715964,\n",
       " 0.00549819809632344,\n",
       " 0.0005138499134182687,\n",
       " 0.00830583563340121,\n",
       " 0.0001850919693316834,\n",
       " 0.004185823072735745,\n",
       " 0.00013575867250784085,\n",
       " 0.0010280557226370246,\n",
       " 0.0001871214233689878,\n",
       " 0.0003115543366764794,\n",
       " 0.3893802082534091,\n",
       " 0.00037391221435635776,\n",
       " 0.00044968420542053974,\n",
       " 0.00016097351339799514,\n",
       " 0.00039165745506476425,\n",
       " 0.0006377805614286743,\n",
       " 0.0015529478081391622,\n",
       " 0.0043023858424755005,\n",
       " 0.00020449349827882798,\n",
       " 0.9021022701408682,\n",
       " 0.0857586602306567,\n",
       " 0.0004957077060008132,\n",
       " 0.0005064487459526762,\n",
       " 0.0007660126200984221,\n",
       " 0.0006471378914472456,\n",
       " 0.0003074943642505343,\n",
       " 0.0035258748217437256,\n",
       " 0.0011007605304687,\n",
       " 0.0013453107880742432,\n",
       " 0.8145339956560205,\n",
       " 0.005310549464832241,\n",
       " 0.05645880740268886,\n",
       " 0.026500994183598126,\n",
       " 0.05860169534867672,\n",
       " 0.00016518709543340062,\n",
       " 0.003610058746104551,\n",
       " 0.004960081603987423,\n",
       " 0.0009261165433922799,\n",
       " 0.14046513441506892,\n",
       " 0.0008610748880103806,\n",
       " 0.00028392621958286333,\n",
       " 0.0038755274110083187,\n",
       " 0.09621183179015702,\n",
       " 0.6348431168465474,\n",
       " 0.3634149236460944,\n",
       " 0.007751893901094609,\n",
       " 0.0027368531588836064,\n",
       " 0.00010628912015976522,\n",
       " 0.0006952820191767249,\n",
       " 0.34136337722085225,\n",
       " 0.0031769718485452074,\n",
       " 0.00028870841638774746,\n",
       " 0.0003501365573943527,\n",
       " 0.002009421835511992,\n",
       " 0.6145907815733572,\n",
       " 0.0005091833545000742,\n",
       " 0.002675544291658808,\n",
       " 0.0019543301259613475,\n",
       " 0.07139893893201836,\n",
       " 0.00033289882160679663,\n",
       " 0.00044452646112010547,\n",
       " 0.00015792265730848554,\n",
       " 0.00054728591741453,\n",
       " 0.02135212328157459,\n",
       " 0.18252559565888057,\n",
       " 0.08974643771495786,\n",
       " 0.0890177813989613,\n",
       " 0.013716105645508021,\n",
       " 0.0071887906435090495,\n",
       " 0.8325196939227648,\n",
       " 0.0001677743435234669,\n",
       " 0.2820389389027606,\n",
       " 0.0037568617748991316,\n",
       " 0.27194890873608385,\n",
       " 0.0037182506983156316,\n",
       " 0.5775913107698211,\n",
       " 0.0637668470102855,\n",
       " 0.021339209304247722,\n",
       " 0.0002527583259528642,\n",
       " 0.07783613580308059,\n",
       " 0.0010973492782856372,\n",
       " 0.0005910620215292448,\n",
       " 0.00011982864164750452,\n",
       " 0.1676937680821709,\n",
       " 0.19426234192886863,\n",
       " 0.1058498591643254,\n",
       " 0.001114476990396327,\n",
       " 0.001286677951489642,\n",
       " 0.0009175582183740739,\n",
       " 0.0008746602393982105,\n",
       " 0.0005295886614867976,\n",
       " 0.00075636735884726,\n",
       " 0.0012629631356320715,\n",
       " 0.1037351536391483,\n",
       " 0.0006436666719417214,\n",
       " 0.0013778193131593925,\n",
       " 0.16485381449029834,\n",
       " 0.002160479647789782,\n",
       " 0.00013161787253249303,\n",
       " 8.646354713748585e-05,\n",
       " 0.18055392167682613,\n",
       " 0.016121376597150325,\n",
       " 0.0022219427727267226,\n",
       " 0.0022894600739410283,\n",
       " 0.0003486381921003238,\n",
       " 0.0008499416417634898,\n",
       " 0.0034698876767892788,\n",
       " 0.0068785022783649325,\n",
       " 0.00014575828586283762,\n",
       " 0.0020944378330765524,\n",
       " 0.0008675798079628464,\n",
       " 0.000612831308996793,\n",
       " 0.0022539001901752983,\n",
       " 0.0032705839944962,\n",
       " 0.0019248044809208403,\n",
       " 0.029189384004783617,\n",
       " 0.00011184898072222369,\n",
       " 0.5398631478300168,\n",
       " 0.0005505667721172714,\n",
       " 0.0004950413500386632,\n",
       " 0.0019505897261384672,\n",
       " 0.0002752674679535852,\n",
       " 0.0004645043454113347,\n",
       " 0.0009875457447945863,\n",
       " 0.0008012831715374528,\n",
       " 0.1500371673555412,\n",
       " 0.0031748412729319993,\n",
       " 0.02106554025591548,\n",
       " 0.00024602670899126467,\n",
       " 0.0006233256398816482,\n",
       " 0.45047535958927687,\n",
       " 0.00018831396363716332,\n",
       " 0.002767048502319393,\n",
       " 0.00022132567336214553,\n",
       " 0.0001651491563658757,\n",
       " 0.0008604023735568122,\n",
       " 0.0002858217463341046,\n",
       " 0.0009095379487907233,\n",
       " 0.0006469906224146543,\n",
       " 0.0004889201371117739,\n",
       " 0.00022596654208378484,\n",
       " 0.001763738966880287,\n",
       " 0.0002845989501947314,\n",
       " 0.023038970269177072,\n",
       " 0.00018908129769729887,\n",
       " 0.031123394001687,\n",
       " 0.0003967075477415892,\n",
       " 0.1945126682554996,\n",
       " 0.0002877973210999764,\n",
       " 0.0041410338204717475,\n",
       " 0.0004552685248908729,\n",
       " 0.04115953517742882,\n",
       " 0.0002680846940312857,\n",
       " 0.10532177460744081,\n",
       " 0.007947201996777144,\n",
       " 0.8010944623566545,\n",
       " 0.0003815857062497186,\n",
       " 0.029043718812173925,\n",
       " 0.0005145537372005395,\n",
       " 0.0004459597883346125,\n",
       " 0.03476152270771555,\n",
       " 0.0007164602662948836,\n",
       " 0.00023036209170268572,\n",
       " 0.02914424748788361,\n",
       " 0.010197595602095764,\n",
       " 0.24418291146659574,\n",
       " 0.0005367672622464373,\n",
       " 0.0005248828238296678,\n",
       " 0.000472421193803222,\n",
       " 0.3375001722948656,\n",
       " 0.4544213352991725,\n",
       " 0.000533559884801261,\n",
       " 0.028425354276279634,\n",
       " 0.00027286408726130413,\n",
       " 0.0005723729322041449,\n",
       " 0.03795062824994402,\n",
       " 0.0025303026928376795,\n",
       " 0.7506104141595827,\n",
       " 0.004125806964007492,\n",
       " 0.04170862381864133,\n",
       " 0.6923908374408586,\n",
       " 0.009953748918904708,\n",
       " 0.2701501665118849,\n",
       " 0.0022906400691812385,\n",
       " 0.0008812668764776307,\n",
       " 0.00031693040400839433,\n",
       " 0.7866764344087913,\n",
       " 0.06000758033185036,\n",
       " 0.15923699534871896,\n",
       " 0.030714735197668964,\n",
       " 0.017628705379244995,\n",
       " 0.0011803712940508437,\n",
       " 0.007015212893334042,\n",
       " 0.0007607143055695416,\n",
       " 0.5032087821361081,\n",
       " 0.18573125125825257,\n",
       " 0.0009740531498079487,\n",
       " 0.0006700372043486873,\n",
       " 0.008686488527128508,\n",
       " 0.0033384590341370432,\n",
       " 0.032141530717321905,\n",
       " 0.2724168293563863,\n",
       " 0.7505904939485742,\n",
       " 0.001221150749268872,\n",
       " 0.00529541902577603,\n",
       " 0.0013658856298879953,\n",
       " 0.0007862449800634556,\n",
       " 0.0013032659799109988,\n",
       " 0.0016843103295377329,\n",
       " 0.0015556866769800318,\n",
       " 0.0005359100258229193,\n",
       " 0.0004942796930175267,\n",
       " 0.00021032237132744092,\n",
       " 0.00038286991102431294,\n",
       " 0.004670232287472244,\n",
       " 0.0008762596407973524,\n",
       " 0.0006039052455519443,\n",
       " 0.0023701173701820683,\n",
       " 0.0031548618399586206,\n",
       " 0.00032355959034009,\n",
       " 0.00038135267279487776,\n",
       " 0.0017436100734639416,\n",
       " 0.029293879363050283,\n",
       " 0.000268949838984553,\n",
       " 0.0004956167824178132,\n",
       " 0.0005615620672134159,\n",
       " 0.0008628273066783526,\n",
       " 0.00026014526187890044,\n",
       " 0.019811447564723524,\n",
       " 0.00015333659270393791,\n",
       " 0.0006210753550726731,\n",
       " 0.00034888835384897925,\n",
       " 0.0021874968510285308,\n",
       " 0.00017768946221491608,\n",
       " 0.023969937867533195,\n",
       " 0.0005118406993970578,\n",
       " 0.00047633825945715,\n",
       " 0.035415740498918206,\n",
       " 0.020339508873991226,\n",
       " 0.00020180996487081072,\n",
       " 0.02095189032589388,\n",
       " 0.0003805185742065991,\n",
       " 0.0004745046524870944,\n",
       " 0.00028938664520497195,\n",
       " 0.29380891495662814,\n",
       " 0.00034377414475561177,\n",
       " 0.000286305271257545,\n",
       " 0.001130488849599159,\n",
       " 0.06366040472923991,\n",
       " 0.1849553347008886,\n",
       " 0.05932969808902142,\n",
       " 0.0016031087867859949,\n",
       " 0.00031132558302923523,\n",
       " 0.03238202556372892,\n",
       " 0.0013965833614798294,\n",
       " 0.00019638644688184398,\n",
       " 0.023150823008689494,\n",
       " 0.0315002225170754,\n",
       " 0.0006000361741073995,\n",
       " 0.00019404653199962108,\n",
       " 0.24173384636741602,\n",
       " 0.006399857819884001,\n",
       " 0.7525058029659327,\n",
       " 0.13810835587551043,\n",
       " 0.8877203066365104,\n",
       " 0.0015142620986253255,\n",
       " 0.013976509312103778,\n",
       " 0.20837773734469003,\n",
       " 0.0023476455979425602,\n",
       " 0.001760790571715742,\n",
       " 0.0005757743285214524,\n",
       " 0.0057668380108058595,\n",
       " 0.023144408120963956,\n",
       " 0.000263725748173848,\n",
       " 0.017809259434806143,\n",
       " 0.006747886538644128,\n",
       " 0.01997655636212533,\n",
       " 0.07765501835154937,\n",
       " 0.12920216927561273,\n",
       " 0.00039290196087544645,\n",
       " 0.0009318880890198117,\n",
       " 0.07855220792449628,\n",
       " 0.03537095394035626,\n",
       " 0.0005294584855644811,\n",
       " 0.00034139871937915317,\n",
       " 0.06595881255406923,\n",
       " 0.0006127098178631063,\n",
       " 0.03424035260552332,\n",
       " 0.0033206977160346275,\n",
       " 0.04132448522449287,\n",
       " 0.007059856687074996,\n",
       " 0.10771123104222174,\n",
       " 0.0035240452921973253,\n",
       " 0.0014196593542532769,\n",
       " 0.0009354811536358977,\n",
       " 0.32457697764359683,\n",
       " 0.000489951548598479,\n",
       " 0.000870756644236026,\n",
       " 0.0012291044378414282,\n",
       " 7.761879308941772e-05,\n",
       " 0.00015549847703496996,\n",
       " 0.00023967411580682788,\n",
       " 0.035010047524960036,\n",
       " 0.005948299187220335,\n",
       " 0.13925246083583007,\n",
       " 0.0003189450856920651,\n",
       " 0.00046606024270763965,\n",
       " 0.10444760387935365,\n",
       " 0.002010024082178686,\n",
       " 0.001292730787878418,\n",
       " 0.0003400198666349745,\n",
       " 0.001886746633241814,\n",
       " 0.02481719946751319,\n",
       " 0.000521826159867301,\n",
       " 0.015495885325758803,\n",
       " 0.005251525982127571,\n",
       " 0.008350364875229898,\n",
       " 0.004558401509149461,\n",
       " 0.007512579080162893,\n",
       " 0.000631933367622814,\n",
       " 0.08806452773247363,\n",
       " 0.0021504461938161635,\n",
       " 0.00011976128648019838,\n",
       " 0.000600978425102133,\n",
       " 0.0015519320365313155,\n",
       " 0.0018685857103095459,\n",
       " 0.0014372368997708283,\n",
       " 0.0038463794400949345,\n",
       " 0.00022471750660875997,\n",
       " 0.16637363870380095,\n",
       " 0.0006490742848601372,\n",
       " 0.0003054792686484447,\n",
       " 0.0005285872164515321,\n",
       " 0.00019131762906390992,\n",
       " 0.0006271338298903444,\n",
       " 0.0016482726661725421,\n",
       " 0.13743526982583554,\n",
       " 0.1872806876124231,\n",
       " 0.007060171313984391,\n",
       " 0.018670999102154848,\n",
       " 0.0011242595607828833,\n",
       " 0.0005844946095475028,\n",
       " 0.0012122929470731905,\n",
       " 0.0006573727347902728,\n",
       " 0.0224771576785148,\n",
       " 0.00014623804656942608,\n",
       " 0.0007701075654471565,\n",
       " 0.0007541440613483438,\n",
       " 0.0002858384491678846,\n",
       " 0.23435868474865626,\n",
       " 0.00019091066791350158,\n",
       " 0.0014975510736865364,\n",
       " 0.00028767997908018677,\n",
       " 0.005051329953191686,\n",
       " 0.00025632240991475195,\n",
       " 0.0006561155142516432,\n",
       " 0.0009859891206700667,\n",
       " 0.0004509748401603036,\n",
       " 0.002131904010864171,\n",
       " 0.0004553889386057207,\n",
       " 0.004303132809218655,\n",
       " 0.824205385200161,\n",
       " 0.00016735929733674388,\n",
       " 0.017454924263439812,\n",
       " 0.00023395273694108086,\n",
       " 0.0001370666642539858,\n",
       " 0.9059893461580407,\n",
       " 0.5209866070443847,\n",
       " 0.00025050788129154974,\n",
       " 0.034340363918970794,\n",
       " 0.00034250837905481227,\n",
       " 0.004981533252668097,\n",
       " 0.004793532723079179,\n",
       " 0.8110271903770555,\n",
       " 0.0006300335458084855,\n",
       " 0.001522940583682235,\n",
       " 0.0002884839707911448,\n",
       " 0.48083867759641064,\n",
       " 0.0015213989439920885,\n",
       " 0.004850202935476346,\n",
       " 0.3542776490254711,\n",
       " 0.0010705032316823304,\n",
       " 0.0008423228409744311,\n",
       " 0.02400862045922693,\n",
       " 0.001121360861491446,\n",
       " 0.0005920770895765755,\n",
       " 0.00032030982740732295,\n",
       " 0.0001893778820318304,\n",
       " 0.00414800153110612,\n",
       " 0.01128703611791518,\n",
       " 0.0002106295069591337,\n",
       " 0.00306060967694356,\n",
       " 0.0014463835338399144,\n",
       " 0.00021860229429927143,\n",
       " 0.0011097140834631614,\n",
       " 0.00029643676495982077,\n",
       " 0.03971121033026671,\n",
       " 0.0004280764907995705,\n",
       " 0.0015508131911932726,\n",
       " 0.6911813703149962,\n",
       " 0.0011477714184024393,\n",
       " 0.0037230356080815295,\n",
       " 0.00019510566862500846,\n",
       " 0.0014756383519274692,\n",
       " 0.04625015421976931,\n",
       " 0.126627449499536,\n",
       " 0.00013479963826374804,\n",
       " 0.06042550613086517,\n",
       " 0.018665527788361103,\n",
       " 0.05617378801149587,\n",
       " 0.016132439907387896,\n",
       " 0.010441710083238027,\n",
       " 0.00024361090728848954,\n",
       " 0.0068568464893651645,\n",
       " 0.00013849541660982225,\n",
       " 0.32439729148361596,\n",
       " 0.0004680739289533605,\n",
       " 0.00028527220771936405,\n",
       " 0.001460397070511574,\n",
       " 0.00020060659374051832,\n",
       " 0.002870789936228045,\n",
       " 0.0005798638165942422,\n",
       " 0.0009910326222741645,\n",
       " 0.0032864748798331128,\n",
       " 0.6878992960513427,\n",
       " 0.0021826736992798853,\n",
       " 0.0004215889436137979,\n",
       " 0.0011193260992021952,\n",
       " 0.0011030091644663284,\n",
       " 0.16651145774985449,\n",
       " 0.0010366470403326714,\n",
       " 0.0002442500772578238,\n",
       " 0.00011757133453730724,\n",
       " 0.00023231090106986014,\n",
       " 0.001244536965518526,\n",
       " 0.00014865355762473746,\n",
       " 0.0008955170999294341,\n",
       " 0.07448609470654673,\n",
       " 0.5869699222545264,\n",
       " 0.0002164077045714897,\n",
       " 0.00306384418571835,\n",
       " 0.0009645171417459334,\n",
       " 0.07986412962181164,\n",
       " 0.0002809965448501555,\n",
       " 0.0006062525599846429,\n",
       " 0.0002809425271601911,\n",
       " 0.0005038317389112364,\n",
       " 0.00094013920528603,\n",
       " 0.0004752270999124758,\n",
       " 0.0015491912345145743,\n",
       " 0.0005622880708942569,\n",
       " 0.2740919249063205,\n",
       " 0.0003380882365702061,\n",
       " 0.20601581866785643,\n",
       " 0.030828642852765754,\n",
       " 0.00020292811897895717,\n",
       " 0.02922761201096647,\n",
       " 0.08667168984398653,\n",
       " 0.018330520954272293,\n",
       " 0.00038670168565612377,\n",
       " 0.00041955804737415283,\n",
       " 0.017126038334781688,\n",
       " 0.037584790249389655,\n",
       " 0.00028033756754789206,\n",
       " 0.0018369415634584263,\n",
       " 0.43152934893119177,\n",
       " 0.00042531126352029667,\n",
       " 0.005297729624041239,\n",
       " 0.0026112996634324497,\n",
       " 0.0006456692328749782,\n",
       " 0.00043942211006528715,\n",
       " 0.0008889922585637702,\n",
       " 0.654740148869622,\n",
       " 0.05091377330464015,\n",
       " 0.001886479857962978,\n",
       " 0.00028098722587977876,\n",
       " 0.004662180581011135,\n",
       " 0.007580348256598235,\n",
       " 0.4621240412562852,\n",
       " 0.055808816667176346,\n",
       " 0.0010394997263643826,\n",
       " 0.00023904160210964904,\n",
       " 0.17838335373857026,\n",
       " 0.21793948768311075,\n",
       " 0.03260575826893013,\n",
       " 0.15207490585102726,\n",
       " 0.00016187936533417133,\n",
       " 0.3248547279651459,\n",
       " 0.000930783832121617,\n",
       " 0.0002811626414039308,\n",
       " 0.5193585904787935,\n",
       " 0.14565095546735454,\n",
       " 0.34406704453724146,\n",
       " 0.000651163939192568,\n",
       " 0.2703270107628819,\n",
       " 0.004669364350530059,\n",
       " 0.00034215419996487984,\n",
       " 0.24572084796914323,\n",
       " 0.020570093706010338,\n",
       " 0.00023414804086961983,\n",
       " 0.001487538440413615,\n",
       " 0.07589714357266789,\n",
       " 0.00017824388159041348,\n",
       " 0.00021778349871957062,\n",
       " 0.0003737054388098293,\n",
       " 0.001095413857004151,\n",
       " 0.0002635612397014103,\n",
       " 0.3392879576721111,\n",
       " 0.00015212485562098274,\n",
       " 0.017435596315766997,\n",
       " 0.00995406563045933,\n",
       " 0.09971668717218317,\n",
       " 0.0006451758911135295,\n",
       " 0.10156996063027368,\n",
       " 0.004973078391934715,\n",
       " 0.001068500169883221,\n",
       " 0.00028968486295107633,\n",
       " 0.003554212002312123,\n",
       " 0.0004332864857563027,\n",
       " 0.08483808227436747,\n",
       " 0.0003095985218891275,\n",
       " 0.09677113178672005,\n",
       " 0.032554225929260674,\n",
       " 0.00016460286675398442,\n",
       " 0.12162132160594116,\n",
       " 0.00030083311009186875,\n",
       " 0.024858754220177675,\n",
       " 0.0005269718019301728,\n",
       " 0.4379762080736157,\n",
       " 0.0003523675529469718,\n",
       " 0.0012991747978621762,\n",
       " 0.4649371459207312,\n",
       " 0.07857093703312569,\n",
       " 0.5212618628443536,\n",
       " 0.0003716508754557708,\n",
       " 0.6337501393400992,\n",
       " 0.001610464069965816,\n",
       " 0.0037909722718632937,\n",
       " 0.003604111799679032,\n",
       " 0.00035234804149216647,\n",
       " 0.0016568357369101784,\n",
       " 0.006137959415309944,\n",
       " 0.0024171195186897965,\n",
       " 0.0003830266905443791,\n",
       " 0.0007878905148522988,\n",
       " 0.00033769804630701453,\n",
       " 0.0008027459302606845,\n",
       " 0.028891495521968097,\n",
       " 0.0010515917367258855,\n",
       " 0.0005395382127940273,\n",
       " 0.000438515134812729,\n",
       " 0.005411529807656269,\n",
       " 0.0063343463561286294,\n",
       " 0.0010903481362028581,\n",
       " 0.04590696450582471,\n",
       " 0.0026308783231436548,\n",
       " 0.0012885202711904458,\n",
       " 0.0010735125826294872,\n",
       " 0.021644416104060392,\n",
       " 0.01093103141807041,\n",
       " 0.07814025318786903,\n",
       " 0.002251918329606688,\n",
       " 0.000156300888764545,\n",
       " 0.00247086615687254,\n",
       " 0.004558259807418277,\n",
       " 0.00028998792237783363,\n",
       " 0.0003721911768906144,\n",
       " 0.0004720489687892868,\n",
       " 0.03046010767676046,\n",
       " 0.013698148827668444,\n",
       " 0.0012633758427557636,\n",
       " 0.00027141489169054273,\n",
       " 0.0005458610841524702,\n",
       " 0.10309654528087141,\n",
       " 0.003083386479046388,\n",
       " 0.0023442089307388484,\n",
       " 0.002467623580687312,\n",
       " 0.00032382884660400605,\n",
       " 0.0022369616044247555,\n",
       " 0.05271485929469075,\n",
       " 0.0009194495513672057,\n",
       " 0.00431790728641226,\n",
       " 0.004826998310866787,\n",
       " 0.00019576746403523999,\n",
       " 0.002389087460850248,\n",
       " 0.010272165699917303,\n",
       " 0.016921479796256536,\n",
       " 0.008819287431001466,\n",
       " 0.0003208126785052194,\n",
       " 0.00023923689363422577,\n",
       " 0.0042942645724942646,\n",
       " 0.0010342910067873442,\n",
       " 0.0004229000617439594,\n",
       " 0.00039742266429802135,\n",
       " 0.07955342874814018,\n",
       " 0.0012513364456810498,\n",
       " 0.0003443284698157984,\n",
       " 0.0010542554281727497,\n",
       " 0.04930024963971698,\n",
       " 0.002086299567598905,\n",
       " 0.009397396521290504,\n",
       " 0.0171596695088443,\n",
       " 0.22379521138008185,\n",
       " 0.0016083556897788743,\n",
       " 0.18072151282848484,\n",
       " 0.0005749271340488229,\n",
       " 0.00024148572458869644,\n",
       " 0.0611313270708741,\n",
       " 0.00035860739909959066,\n",
       " 0.00040879674070526823,\n",
       " 0.0001226356846313836,\n",
       " 0.00022116258270263442,\n",
       " 0.0005214954079427219,\n",
       " 0.01980503462591373,\n",
       " 0.007609715572943224,\n",
       " 0.0007088042002127938,\n",
       " 0.0013590686475953252,\n",
       " 0.0003798901333526872,\n",
       " 0.0003042288603504891,\n",
       " 0.16607937813038182,\n",
       " 0.3537185461087797,\n",
       " 0.021102619289142338,\n",
       " 0.5267543077677724,\n",
       " 0.04112602721255555,\n",
       " 0.04225240573925892,\n",
       " 0.0010828068879661838,\n",
       " 0.00038011681911589025,\n",
       " 0.00020001078353762042,\n",
       " 0.028826044998550134,\n",
       " 0.02590622214487256,\n",
       " 0.3603748471113931,\n",
       " 0.07164001638791015,\n",
       " 0.001777456101085612,\n",
       " 0.0007449826462506685,\n",
       " 0.0004840187155226667,\n",
       " 0.0033895915599246895,\n",
       " 0.011030093402287507,\n",
       " 0.0008252426264858702,\n",
       " 0.6036372983696107,\n",
       " 0.00016851548050849215,\n",
       " 0.11686031897763764,\n",
       " 0.0004212916393007064,\n",
       " 0.00022771827947349674,\n",
       " 0.014261143431324843,\n",
       " 0.008455085389780164,\n",
       " 0.07734561272853273,\n",
       " 0.0001213618510581797,\n",
       " 0.11018840105734903,\n",
       " 0.0008597266233280808,\n",
       " 0.4363417821845667,\n",
       " 0.0005165080583351001,\n",
       " 0.01384983882323384,\n",
       " 0.005755406924345876,\n",
       " 0.06527463571189378,\n",
       " 0.00012400727404628456,\n",
       " 0.012201945316419516,\n",
       " 0.0001542967668959914,\n",
       " 0.0009106223024805914,\n",
       " 0.0031802635396583592,\n",
       " 0.00035850477697772944,\n",
       " 0.0007760782776220905,\n",
       " 0.0003008440906706445,\n",
       " 0.002181826855944133,\n",
       " 0.10374227493804071,\n",
       " 0.00018857574471016362,\n",
       " 0.2128980340644227,\n",
       " 0.032332072967022965,\n",
       " 0.0006258881158554908,\n",
       " 0.0015809102918868043,\n",
       " 0.004446919339121016,\n",
       " 0.00031895727381688445,\n",
       " 0.0004138880511908745,\n",
       " 0.046511381604009146,\n",
       " 0.0003353764810908186,\n",
       " 0.0002898010658030174,\n",
       " 0.007719991217256217,\n",
       " 0.00020870094967968548,\n",
       " 0.00026428458838468927,\n",
       " 0.23522068185649483,\n",
       " 0.0023297735303216436,\n",
       " 0.00032442646066243013,\n",
       " 0.000492064883866856,\n",
       " 0.0018721417419004023,\n",
       " 0.0004133874818119834,\n",
       " 0.0002415544273478405,\n",
       " 0.0032550718029419876,\n",
       " 0.00027082252984590575,\n",
       " 0.00025986704028184296,\n",
       " 0.17348998190669548,\n",
       " 0.0009198278150912126,\n",
       " 0.0007596320187137904,\n",
       " 0.00042861041284934326,\n",
       " 0.00998047222668132,\n",
       " 0.0004896645939836482,\n",
       " 0.007668105773276505,\n",
       " 0.610140724096199,\n",
       " 0.11457778568574802,\n",
       " 0.006831859939395361,\n",
       " 0.0009987913010044485,\n",
       " 0.0014083304327676732,\n",
       " 0.0006059948641903401,\n",
       " 0.14826171169857374,\n",
       " 0.00032930162160395906,\n",
       " 0.5488189976348301,\n",
       " 0.00029677131706257133,\n",
       " 0.17134935176531055,\n",
       " 0.01764661962345098,\n",
       " 0.00026331804424752856,\n",
       " 0.00034615133647231865,\n",
       " 0.010487423156971286,\n",
       " 0.0003530599070947706,\n",
       " 0.0008477685788673304,\n",
       " 0.0011806555120970098,\n",
       " 0.0005428618829800156,\n",
       " 0.0009702622149989798,\n",
       " 0.0004893412129404822,\n",
       " 0.001005197878791838,\n",
       " 0.00029872306787853594,\n",
       " 0.0023126455683888983,\n",
       " 0.001248745957112812,\n",
       " 0.05419566985015723,\n",
       " 0.0011790687697618147,\n",
       " 0.0010001754234851775,\n",
       " 0.05062882572245505,\n",
       " 0.0003342364498986141,\n",
       " 0.0030047643364310293,\n",
       " 0.00031005246508939685,\n",
       " 0.5841507946755585,\n",
       " 0.00020562686464318847,\n",
       " 0.0024479315321769535,\n",
       " 0.00045816814718375754,\n",
       " 0.00027441072217940585,\n",
       " 0.003149801771375824,\n",
       " 0.0030850962111603343,\n",
       " 0.027819870801920416,\n",
       " 0.0009627127625417645,\n",
       " 0.005729541462541616,\n",
       " 0.02386664540702074,\n",
       " 0.006743551111616716,\n",
       " 0.0014895731770871855,\n",
       " 0.00039029758650078837,\n",
       " 0.0027600662198962846,\n",
       " 0.19468983371401005,\n",
       " 0.00045104531437617566,\n",
       " 0.0937850811058063,\n",
       " 0.0019924680249765745,\n",
       " 0.0006398404919887522,\n",
       " 0.37949957166360127,\n",
       " 0.0007842885597939364,\n",
       " 0.03528380917968925,\n",
       " 0.8584002809474053,\n",
       " 0.0017782837693548993,\n",
       " 0.013334261349592697,\n",
       " 0.011170685336081206,\n",
       " 0.26202177535334503,\n",
       " 0.00030836892322241404,\n",
       " 0.3633568128098614,\n",
       " 0.03243346786042054,\n",
       " 0.00022996903305365498,\n",
       " 0.029134920902036593,\n",
       " 0.0008302937273711382,\n",
       " 0.00028559036208585474,\n",
       " 0.0006335954272788436,\n",
       " 0.0003000255978203202,\n",
       " 0.00012490693638206288,\n",
       " 0.00021932369545530226,\n",
       " 0.0005080341694119701,\n",
       " 0.22105139789932443,\n",
       " 0.08825098798138516,\n",
       " 0.0003058910963689475,\n",
       " 0.0012215669945111335,\n",
       " 0.033531846372082896,\n",
       " 0.0005446724219960465,\n",
       " 0.8649570724513581,\n",
       " 0.0012946041431451418,\n",
       " 0.004626664415528972,\n",
       " 0.5850951183881696,\n",
       " 0.5457679404895734,\n",
       " 0.0011931169240553513,\n",
       " 0.8532578247499795,\n",
       " 0.014839884297210266,\n",
       " 0.004927422893921931,\n",
       " 0.0022218580937201074,\n",
       " 0.0001609706922113047,\n",
       " 0.0002605047056774808,\n",
       " 0.1701751520006605,\n",
       " 0.008922852192831225,\n",
       " 0.007930648806101687,\n",
       " 0.0021922308260582508,\n",
       " 0.00047171625921735863,\n",
       " 0.000215774040721612,\n",
       " 0.0002494608839116422,\n",
       " 0.0001132122206925761,\n",
       " 0.01900653893231087,\n",
       " 0.3989355511483088,\n",
       " 0.009239237440224323,\n",
       " 0.003979682358919833,\n",
       " 0.00010480355909602877,\n",
       " 0.31748484666022597,\n",
       " 0.004054652239455439,\n",
       " 0.1465739284630418,\n",
       " 0.0001959077402813513,\n",
       " 0.00019678521362648276,\n",
       " 0.0012439887728944005,\n",
       " 0.0035249174834614664,\n",
       " 0.5938417110284283,\n",
       " 0.22336544440318618,\n",
       " 0.00028701628349033854,\n",
       " 0.0006773499496232944,\n",
       " 0.00037387981995439575,\n",
       " 0.00045254943235167996,\n",
       " 0.012010593429465996,\n",
       " 0.0006652228278383179,\n",
       " 0.39514982282066663,\n",
       " 0.0004934197085242665,\n",
       " 0.2234512250874832,\n",
       " 0.0018875340552702157,\n",
       " 0.8173555305795381,\n",
       " 0.028409861952181033,\n",
       " 0.006064682785093567,\n",
       " 0.36670990865624725,\n",
       " 0.0002182779204331721,\n",
       " 0.0003377779507036746,\n",
       " 0.0004635138024860802,\n",
       " 0.0312228724322579,\n",
       " 0.0003037392740047781,\n",
       " 0.06533546472620283,\n",
       " 0.005581569771665612,\n",
       " 0.0015820888118400552,\n",
       " 0.03902743024194499,\n",
       " 0.0005712855472723149,\n",
       " 0.0005644252551093003,\n",
       " 0.001461445032197799,\n",
       " 0.0003477282400329171,\n",
       " 0.001425536777672948,\n",
       " 0.0008225690838726211,\n",
       " 0.006523262000032599,\n",
       " 0.09936704911605274,\n",
       " 0.00033600318627629173,\n",
       " 0.00370274376392299,\n",
       " 0.0018302971197905508,\n",
       " 0.01176306222512625,\n",
       " 0.0008350405928878252,\n",
       " 0.0024064339684150573,\n",
       " 0.0007083228474724384,\n",
       " 0.001262495449260933,\n",
       " 0.0003483288114264324,\n",
       " 0.0002721210216291859,\n",
       " 0.004906134063787551,\n",
       " 0.13399802547861453,\n",
       " 0.0007735871442113357,\n",
       " 0.0007057451268290072,\n",
       " 0.0004177620549460017,\n",
       " 0.0003368817741434522,\n",
       " 0.0003951454009982444,\n",
       " 0.004061060563815573,\n",
       " 0.00013931867858757842,\n",
       " 0.019732648982239812,\n",
       " 0.0005865806733250334,\n",
       " 0.04667553250472758,\n",
       " 0.0006636414188851022,\n",
       " 0.0006871106621992634,\n",
       " 0.001988573369704492,\n",
       " 0.0005363994606139527,\n",
       " 0.00045772043544862323,\n",
       " 0.45544134876322245,\n",
       " 0.8585107979282718,\n",
       " 0.005112122706630203,\n",
       " 0.09883109695825663,\n",
       " 0.000652337104897339,\n",
       " 0.0002572715263285145,\n",
       " 0.0013733115379237083,\n",
       " 0.004556868951410636,\n",
       " 0.00014235550890125007,\n",
       " 0.2661052241748639,\n",
       " 0.0003600544580357835,\n",
       " 0.19619908222917853,\n",
       " 0.003572575979625389,\n",
       " 0.00034357922259739565,\n",
       " 0.0007000116246321639,\n",
       " 0.0002225661209736744,\n",
       " 0.05429102247157553,\n",
       " 0.00015829852394291945,\n",
       " 0.0012370954133426322,\n",
       " 0.29015005294108287,\n",
       " 0.23720968626077463,\n",
       " 0.0024271009552895148,\n",
       " 0.0038055399358319407,\n",
       " 0.0006090743111995006,\n",
       " 0.024548515668440643,\n",
       " 0.005872542130372977,\n",
       " 0.001813150963711548,\n",
       " 0.0005999490905759418,\n",
       " 0.00033174262462996765,\n",
       " 0.5908114516665893,\n",
       " 0.01156079769826313,\n",
       " 0.0015437460450750762,\n",
       " 0.0004721929431440501,\n",
       " 0.00027072871137138777,\n",
       " 0.00032079446551701936,\n",
       " 0.0008611261212019172,\n",
       " 0.005851258947703453,\n",
       " 0.0001070491876481323,\n",
       " 0.0003182539533653354,\n",
       " 0.319369863083442,\n",
       " 0.0006903709319017001,\n",
       " 0.0001695197421870032,\n",
       " 0.0002135663134612802,\n",
       " 0.7767886159206204,\n",
       " 0.0003778362408913206,\n",
       " 0.03220269676669684,\n",
       " 0.0017728150442260606,\n",
       " 0.03719440302908641,\n",
       " 0.0007897698105037155,\n",
       " 0.1112678915566528,\n",
       " 0.0003564736979991526,\n",
       " 0.003000579087534978,\n",
       " 0.0057913363984305015,\n",
       " 0.00046751312023510504,\n",
       " 0.0002224281883105293,\n",
       " 8.949896297792355e-05,\n",
       " 0.016488315662088863,\n",
       " 0.0018843689632754314,\n",
       " 0.002003889397906794,\n",
       " 0.00025359941047018857,\n",
       " 0.01732127274323953,\n",
       " 0.002125292343360546,\n",
       " 0.0008123892446631641,\n",
       " 0.000586388602998254,\n",
       " 0.00019293973464387914,\n",
       " 0.022942142459220542,\n",
       " 0.00022495606213234265,\n",
       " 0.7311032054826069,\n",
       " 0.0037628055284560256,\n",
       " 0.5919784399796691,\n",
       " 0.0010527175327210846,\n",
       " 0.021716214362828976,\n",
       " 0.00044865610081634217,\n",
       " 0.006693905626465374,\n",
       " 0.014437427408536143,\n",
       " 0.0006789158212168726,\n",
       " 0.0037864112426314682,\n",
       " 0.004761909658022966,\n",
       " ...]"
      ]
     },
     "execution_count": 55,
     "metadata": {},
     "output_type": "execute_result"
    }
   ],
   "source": [
    "# probability of the positive class for each sample in X_test\n",
    "probs=[_[1] for _ in best_model.predict_proba(X_test)]"
   ]
  },
  {
   "cell_type": "markdown",
   "id": "9aff6909-a9b8-48a5-a6a3-34348c82d958",
   "metadata": {},
   "source": [
    "##### Calibration Analysis"
   ]
  },
  {
   "cell_type": "code",
   "execution_count": 59,
   "id": "2f95b719",
   "metadata": {},
   "outputs": [
    {
     "data": {
      "application/vnd.plotly.v1+json": {
       "config": {
        "plotlyServerURL": "https://plot.ly"
       },
       "data": [
        {
         "name": "Observed Rate",
         "text": [
          0.002,
          0.035,
          0.087,
          0.125,
          0.121,
          0.225,
          0.275,
          0.293,
          0.382,
          0.583
         ],
         "textposition": "auto",
         "type": "bar",
         "x": [
          "0.00 - 0.10",
          "0.10 - 0.20",
          "0.20 - 0.30",
          "0.30 - 0.40",
          "0.40 - 0.50",
          "0.50 - 0.60",
          "0.60 - 0.70",
          "0.70 - 0.80",
          "0.80 - 0.90",
          "0.90 - 1.00"
         ],
         "y": [
          0.002404207362885049,
          0.03546099290780142,
          0.0867579908675799,
          0.125,
          0.12121212121212122,
          0.2247191011235955,
          0.275,
          0.2926829268292683,
          0.38181818181818183,
          0.5833333333333334
         ]
        },
        {
         "name": "Expected Rate",
         "text": [
          0.05,
          0.15,
          0.25,
          0.35,
          0.45,
          0.55,
          0.65,
          0.75,
          0.85,
          0.95
         ],
         "textposition": "auto",
         "type": "bar",
         "x": [
          "0.00 - 0.10",
          "0.10 - 0.20",
          "0.20 - 0.30",
          "0.30 - 0.40",
          "0.40 - 0.50",
          "0.50 - 0.60",
          "0.60 - 0.70",
          "0.70 - 0.80",
          "0.80 - 0.90",
          "0.90 - 1.00"
         ],
         "y": [
          0.05,
          0.15000000000000002,
          0.25,
          0.35000000000000003,
          0.45,
          0.55,
          0.6500000000000001,
          0.75,
          0.8500000000000001,
          0.95
         ]
        }
       ],
       "layout": {
        "barmode": "group",
        "height": 600,
        "template": {
         "data": {
          "bar": [
           {
            "error_x": {
             "color": "#2a3f5f"
            },
            "error_y": {
             "color": "#2a3f5f"
            },
            "marker": {
             "line": {
              "color": "#E5ECF6",
              "width": 0.5
             },
             "pattern": {
              "fillmode": "overlay",
              "size": 10,
              "solidity": 0.2
             }
            },
            "type": "bar"
           }
          ],
          "barpolar": [
           {
            "marker": {
             "line": {
              "color": "#E5ECF6",
              "width": 0.5
             },
             "pattern": {
              "fillmode": "overlay",
              "size": 10,
              "solidity": 0.2
             }
            },
            "type": "barpolar"
           }
          ],
          "carpet": [
           {
            "aaxis": {
             "endlinecolor": "#2a3f5f",
             "gridcolor": "white",
             "linecolor": "white",
             "minorgridcolor": "white",
             "startlinecolor": "#2a3f5f"
            },
            "baxis": {
             "endlinecolor": "#2a3f5f",
             "gridcolor": "white",
             "linecolor": "white",
             "minorgridcolor": "white",
             "startlinecolor": "#2a3f5f"
            },
            "type": "carpet"
           }
          ],
          "choropleth": [
           {
            "colorbar": {
             "outlinewidth": 0,
             "ticks": ""
            },
            "type": "choropleth"
           }
          ],
          "contour": [
           {
            "colorbar": {
             "outlinewidth": 0,
             "ticks": ""
            },
            "colorscale": [
             [
              0,
              "#0d0887"
             ],
             [
              0.1111111111111111,
              "#46039f"
             ],
             [
              0.2222222222222222,
              "#7201a8"
             ],
             [
              0.3333333333333333,
              "#9c179e"
             ],
             [
              0.4444444444444444,
              "#bd3786"
             ],
             [
              0.5555555555555556,
              "#d8576b"
             ],
             [
              0.6666666666666666,
              "#ed7953"
             ],
             [
              0.7777777777777778,
              "#fb9f3a"
             ],
             [
              0.8888888888888888,
              "#fdca26"
             ],
             [
              1,
              "#f0f921"
             ]
            ],
            "type": "contour"
           }
          ],
          "contourcarpet": [
           {
            "colorbar": {
             "outlinewidth": 0,
             "ticks": ""
            },
            "type": "contourcarpet"
           }
          ],
          "heatmap": [
           {
            "colorbar": {
             "outlinewidth": 0,
             "ticks": ""
            },
            "colorscale": [
             [
              0,
              "#0d0887"
             ],
             [
              0.1111111111111111,
              "#46039f"
             ],
             [
              0.2222222222222222,
              "#7201a8"
             ],
             [
              0.3333333333333333,
              "#9c179e"
             ],
             [
              0.4444444444444444,
              "#bd3786"
             ],
             [
              0.5555555555555556,
              "#d8576b"
             ],
             [
              0.6666666666666666,
              "#ed7953"
             ],
             [
              0.7777777777777778,
              "#fb9f3a"
             ],
             [
              0.8888888888888888,
              "#fdca26"
             ],
             [
              1,
              "#f0f921"
             ]
            ],
            "type": "heatmap"
           }
          ],
          "heatmapgl": [
           {
            "colorbar": {
             "outlinewidth": 0,
             "ticks": ""
            },
            "colorscale": [
             [
              0,
              "#0d0887"
             ],
             [
              0.1111111111111111,
              "#46039f"
             ],
             [
              0.2222222222222222,
              "#7201a8"
             ],
             [
              0.3333333333333333,
              "#9c179e"
             ],
             [
              0.4444444444444444,
              "#bd3786"
             ],
             [
              0.5555555555555556,
              "#d8576b"
             ],
             [
              0.6666666666666666,
              "#ed7953"
             ],
             [
              0.7777777777777778,
              "#fb9f3a"
             ],
             [
              0.8888888888888888,
              "#fdca26"
             ],
             [
              1,
              "#f0f921"
             ]
            ],
            "type": "heatmapgl"
           }
          ],
          "histogram": [
           {
            "marker": {
             "pattern": {
              "fillmode": "overlay",
              "size": 10,
              "solidity": 0.2
             }
            },
            "type": "histogram"
           }
          ],
          "histogram2d": [
           {
            "colorbar": {
             "outlinewidth": 0,
             "ticks": ""
            },
            "colorscale": [
             [
              0,
              "#0d0887"
             ],
             [
              0.1111111111111111,
              "#46039f"
             ],
             [
              0.2222222222222222,
              "#7201a8"
             ],
             [
              0.3333333333333333,
              "#9c179e"
             ],
             [
              0.4444444444444444,
              "#bd3786"
             ],
             [
              0.5555555555555556,
              "#d8576b"
             ],
             [
              0.6666666666666666,
              "#ed7953"
             ],
             [
              0.7777777777777778,
              "#fb9f3a"
             ],
             [
              0.8888888888888888,
              "#fdca26"
             ],
             [
              1,
              "#f0f921"
             ]
            ],
            "type": "histogram2d"
           }
          ],
          "histogram2dcontour": [
           {
            "colorbar": {
             "outlinewidth": 0,
             "ticks": ""
            },
            "colorscale": [
             [
              0,
              "#0d0887"
             ],
             [
              0.1111111111111111,
              "#46039f"
             ],
             [
              0.2222222222222222,
              "#7201a8"
             ],
             [
              0.3333333333333333,
              "#9c179e"
             ],
             [
              0.4444444444444444,
              "#bd3786"
             ],
             [
              0.5555555555555556,
              "#d8576b"
             ],
             [
              0.6666666666666666,
              "#ed7953"
             ],
             [
              0.7777777777777778,
              "#fb9f3a"
             ],
             [
              0.8888888888888888,
              "#fdca26"
             ],
             [
              1,
              "#f0f921"
             ]
            ],
            "type": "histogram2dcontour"
           }
          ],
          "mesh3d": [
           {
            "colorbar": {
             "outlinewidth": 0,
             "ticks": ""
            },
            "type": "mesh3d"
           }
          ],
          "parcoords": [
           {
            "line": {
             "colorbar": {
              "outlinewidth": 0,
              "ticks": ""
             }
            },
            "type": "parcoords"
           }
          ],
          "pie": [
           {
            "automargin": true,
            "type": "pie"
           }
          ],
          "scatter": [
           {
            "fillpattern": {
             "fillmode": "overlay",
             "size": 10,
             "solidity": 0.2
            },
            "type": "scatter"
           }
          ],
          "scatter3d": [
           {
            "line": {
             "colorbar": {
              "outlinewidth": 0,
              "ticks": ""
             }
            },
            "marker": {
             "colorbar": {
              "outlinewidth": 0,
              "ticks": ""
             }
            },
            "type": "scatter3d"
           }
          ],
          "scattercarpet": [
           {
            "marker": {
             "colorbar": {
              "outlinewidth": 0,
              "ticks": ""
             }
            },
            "type": "scattercarpet"
           }
          ],
          "scattergeo": [
           {
            "marker": {
             "colorbar": {
              "outlinewidth": 0,
              "ticks": ""
             }
            },
            "type": "scattergeo"
           }
          ],
          "scattergl": [
           {
            "marker": {
             "colorbar": {
              "outlinewidth": 0,
              "ticks": ""
             }
            },
            "type": "scattergl"
           }
          ],
          "scattermapbox": [
           {
            "marker": {
             "colorbar": {
              "outlinewidth": 0,
              "ticks": ""
             }
            },
            "type": "scattermapbox"
           }
          ],
          "scatterpolar": [
           {
            "marker": {
             "colorbar": {
              "outlinewidth": 0,
              "ticks": ""
             }
            },
            "type": "scatterpolar"
           }
          ],
          "scatterpolargl": [
           {
            "marker": {
             "colorbar": {
              "outlinewidth": 0,
              "ticks": ""
             }
            },
            "type": "scatterpolargl"
           }
          ],
          "scatterternary": [
           {
            "marker": {
             "colorbar": {
              "outlinewidth": 0,
              "ticks": ""
             }
            },
            "type": "scatterternary"
           }
          ],
          "surface": [
           {
            "colorbar": {
             "outlinewidth": 0,
             "ticks": ""
            },
            "colorscale": [
             [
              0,
              "#0d0887"
             ],
             [
              0.1111111111111111,
              "#46039f"
             ],
             [
              0.2222222222222222,
              "#7201a8"
             ],
             [
              0.3333333333333333,
              "#9c179e"
             ],
             [
              0.4444444444444444,
              "#bd3786"
             ],
             [
              0.5555555555555556,
              "#d8576b"
             ],
             [
              0.6666666666666666,
              "#ed7953"
             ],
             [
              0.7777777777777778,
              "#fb9f3a"
             ],
             [
              0.8888888888888888,
              "#fdca26"
             ],
             [
              1,
              "#f0f921"
             ]
            ],
            "type": "surface"
           }
          ],
          "table": [
           {
            "cells": {
             "fill": {
              "color": "#EBF0F8"
             },
             "line": {
              "color": "white"
             }
            },
            "header": {
             "fill": {
              "color": "#C8D4E3"
             },
             "line": {
              "color": "white"
             }
            },
            "type": "table"
           }
          ]
         },
         "layout": {
          "annotationdefaults": {
           "arrowcolor": "#2a3f5f",
           "arrowhead": 0,
           "arrowwidth": 1
          },
          "autotypenumbers": "strict",
          "coloraxis": {
           "colorbar": {
            "outlinewidth": 0,
            "ticks": ""
           }
          },
          "colorscale": {
           "diverging": [
            [
             0,
             "#8e0152"
            ],
            [
             0.1,
             "#c51b7d"
            ],
            [
             0.2,
             "#de77ae"
            ],
            [
             0.3,
             "#f1b6da"
            ],
            [
             0.4,
             "#fde0ef"
            ],
            [
             0.5,
             "#f7f7f7"
            ],
            [
             0.6,
             "#e6f5d0"
            ],
            [
             0.7,
             "#b8e186"
            ],
            [
             0.8,
             "#7fbc41"
            ],
            [
             0.9,
             "#4d9221"
            ],
            [
             1,
             "#276419"
            ]
           ],
           "sequential": [
            [
             0,
             "#0d0887"
            ],
            [
             0.1111111111111111,
             "#46039f"
            ],
            [
             0.2222222222222222,
             "#7201a8"
            ],
            [
             0.3333333333333333,
             "#9c179e"
            ],
            [
             0.4444444444444444,
             "#bd3786"
            ],
            [
             0.5555555555555556,
             "#d8576b"
            ],
            [
             0.6666666666666666,
             "#ed7953"
            ],
            [
             0.7777777777777778,
             "#fb9f3a"
            ],
            [
             0.8888888888888888,
             "#fdca26"
            ],
            [
             1,
             "#f0f921"
            ]
           ],
           "sequentialminus": [
            [
             0,
             "#0d0887"
            ],
            [
             0.1111111111111111,
             "#46039f"
            ],
            [
             0.2222222222222222,
             "#7201a8"
            ],
            [
             0.3333333333333333,
             "#9c179e"
            ],
            [
             0.4444444444444444,
             "#bd3786"
            ],
            [
             0.5555555555555556,
             "#d8576b"
            ],
            [
             0.6666666666666666,
             "#ed7953"
            ],
            [
             0.7777777777777778,
             "#fb9f3a"
            ],
            [
             0.8888888888888888,
             "#fdca26"
            ],
            [
             1,
             "#f0f921"
            ]
           ]
          },
          "colorway": [
           "#636efa",
           "#EF553B",
           "#00cc96",
           "#ab63fa",
           "#FFA15A",
           "#19d3f3",
           "#FF6692",
           "#B6E880",
           "#FF97FF",
           "#FECB52"
          ],
          "font": {
           "color": "#2a3f5f"
          },
          "geo": {
           "bgcolor": "white",
           "lakecolor": "white",
           "landcolor": "#E5ECF6",
           "showlakes": true,
           "showland": true,
           "subunitcolor": "white"
          },
          "hoverlabel": {
           "align": "left"
          },
          "hovermode": "closest",
          "mapbox": {
           "style": "light"
          },
          "paper_bgcolor": "white",
          "plot_bgcolor": "#E5ECF6",
          "polar": {
           "angularaxis": {
            "gridcolor": "white",
            "linecolor": "white",
            "ticks": ""
           },
           "bgcolor": "#E5ECF6",
           "radialaxis": {
            "gridcolor": "white",
            "linecolor": "white",
            "ticks": ""
           }
          },
          "scene": {
           "xaxis": {
            "backgroundcolor": "#E5ECF6",
            "gridcolor": "white",
            "gridwidth": 2,
            "linecolor": "white",
            "showbackground": true,
            "ticks": "",
            "zerolinecolor": "white"
           },
           "yaxis": {
            "backgroundcolor": "#E5ECF6",
            "gridcolor": "white",
            "gridwidth": 2,
            "linecolor": "white",
            "showbackground": true,
            "ticks": "",
            "zerolinecolor": "white"
           },
           "zaxis": {
            "backgroundcolor": "#E5ECF6",
            "gridcolor": "white",
            "gridwidth": 2,
            "linecolor": "white",
            "showbackground": true,
            "ticks": "",
            "zerolinecolor": "white"
           }
          },
          "shapedefaults": {
           "line": {
            "color": "#2a3f5f"
           }
          },
          "ternary": {
           "aaxis": {
            "gridcolor": "white",
            "linecolor": "white",
            "ticks": ""
           },
           "baxis": {
            "gridcolor": "white",
            "linecolor": "white",
            "ticks": ""
           },
           "bgcolor": "#E5ECF6",
           "caxis": {
            "gridcolor": "white",
            "linecolor": "white",
            "ticks": ""
           }
          },
          "title": {
           "x": 0.05
          },
          "xaxis": {
           "automargin": true,
           "gridcolor": "white",
           "linecolor": "white",
           "ticks": "",
           "title": {
            "standoff": 15
           },
           "zerolinecolor": "white",
           "zerolinewidth": 2
          },
          "yaxis": {
           "automargin": true,
           "gridcolor": "white",
           "linecolor": "white",
           "ticks": "",
           "title": {
            "standoff": 15
           },
           "zerolinecolor": "white",
           "zerolinewidth": 2
          }
         }
        },
        "title": {
         "text": "Model Calibration Plot"
        },
        "width": 900,
        "xaxis": {
         "autorange": true,
         "range": [
          -0.5,
          9.5
         ],
         "title": {
          "text": "Probability Bin"
         },
         "type": "category"
        },
        "yaxis": {
         "autorange": true,
         "range": [
          0,
          1
         ],
         "title": {
          "text": "Rate"
         },
         "type": "linear"
        }
       }
      },
      "image/png": "[encoded data removed]",
      "text/html": [
       "<div>                            <div id=\"9e317698-9971-4865-840c-b506c317c53e\" class=\"plotly-graph-div\" style=\"height:600px; width:900px;\"></div>            <script type=\"text/javascript\">                require([\"plotly\"], function(Plotly) {                    window.PLOTLYENV=window.PLOTLYENV || {};                                    if (document.getElementById(\"9e317698-9971-4865-840c-b506c317c53e\")) {                    Plotly.newPlot(                        \"9e317698-9971-4865-840c-b506c317c53e\",                        [{\"name\":\"Observed Rate\",\"text\":[0.002,0.035,0.087,0.125,0.121,0.225,0.275,0.293,0.382,0.583],\"textposition\":\"auto\",\"x\":[\"0.00 - 0.10\",\"0.10 - 0.20\",\"0.20 - 0.30\",\"0.30 - 0.40\",\"0.40 - 0.50\",\"0.50 - 0.60\",\"0.60 - 0.70\",\"0.70 - 0.80\",\"0.80 - 0.90\",\"0.90 - 1.00\"],\"y\":[0.002404207362885049,0.03546099290780142,0.0867579908675799,0.125,0.12121212121212122,0.2247191011235955,0.275,0.2926829268292683,0.38181818181818183,0.5833333333333334],\"type\":\"bar\"},{\"name\":\"Expected Rate\",\"text\":[0.05,0.15,0.25,0.35,0.45,0.55,0.65,0.75,0.85,0.95],\"textposition\":\"auto\",\"x\":[\"0.00 - 0.10\",\"0.10 - 0.20\",\"0.20 - 0.30\",\"0.30 - 0.40\",\"0.40 - 0.50\",\"0.50 - 0.60\",\"0.60 - 0.70\",\"0.70 - 0.80\",\"0.80 - 0.90\",\"0.90 - 1.00\"],\"y\":[0.05,0.15000000000000002,0.25,0.35000000000000003,0.45,0.55,0.6500000000000001,0.75,0.8500000000000001,0.95],\"type\":\"bar\"}],                        {\"template\":{\"data\":{\"histogram2dcontour\":[{\"type\":\"histogram2dcontour\",\"colorbar\":{\"outlinewidth\":0,\"ticks\":\"\"},\"colorscale\":[[0.0,\"#0d0887\"],[0.1111111111111111,\"#46039f\"],[0.2222222222222222,\"#7201a8\"],[0.3333333333333333,\"#9c179e\"],[0.4444444444444444,\"#bd3786\"],[0.5555555555555556,\"#d8576b\"],[0.6666666666666666,\"#ed7953\"],[0.7777777777777778,\"#fb9f3a\"],[0.8888888888888888,\"#fdca26\"],[1.0,\"#f0f921\"]]}],\"choropleth\":[{\"type\":\"choropleth\",\"colorbar\":{\"outlinewidth\":0,\"ticks\":\"\"}}],\"histogram2d\":[{\"type\":\"histogram2d\",\"colorbar\":{\"outlinewidth\":0,\"ticks\":\"\"},\"colorscale\":[[0.0,\"#0d0887\"],[0.1111111111111111,\"#46039f\"],[0.2222222222222222,\"#7201a8\"],[0.3333333333333333,\"#9c179e\"],[0.4444444444444444,\"#bd3786\"],[0.5555555555555556,\"#d8576b\"],[0.6666666666666666,\"#ed7953\"],[0.7777777777777778,\"#fb9f3a\"],[0.8888888888888888,\"#fdca26\"],[1.0,\"#f0f921\"]]}],\"heatmap\":[{\"type\":\"heatmap\",\"colorbar\":{\"outlinewidth\":0,\"ticks\":\"\"},\"colorscale\":[[0.0,\"#0d0887\"],[0.1111111111111111,\"#46039f\"],[0.2222222222222222,\"#7201a8\"],[0.3333333333333333,\"#9c179e\"],[0.4444444444444444,\"#bd3786\"],[0.5555555555555556,\"#d8576b\"],[0.6666666666666666,\"#ed7953\"],[0.7777777777777778,\"#fb9f3a\"],[0.8888888888888888,\"#fdca26\"],[1.0,\"#f0f921\"]]}],\"heatmapgl\":[{\"type\":\"heatmapgl\",\"colorbar\":{\"outlinewidth\":0,\"ticks\":\"\"},\"colorscale\":[[0.0,\"#0d0887\"],[0.1111111111111111,\"#46039f\"],[0.2222222222222222,\"#7201a8\"],[0.3333333333333333,\"#9c179e\"],[0.4444444444444444,\"#bd3786\"],[0.5555555555555556,\"#d8576b\"],[0.6666666666666666,\"#ed7953\"],[0.7777777777777778,\"#fb9f3a\"],[0.8888888888888888,\"#fdca26\"],[1.0,\"#f0f921\"]]}],\"contourcarpet\":[{\"type\":\"contourcarpet\",\"colorbar\":{\"outlinewidth\":0,\"ticks\":\"\"}}],\"contour\":[{\"type\":\"contour\",\"colorbar\":{\"outlinewidth\":0,\"ticks\":\"\"},\"colorscale\":[[0.0,\"#0d0887\"],[0.1111111111111111,\"#46039f\"],[0.2222222222222222,\"#7201a8\"],[0.3333333333333333,\"#9c179e\"],[0.4444444444444444,\"#bd3786\"],[0.5555555555555556,\"#d8576b\"],[0.6666666666666666,\"#ed7953\"],[0.7777777777777778,\"#fb9f3a\"],[0.8888888888888888,\"#fdca26\"],[1.0,\"#f0f921\"]]}],\"surface\":[{\"type\":\"surface\",\"colorbar\":{\"outlinewidth\":0,\"ticks\":\"\"},\"colorscale\":[[0.0,\"#0d0887\"],[0.1111111111111111,\"#46039f\"],[0.2222222222222222,\"#7201a8\"],[0.3333333333333333,\"#9c179e\"],[0.4444444444444444,\"#bd3786\"],[0.5555555555555556,\"#d8576b\"],[0.6666666666666666,\"#ed7953\"],[0.7777777777777778,\"#fb9f3a\"],[0.8888888888888888,\"#fdca26\"],[1.0,\"#f0f921\"]]}],\"mesh3d\":[{\"type\":\"mesh3d\",\"colorbar\":{\"outlinewidth\":0,\"ticks\":\"\"}}],\"scatter\":[{\"fillpattern\":{\"fillmode\":\"overlay\",\"size\":10,\"solidity\":0.2},\"type\":\"scatter\"}],\"parcoords\":[{\"type\":\"parcoords\",\"line\":{\"colorbar\":{\"outlinewidth\":0,\"ticks\":\"\"}}}],\"scatterpolargl\":[{\"type\":\"scatterpolargl\",\"marker\":{\"colorbar\":{\"outlinewidth\":0,\"ticks\":\"\"}}}],\"bar\":[{\"error_x\":{\"color\":\"#2a3f5f\"},\"error_y\":{\"color\":\"#2a3f5f\"},\"marker\":{\"line\":{\"color\":\"#E5ECF6\",\"width\":0.5},\"pattern\":{\"fillmode\":\"overlay\",\"size\":10,\"solidity\":0.2}},\"type\":\"bar\"}],\"scattergeo\":[{\"type\":\"scattergeo\",\"marker\":{\"colorbar\":{\"outlinewidth\":0,\"ticks\":\"\"}}}],\"scatterpolar\":[{\"type\":\"scatterpolar\",\"marker\":{\"colorbar\":{\"outlinewidth\":0,\"ticks\":\"\"}}}],\"histogram\":[{\"marker\":{\"pattern\":{\"fillmode\":\"overlay\",\"size\":10,\"solidity\":0.2}},\"type\":\"histogram\"}],\"scattergl\":[{\"type\":\"scattergl\",\"marker\":{\"colorbar\":{\"outlinewidth\":0,\"ticks\":\"\"}}}],\"scatter3d\":[{\"type\":\"scatter3d\",\"line\":{\"colorbar\":{\"outlinewidth\":0,\"ticks\":\"\"}},\"marker\":{\"colorbar\":{\"outlinewidth\":0,\"ticks\":\"\"}}}],\"scattermapbox\":[{\"type\":\"scattermapbox\",\"marker\":{\"colorbar\":{\"outlinewidth\":0,\"ticks\":\"\"}}}],\"scatterternary\":[{\"type\":\"scatterternary\",\"marker\":{\"colorbar\":{\"outlinewidth\":0,\"ticks\":\"\"}}}],\"scattercarpet\":[{\"type\":\"scattercarpet\",\"marker\":{\"colorbar\":{\"outlinewidth\":0,\"ticks\":\"\"}}}],\"carpet\":[{\"aaxis\":{\"endlinecolor\":\"#2a3f5f\",\"gridcolor\":\"white\",\"linecolor\":\"white\",\"minorgridcolor\":\"white\",\"startlinecolor\":\"#2a3f5f\"},\"baxis\":{\"endlinecolor\":\"#2a3f5f\",\"gridcolor\":\"white\",\"linecolor\":\"white\",\"minorgridcolor\":\"white\",\"startlinecolor\":\"#2a3f5f\"},\"type\":\"carpet\"}],\"table\":[{\"cells\":{\"fill\":{\"color\":\"#EBF0F8\"},\"line\":{\"color\":\"white\"}},\"header\":{\"fill\":{\"color\":\"#C8D4E3\"},\"line\":{\"color\":\"white\"}},\"type\":\"table\"}],\"barpolar\":[{\"marker\":{\"line\":{\"color\":\"#E5ECF6\",\"width\":0.5},\"pattern\":{\"fillmode\":\"overlay\",\"size\":10,\"solidity\":0.2}},\"type\":\"barpolar\"}],\"pie\":[{\"automargin\":true,\"type\":\"pie\"}]},\"layout\":{\"autotypenumbers\":\"strict\",\"colorway\":[\"#636efa\",\"#EF553B\",\"#00cc96\",\"#ab63fa\",\"#FFA15A\",\"#19d3f3\",\"#FF6692\",\"#B6E880\",\"#FF97FF\",\"#FECB52\"],\"font\":{\"color\":\"#2a3f5f\"},\"hovermode\":\"closest\",\"hoverlabel\":{\"align\":\"left\"},\"paper_bgcolor\":\"white\",\"plot_bgcolor\":\"#E5ECF6\",\"polar\":{\"bgcolor\":\"#E5ECF6\",\"angularaxis\":{\"gridcolor\":\"white\",\"linecolor\":\"white\",\"ticks\":\"\"},\"radialaxis\":{\"gridcolor\":\"white\",\"linecolor\":\"white\",\"ticks\":\"\"}},\"ternary\":{\"bgcolor\":\"#E5ECF6\",\"aaxis\":{\"gridcolor\":\"white\",\"linecolor\":\"white\",\"ticks\":\"\"},\"baxis\":{\"gridcolor\":\"white\",\"linecolor\":\"white\",\"ticks\":\"\"},\"caxis\":{\"gridcolor\":\"white\",\"linecolor\":\"white\",\"ticks\":\"\"}},\"coloraxis\":{\"colorbar\":{\"outlinewidth\":0,\"ticks\":\"\"}},\"colorscale\":{\"sequential\":[[0.0,\"#0d0887\"],[0.1111111111111111,\"#46039f\"],[0.2222222222222222,\"#7201a8\"],[0.3333333333333333,\"#9c179e\"],[0.4444444444444444,\"#bd3786\"],[0.5555555555555556,\"#d8576b\"],[0.6666666666666666,\"#ed7953\"],[0.7777777777777778,\"#fb9f3a\"],[0.8888888888888888,\"#fdca26\"],[1.0,\"#f0f921\"]],\"sequentialminus\":[[0.0,\"#0d0887\"],[0.1111111111111111,\"#46039f\"],[0.2222222222222222,\"#7201a8\"],[0.3333333333333333,\"#9c179e\"],[0.4444444444444444,\"#bd3786\"],[0.5555555555555556,\"#d8576b\"],[0.6666666666666666,\"#ed7953\"],[0.7777777777777778,\"#fb9f3a\"],[0.8888888888888888,\"#fdca26\"],[1.0,\"#f0f921\"]],\"diverging\":[[0,\"#8e0152\"],[0.1,\"#c51b7d\"],[0.2,\"#de77ae\"],[0.3,\"#f1b6da\"],[0.4,\"#fde0ef\"],[0.5,\"#f7f7f7\"],[0.6,\"#e6f5d0\"],[0.7,\"#b8e186\"],[0.8,\"#7fbc41\"],[0.9,\"#4d9221\"],[1,\"#276419\"]]},\"xaxis\":{\"gridcolor\":\"white\",\"linecolor\":\"white\",\"ticks\":\"\",\"title\":{\"standoff\":15},\"zerolinecolor\":\"white\",\"automargin\":true,\"zerolinewidth\":2},\"yaxis\":{\"gridcolor\":\"white\",\"linecolor\":\"white\",\"ticks\":\"\",\"title\":{\"standoff\":15},\"zerolinecolor\":\"white\",\"automargin\":true,\"zerolinewidth\":2},\"scene\":{\"xaxis\":{\"backgroundcolor\":\"#E5ECF6\",\"gridcolor\":\"white\",\"linecolor\":\"white\",\"showbackground\":true,\"ticks\":\"\",\"zerolinecolor\":\"white\",\"gridwidth\":2},\"yaxis\":{\"backgroundcolor\":\"#E5ECF6\",\"gridcolor\":\"white\",\"linecolor\":\"white\",\"showbackground\":true,\"ticks\":\"\",\"zerolinecolor\":\"white\",\"gridwidth\":2},\"zaxis\":{\"backgroundcolor\":\"#E5ECF6\",\"gridcolor\":\"white\",\"linecolor\":\"white\",\"showbackground\":true,\"ticks\":\"\",\"zerolinecolor\":\"white\",\"gridwidth\":2}},\"shapedefaults\":{\"line\":{\"color\":\"#2a3f5f\"}},\"annotationdefaults\":{\"arrowcolor\":\"#2a3f5f\",\"arrowhead\":0,\"arrowwidth\":1},\"geo\":{\"bgcolor\":\"white\",\"landcolor\":\"#E5ECF6\",\"subunitcolor\":\"white\",\"showland\":true,\"showlakes\":true,\"lakecolor\":\"white\"},\"title\":{\"x\":0.05},\"mapbox\":{\"style\":\"light\"}}},\"title\":{\"text\":\"Model Calibration Plot\"},\"xaxis\":{\"title\":{\"text\":\"Probability Bin\"}},\"yaxis\":{\"title\":{\"text\":\"Rate\"}},\"barmode\":\"group\",\"width\":900,\"height\":600},                        {\"responsive\": true}                    ).then(function(){\n",
       "                            \n",
       "var gd = document.getElementById('9e317698-9971-4865-840c-b506c317c53e');\n",
       "var x = new MutationObserver(function (mutations, observer) {{\n",
       "        var display = window.getComputedStyle(gd).display;\n",
       "        if (!display || display === 'none') {{\n",
       "            console.log([gd, 'removed!']);\n",
       "            Plotly.purge(gd);\n",
       "            observer.disconnect();\n",
       "        }}\n",
       "}});\n",
       "\n",
       "// Listen for the removal of the full notebook cells\n",
       "var notebookContainer = gd.closest('#notebook-container');\n",
       "if (notebookContainer) {{\n",
       "    x.observe(notebookContainer, {childList: true});\n",
       "}}\n",
       "\n",
       "// Listen for the clearing of the current output cell\n",
       "var outputEl = gd.closest('.output');\n",
       "if (outputEl) {{\n",
       "    x.observe(outputEl, {childList: true});\n",
       "}}\n",
       "\n",
       "                        })                };                });            </script>        </div>"
      ]
     },
     "metadata": {},
     "output_type": "display_data"
    }
   ],
   "source": [
    "# Function to bin probabilities and calculate observed vs expected rates\n",
    "def calibration_analysis(probs, y_test, n_bins=4):\n",
    "    # Create bins for the probability ranges\n",
    "    bins = np.linspace(0, 1, n_bins + 1)\n",
    "    bin_labels = [f\"{bins[i]:.2f} - {bins[i+1]:.2f}\" for i in range(n_bins)]\n",
    "    \n",
    "    # Bin the probabilities\n",
    "    df = pd.DataFrame({'prob': probs, 'outcome': y_test})\n",
    "    df['bin'] = pd.cut(df['prob'], bins=bins, labels=bin_labels, include_lowest=True)\n",
    "    \n",
    "    # Calculate observed and expected rates\n",
    "    summary = df.groupby('bin', observed=False).agg(\n",
    "    observed_rate=('outcome', 'mean'),\n",
    "    count=('outcome', 'size')\n",
    ")\n",
    "    summary['expected_rate'] = [np.mean([bins[i], bins[i+1]]) for i in range(n_bins)]\n",
    "    \n",
    "    return summary\n",
    "\n",
    "# Perform the calibration analysis\n",
    "summary = calibration_analysis(probs, y_test, n_bins=10)\n",
    "\n",
    "# Plotting the results with annotations\n",
    "fig = go.Figure()\n",
    "fig.add_trace(go.Bar(x=summary.index, y=summary['observed_rate'], name='Observed Rate',\n",
    "                     text=np.round(summary['observed_rate'], 3), textposition='auto'))\n",
    "fig.add_trace(go.Bar(x=summary.index, y=summary['expected_rate'], name='Expected Rate',\n",
    "                     text=np.round(summary['expected_rate'], 3), textposition='auto'))\n",
    "fig.update_layout(\n",
    "    title=\"Model Calibration Plot\",\n",
    "    xaxis_title=\"Probability\",\n",
    "    yaxis_title=\"Rate\",\n",
    "    barmode='group',\n",
    "    width=900,  # Adjust the width of the plot\n",
    "    height=600  # Adjust the height of the plot\n",
    ")"
   ]
  },
  {
   "cell_type": "markdown",
   "id": "4d7a28ec",
   "metadata": {},
   "source": [
    "It can be observed that as the probability for the positive class (store presence) increases, the observed rate becomes closer to the expected rate."
   ]
  },
  {
   "cell_type": "code",
   "execution_count": 103,
   "id": "db5438e7",
   "metadata": {
    "scrolled": true
   },
   "outputs": [
    {
     "data": {
      "application/vnd.plotly.v1+json": {
       "config": {
        "plotlyServerURL": "https://plot.ly"
       },
       "data": [
        {
         "orientation": "h",
         "type": "bar",
         "x": [
          -0.35190023815048294,
          -0.33202197114279586,
          -0.2990472501443661,
          -0.2976723106674692,
          -0.28869080450206885,
          -0.2651633468603581,
          -0.26038307890284995,
          -0.2598855334919698,
          -0.25971402741679744,
          -0.25849932516819407,
          -0.23504731384986224,
          -0.2139351968904995,
          -0.21389394168579315,
          -0.2029197742826254,
          -0.19271509223940858,
          -0.18993379821109363,
          -0.18080692630462122,
          -0.15791767635314582,
          -0.15499591810292368,
          -0.13768344838644894,
          -0.13565278959427848,
          -0.1228617262314024,
          -0.10937155285040662,
          -0.1069282914729309,
          -0.10153724989547092,
          -0.09668389984315659,
          -0.08772258536992114,
          -0.08470189314207956,
          -0.07025357637516623,
          -0.023473850632604078,
          0.04103694671507435,
          0.04450232665048867,
          0.14495386841948693,
          0.20244560926981633,
          0.3465494207944628,
          0.36297958412441383,
          0.3691775093126914,
          0.3856207012640549,
          0.4087843638088345,
          0.4521418095905755,
          0.45890602766188393,
          0.46550631708593626,
          0.4876324979809612,
          0.519810218791031,
          0.5337860267293537,
          0.5476900277870583,
          0.5640018355086772,
          0.5643579288839063,
          0.5827384781015538,
          0.6055305330160866,
          0.6081356301854869,
          0.6090143438495635,
          0.6300211727843389,
          0.6313110920209091,
          null
         ],
         "y": [
          "Married-Couple Families $50,000 to $74,999",
          "Families $50,000 to $74,999",
          "Families $35,000 to $49,999",
          "Households $35,000 to $49,999",
          "Married-Couple Families $35,000 to $49,999",
          "Married-Couple Families $75,000 to $99,999",
          "Households $25,000 to $34,999",
          "Households $15,000 to $24,999",
          "Households $50,000 to $74,999",
          "Nonfamily Households $15,000 to $24,999",
          "Families $25,000 to $34,999",
          "Married-Couple Families $25,000 to $34,999",
          "Families $75,000 to $99,999",
          "Nonfamily Households $10,000 to $14,999",
          "Families $15,000 to $24,999",
          "Nonfamily Households $25,000 to $34,999",
          "Households $10,000 to $14,999",
          "Households Household Income in the Past 12 Months",
          "Married-Couple Families $15,000 to $24,999",
          "Nonfamily Households $35,000 to $49,999",
          "Families Family Income in the Past 12 Months",
          "Families $10,000 to $14,999",
          "Households $75,000 to $99,999",
          "Nonfamily Households Less Than $10,000",
          "Families Less Than $10,000",
          "Nonfamily Households Nonfamily Income in the Past 12 Months",
          "Married-Couple Families $10,000 to $14,999",
          "Households Less Than $10,000",
          "Married-Couple Families Less Than $10,000",
          "Married-Couple Families $100,000 to $149,999",
          "Nonfamily Households $50,000 to $74,999",
          "Families $100,000 to $149,999",
          "Households $100,000 to $149,999",
          "Nonfamily Households $75,000 to $99,999",
          "Married-Couple Families $150,000 to $199,999",
          "Families $150,000 to $199,999",
          "Nonfamily Households $100,000 to $149,999",
          "Households $150,000 to $199,999",
          "Nonfamily Households $150,000 to $199,999",
          "Nonfamily Households $200,000 or More",
          "Nonfamily Households Median Income (Dollars)",
          "Households Median Income (Dollars)",
          "Nonfamily Households Mean Income (Dollars)",
          "Households Mean Income (Dollars)",
          "Families Median Income (Dollars)",
          "Families",
          "Families Mean Income (Dollars)",
          "Households $200,000 or More",
          "Married-Couple Families Median Income (Dollars)",
          "Married-Couple Families",
          "Households",
          "Families $200,000 or More",
          "Nonfamily Households",
          "Married-Couple Families $200,000 or More",
          "Year"
         ]
        }
       ],
       "layout": {
        "height": 800,
        "template": {
         "data": {
          "bar": [
           {
            "error_x": {
             "color": "#2a3f5f"
            },
            "error_y": {
             "color": "#2a3f5f"
            },
            "marker": {
             "line": {
              "color": "#E5ECF6",
              "width": 0.5
             },
             "pattern": {
              "fillmode": "overlay",
              "size": 10,
              "solidity": 0.2
             }
            },
            "type": "bar"
           }
          ],
          "barpolar": [
           {
            "marker": {
             "line": {
              "color": "#E5ECF6",
              "width": 0.5
             },
             "pattern": {
              "fillmode": "overlay",
              "size": 10,
              "solidity": 0.2
             }
            },
            "type": "barpolar"
           }
          ],
          "carpet": [
           {
            "aaxis": {
             "endlinecolor": "#2a3f5f",
             "gridcolor": "white",
             "linecolor": "white",
             "minorgridcolor": "white",
             "startlinecolor": "#2a3f5f"
            },
            "baxis": {
             "endlinecolor": "#2a3f5f",
             "gridcolor": "white",
             "linecolor": "white",
             "minorgridcolor": "white",
             "startlinecolor": "#2a3f5f"
            },
            "type": "carpet"
           }
          ],
          "choropleth": [
           {
            "colorbar": {
             "outlinewidth": 0,
             "ticks": ""
            },
            "type": "choropleth"
           }
          ],
          "contour": [
           {
            "colorbar": {
             "outlinewidth": 0,
             "ticks": ""
            },
            "colorscale": [
             [
              0,
              "#0d0887"
             ],
             [
              0.1111111111111111,
              "#46039f"
             ],
             [
              0.2222222222222222,
              "#7201a8"
             ],
             [
              0.3333333333333333,
              "#9c179e"
             ],
             [
              0.4444444444444444,
              "#bd3786"
             ],
             [
              0.5555555555555556,
              "#d8576b"
             ],
             [
              0.6666666666666666,
              "#ed7953"
             ],
             [
              0.7777777777777778,
              "#fb9f3a"
             ],
             [
              0.8888888888888888,
              "#fdca26"
             ],
             [
              1,
              "#f0f921"
             ]
            ],
            "type": "contour"
           }
          ],
          "contourcarpet": [
           {
            "colorbar": {
             "outlinewidth": 0,
             "ticks": ""
            },
            "type": "contourcarpet"
           }
          ],
          "heatmap": [
           {
            "colorbar": {
             "outlinewidth": 0,
             "ticks": ""
            },
            "colorscale": [
             [
              0,
              "#0d0887"
             ],
             [
              0.1111111111111111,
              "#46039f"
             ],
             [
              0.2222222222222222,
              "#7201a8"
             ],
             [
              0.3333333333333333,
              "#9c179e"
             ],
             [
              0.4444444444444444,
              "#bd3786"
             ],
             [
              0.5555555555555556,
              "#d8576b"
             ],
             [
              0.6666666666666666,
              "#ed7953"
             ],
             [
              0.7777777777777778,
              "#fb9f3a"
             ],
             [
              0.8888888888888888,
              "#fdca26"
             ],
             [
              1,
              "#f0f921"
             ]
            ],
            "type": "heatmap"
           }
          ],
          "heatmapgl": [
           {
            "colorbar": {
             "outlinewidth": 0,
             "ticks": ""
            },
            "colorscale": [
             [
              0,
              "#0d0887"
             ],
             [
              0.1111111111111111,
              "#46039f"
             ],
             [
              0.2222222222222222,
              "#7201a8"
             ],
             [
              0.3333333333333333,
              "#9c179e"
             ],
             [
              0.4444444444444444,
              "#bd3786"
             ],
             [
              0.5555555555555556,
              "#d8576b"
             ],
             [
              0.6666666666666666,
              "#ed7953"
             ],
             [
              0.7777777777777778,
              "#fb9f3a"
             ],
             [
              0.8888888888888888,
              "#fdca26"
             ],
             [
              1,
              "#f0f921"
             ]
            ],
            "type": "heatmapgl"
           }
          ],
          "histogram": [
           {
            "marker": {
             "pattern": {
              "fillmode": "overlay",
              "size": 10,
              "solidity": 0.2
             }
            },
            "type": "histogram"
           }
          ],
          "histogram2d": [
           {
            "colorbar": {
             "outlinewidth": 0,
             "ticks": ""
            },
            "colorscale": [
             [
              0,
              "#0d0887"
             ],
             [
              0.1111111111111111,
              "#46039f"
             ],
             [
              0.2222222222222222,
              "#7201a8"
             ],
             [
              0.3333333333333333,
              "#9c179e"
             ],
             [
              0.4444444444444444,
              "#bd3786"
             ],
             [
              0.5555555555555556,
              "#d8576b"
             ],
             [
              0.6666666666666666,
              "#ed7953"
             ],
             [
              0.7777777777777778,
              "#fb9f3a"
             ],
             [
              0.8888888888888888,
              "#fdca26"
             ],
             [
              1,
              "#f0f921"
             ]
            ],
            "type": "histogram2d"
           }
          ],
          "histogram2dcontour": [
           {
            "colorbar": {
             "outlinewidth": 0,
             "ticks": ""
            },
            "colorscale": [
             [
              0,
              "#0d0887"
             ],
             [
              0.1111111111111111,
              "#46039f"
             ],
             [
              0.2222222222222222,
              "#7201a8"
             ],
             [
              0.3333333333333333,
              "#9c179e"
             ],
             [
              0.4444444444444444,
              "#bd3786"
             ],
             [
              0.5555555555555556,
              "#d8576b"
             ],
             [
              0.6666666666666666,
              "#ed7953"
             ],
             [
              0.7777777777777778,
              "#fb9f3a"
             ],
             [
              0.8888888888888888,
              "#fdca26"
             ],
             [
              1,
              "#f0f921"
             ]
            ],
            "type": "histogram2dcontour"
           }
          ],
          "mesh3d": [
           {
            "colorbar": {
             "outlinewidth": 0,
             "ticks": ""
            },
            "type": "mesh3d"
           }
          ],
          "parcoords": [
           {
            "line": {
             "colorbar": {
              "outlinewidth": 0,
              "ticks": ""
             }
            },
            "type": "parcoords"
           }
          ],
          "pie": [
           {
            "automargin": true,
            "type": "pie"
           }
          ],
          "scatter": [
           {
            "fillpattern": {
             "fillmode": "overlay",
             "size": 10,
             "solidity": 0.2
            },
            "type": "scatter"
           }
          ],
          "scatter3d": [
           {
            "line": {
             "colorbar": {
              "outlinewidth": 0,
              "ticks": ""
             }
            },
            "marker": {
             "colorbar": {
              "outlinewidth": 0,
              "ticks": ""
             }
            },
            "type": "scatter3d"
           }
          ],
          "scattercarpet": [
           {
            "marker": {
             "colorbar": {
              "outlinewidth": 0,
              "ticks": ""
             }
            },
            "type": "scattercarpet"
           }
          ],
          "scattergeo": [
           {
            "marker": {
             "colorbar": {
              "outlinewidth": 0,
              "ticks": ""
             }
            },
            "type": "scattergeo"
           }
          ],
          "scattergl": [
           {
            "marker": {
             "colorbar": {
              "outlinewidth": 0,
              "ticks": ""
             }
            },
            "type": "scattergl"
           }
          ],
          "scattermapbox": [
           {
            "marker": {
             "colorbar": {
              "outlinewidth": 0,
              "ticks": ""
             }
            },
            "type": "scattermapbox"
           }
          ],
          "scatterpolar": [
           {
            "marker": {
             "colorbar": {
              "outlinewidth": 0,
              "ticks": ""
             }
            },
            "type": "scatterpolar"
           }
          ],
          "scatterpolargl": [
           {
            "marker": {
             "colorbar": {
              "outlinewidth": 0,
              "ticks": ""
             }
            },
            "type": "scatterpolargl"
           }
          ],
          "scatterternary": [
           {
            "marker": {
             "colorbar": {
              "outlinewidth": 0,
              "ticks": ""
             }
            },
            "type": "scatterternary"
           }
          ],
          "surface": [
           {
            "colorbar": {
             "outlinewidth": 0,
             "ticks": ""
            },
            "colorscale": [
             [
              0,
              "#0d0887"
             ],
             [
              0.1111111111111111,
              "#46039f"
             ],
             [
              0.2222222222222222,
              "#7201a8"
             ],
             [
              0.3333333333333333,
              "#9c179e"
             ],
             [
              0.4444444444444444,
              "#bd3786"
             ],
             [
              0.5555555555555556,
              "#d8576b"
             ],
             [
              0.6666666666666666,
              "#ed7953"
             ],
             [
              0.7777777777777778,
              "#fb9f3a"
             ],
             [
              0.8888888888888888,
              "#fdca26"
             ],
             [
              1,
              "#f0f921"
             ]
            ],
            "type": "surface"
           }
          ],
          "table": [
           {
            "cells": {
             "fill": {
              "color": "#EBF0F8"
             },
             "line": {
              "color": "white"
             }
            },
            "header": {
             "fill": {
              "color": "#C8D4E3"
             },
             "line": {
              "color": "white"
             }
            },
            "type": "table"
           }
          ]
         },
         "layout": {
          "annotationdefaults": {
           "arrowcolor": "#2a3f5f",
           "arrowhead": 0,
           "arrowwidth": 1
          },
          "autotypenumbers": "strict",
          "coloraxis": {
           "colorbar": {
            "outlinewidth": 0,
            "ticks": ""
           }
          },
          "colorscale": {
           "diverging": [
            [
             0,
             "#8e0152"
            ],
            [
             0.1,
             "#c51b7d"
            ],
            [
             0.2,
             "#de77ae"
            ],
            [
             0.3,
             "#f1b6da"
            ],
            [
             0.4,
             "#fde0ef"
            ],
            [
             0.5,
             "#f7f7f7"
            ],
            [
             0.6,
             "#e6f5d0"
            ],
            [
             0.7,
             "#b8e186"
            ],
            [
             0.8,
             "#7fbc41"
            ],
            [
             0.9,
             "#4d9221"
            ],
            [
             1,
             "#276419"
            ]
           ],
           "sequential": [
            [
             0,
             "#0d0887"
            ],
            [
             0.1111111111111111,
             "#46039f"
            ],
            [
             0.2222222222222222,
             "#7201a8"
            ],
            [
             0.3333333333333333,
             "#9c179e"
            ],
            [
             0.4444444444444444,
             "#bd3786"
            ],
            [
             0.5555555555555556,
             "#d8576b"
            ],
            [
             0.6666666666666666,
             "#ed7953"
            ],
            [
             0.7777777777777778,
             "#fb9f3a"
            ],
            [
             0.8888888888888888,
             "#fdca26"
            ],
            [
             1,
             "#f0f921"
            ]
           ],
           "sequentialminus": [
            [
             0,
             "#0d0887"
            ],
            [
             0.1111111111111111,
             "#46039f"
            ],
            [
             0.2222222222222222,
             "#7201a8"
            ],
            [
             0.3333333333333333,
             "#9c179e"
            ],
            [
             0.4444444444444444,
             "#bd3786"
            ],
            [
             0.5555555555555556,
             "#d8576b"
            ],
            [
             0.6666666666666666,
             "#ed7953"
            ],
            [
             0.7777777777777778,
             "#fb9f3a"
            ],
            [
             0.8888888888888888,
             "#fdca26"
            ],
            [
             1,
             "#f0f921"
            ]
           ]
          },
          "colorway": [
           "#636efa",
           "#EF553B",
           "#00cc96",
           "#ab63fa",
           "#FFA15A",
           "#19d3f3",
           "#FF6692",
           "#B6E880",
           "#FF97FF",
           "#FECB52"
          ],
          "font": {
           "color": "#2a3f5f"
          },
          "geo": {
           "bgcolor": "white",
           "lakecolor": "white",
           "landcolor": "#E5ECF6",
           "showlakes": true,
           "showland": true,
           "subunitcolor": "white"
          },
          "hoverlabel": {
           "align": "left"
          },
          "hovermode": "closest",
          "mapbox": {
           "style": "light"
          },
          "paper_bgcolor": "white",
          "plot_bgcolor": "#E5ECF6",
          "polar": {
           "angularaxis": {
            "gridcolor": "white",
            "linecolor": "white",
            "ticks": ""
           },
           "bgcolor": "#E5ECF6",
           "radialaxis": {
            "gridcolor": "white",
            "linecolor": "white",
            "ticks": ""
           }
          },
          "scene": {
           "xaxis": {
            "backgroundcolor": "#E5ECF6",
            "gridcolor": "white",
            "gridwidth": 2,
            "linecolor": "white",
            "showbackground": true,
            "ticks": "",
            "zerolinecolor": "white"
           },
           "yaxis": {
            "backgroundcolor": "#E5ECF6",
            "gridcolor": "white",
            "gridwidth": 2,
            "linecolor": "white",
            "showbackground": true,
            "ticks": "",
            "zerolinecolor": "white"
           },
           "zaxis": {
            "backgroundcolor": "#E5ECF6",
            "gridcolor": "white",
            "gridwidth": 2,
            "linecolor": "white",
            "showbackground": true,
            "ticks": "",
            "zerolinecolor": "white"
           }
          },
          "shapedefaults": {
           "line": {
            "color": "#2a3f5f"
           }
          },
          "ternary": {
           "aaxis": {
            "gridcolor": "white",
            "linecolor": "white",
            "ticks": ""
           },
           "baxis": {
            "gridcolor": "white",
            "linecolor": "white",
            "ticks": ""
           },
           "bgcolor": "#E5ECF6",
           "caxis": {
            "gridcolor": "white",
            "linecolor": "white",
            "ticks": ""
           }
          },
          "title": {
           "x": 0.05
          },
          "xaxis": {
           "automargin": true,
           "gridcolor": "white",
           "linecolor": "white",
           "ticks": "",
           "title": {
            "standoff": 15
           },
           "zerolinecolor": "white",
           "zerolinewidth": 2
          },
          "yaxis": {
           "automargin": true,
           "gridcolor": "white",
           "linecolor": "white",
           "ticks": "",
           "title": {
            "standoff": 15
           },
           "zerolinecolor": "white",
           "zerolinewidth": 2
          }
         }
        },
        "title": {
         "text": "Correlation of Features with Predicted Probabilities"
        },
        "width": 1000,
        "xaxis": {
         "autorange": true,
         "range": [
          -0.4065230898266714,
          0.6859339436970975
         ],
         "side": "top",
         "title": {
          "text": "Correlation Coefficient"
         },
         "type": "linear"
        },
        "yaxis": {
         "autorange": true,
         "range": [
          -0.5,
          54.5
         ],
         "title": {
          "text": "Features"
         },
         "type": "category"
        }
       }
      },
      "text/html": [
       "<div>                            <div id=\"8d35698d-64cc-428d-a293-686d39e03d5f\" class=\"plotly-graph-div\" style=\"height:800px; width:1000px;\"></div>            <script type=\"text/javascript\">                require([\"plotly\"], function(Plotly) {                    window.PLOTLYENV=window.PLOTLYENV || {};                                    if (document.getElementById(\"8d35698d-64cc-428d-a293-686d39e03d5f\")) {                    Plotly.newPlot(                        \"8d35698d-64cc-428d-a293-686d39e03d5f\",                        [{\"orientation\":\"h\",\"x\":[-0.35190023815048294,-0.33202197114279586,-0.2990472501443661,-0.2976723106674692,-0.28869080450206885,-0.2651633468603581,-0.26038307890284995,-0.2598855334919698,-0.25971402741679744,-0.25849932516819407,-0.23504731384986224,-0.2139351968904995,-0.21389394168579315,-0.2029197742826254,-0.19271509223940858,-0.18993379821109363,-0.18080692630462122,-0.15791767635314582,-0.15499591810292368,-0.13768344838644894,-0.13565278959427848,-0.1228617262314024,-0.10937155285040662,-0.1069282914729309,-0.10153724989547092,-0.09668389984315659,-0.08772258536992114,-0.08470189314207956,-0.07025357637516623,-0.023473850632604078,0.04103694671507435,0.04450232665048867,0.14495386841948693,0.20244560926981633,0.3465494207944628,0.36297958412441383,0.3691775093126914,0.3856207012640549,0.4087843638088345,0.4521418095905755,0.45890602766188393,0.46550631708593626,0.4876324979809612,0.519810218791031,0.5337860267293537,0.5476900277870583,0.5640018355086772,0.5643579288839063,0.5827384781015538,0.6055305330160866,0.6081356301854869,0.6090143438495635,0.6300211727843389,0.6313110920209091,null],\"y\":[\"Married-Couple Families $50,000 to $74,999\",\"Families $50,000 to $74,999\",\"Families $35,000 to $49,999\",\"Households $35,000 to $49,999\",\"Married-Couple Families $35,000 to $49,999\",\"Married-Couple Families $75,000 to $99,999\",\"Households $25,000 to $34,999\",\"Households $15,000 to $24,999\",\"Households $50,000 to $74,999\",\"Nonfamily Households $15,000 to $24,999\",\"Families $25,000 to $34,999\",\"Married-Couple Families $25,000 to $34,999\",\"Families $75,000 to $99,999\",\"Nonfamily Households $10,000 to $14,999\",\"Families $15,000 to $24,999\",\"Nonfamily Households $25,000 to $34,999\",\"Households $10,000 to $14,999\",\"Households Household Income in the Past 12 Months\",\"Married-Couple Families $15,000 to $24,999\",\"Nonfamily Households $35,000 to $49,999\",\"Families Family Income in the Past 12 Months\",\"Families $10,000 to $14,999\",\"Households $75,000 to $99,999\",\"Nonfamily Households Less Than $10,000\",\"Families Less Than $10,000\",\"Nonfamily Households Nonfamily Income in the Past 12 Months\",\"Married-Couple Families $10,000 to $14,999\",\"Households Less Than $10,000\",\"Married-Couple Families Less Than $10,000\",\"Married-Couple Families $100,000 to $149,999\",\"Nonfamily Households $50,000 to $74,999\",\"Families $100,000 to $149,999\",\"Households $100,000 to $149,999\",\"Nonfamily Households $75,000 to $99,999\",\"Married-Couple Families $150,000 to $199,999\",\"Families $150,000 to $199,999\",\"Nonfamily Households $100,000 to $149,999\",\"Households $150,000 to $199,999\",\"Nonfamily Households $150,000 to $199,999\",\"Nonfamily Households $200,000 or More\",\"Nonfamily Households Median Income (Dollars)\",\"Households Median Income (Dollars)\",\"Nonfamily Households Mean Income (Dollars)\",\"Households Mean Income (Dollars)\",\"Families Median Income (Dollars)\",\"Families\",\"Families Mean Income (Dollars)\",\"Households $200,000 or More\",\"Married-Couple Families Median Income (Dollars)\",\"Married-Couple Families\",\"Households\",\"Families $200,000 or More\",\"Nonfamily Households\",\"Married-Couple Families $200,000 or More\",\"Year\"],\"type\":\"bar\"}],                        {\"template\":{\"data\":{\"histogram2dcontour\":[{\"type\":\"histogram2dcontour\",\"colorbar\":{\"outlinewidth\":0,\"ticks\":\"\"},\"colorscale\":[[0.0,\"#0d0887\"],[0.1111111111111111,\"#46039f\"],[0.2222222222222222,\"#7201a8\"],[0.3333333333333333,\"#9c179e\"],[0.4444444444444444,\"#bd3786\"],[0.5555555555555556,\"#d8576b\"],[0.6666666666666666,\"#ed7953\"],[0.7777777777777778,\"#fb9f3a\"],[0.8888888888888888,\"#fdca26\"],[1.0,\"#f0f921\"]]}],\"choropleth\":[{\"type\":\"choropleth\",\"colorbar\":{\"outlinewidth\":0,\"ticks\":\"\"}}],\"histogram2d\":[{\"type\":\"histogram2d\",\"colorbar\":{\"outlinewidth\":0,\"ticks\":\"\"},\"colorscale\":[[0.0,\"#0d0887\"],[0.1111111111111111,\"#46039f\"],[0.2222222222222222,\"#7201a8\"],[0.3333333333333333,\"#9c179e\"],[0.4444444444444444,\"#bd3786\"],[0.5555555555555556,\"#d8576b\"],[0.6666666666666666,\"#ed7953\"],[0.7777777777777778,\"#fb9f3a\"],[0.8888888888888888,\"#fdca26\"],[1.0,\"#f0f921\"]]}],\"heatmap\":[{\"type\":\"heatmap\",\"colorbar\":{\"outlinewidth\":0,\"ticks\":\"\"},\"colorscale\":[[0.0,\"#0d0887\"],[0.1111111111111111,\"#46039f\"],[0.2222222222222222,\"#7201a8\"],[0.3333333333333333,\"#9c179e\"],[0.4444444444444444,\"#bd3786\"],[0.5555555555555556,\"#d8576b\"],[0.6666666666666666,\"#ed7953\"],[0.7777777777777778,\"#fb9f3a\"],[0.8888888888888888,\"#fdca26\"],[1.0,\"#f0f921\"]]}],\"heatmapgl\":[{\"type\":\"heatmapgl\",\"colorbar\":{\"outlinewidth\":0,\"ticks\":\"\"},\"colorscale\":[[0.0,\"#0d0887\"],[0.1111111111111111,\"#46039f\"],[0.2222222222222222,\"#7201a8\"],[0.3333333333333333,\"#9c179e\"],[0.4444444444444444,\"#bd3786\"],[0.5555555555555556,\"#d8576b\"],[0.6666666666666666,\"#ed7953\"],[0.7777777777777778,\"#fb9f3a\"],[0.8888888888888888,\"#fdca26\"],[1.0,\"#f0f921\"]]}],\"contourcarpet\":[{\"type\":\"contourcarpet\",\"colorbar\":{\"outlinewidth\":0,\"ticks\":\"\"}}],\"contour\":[{\"type\":\"contour\",\"colorbar\":{\"outlinewidth\":0,\"ticks\":\"\"},\"colorscale\":[[0.0,\"#0d0887\"],[0.1111111111111111,\"#46039f\"],[0.2222222222222222,\"#7201a8\"],[0.3333333333333333,\"#9c179e\"],[0.4444444444444444,\"#bd3786\"],[0.5555555555555556,\"#d8576b\"],[0.6666666666666666,\"#ed7953\"],[0.7777777777777778,\"#fb9f3a\"],[0.8888888888888888,\"#fdca26\"],[1.0,\"#f0f921\"]]}],\"surface\":[{\"type\":\"surface\",\"colorbar\":{\"outlinewidth\":0,\"ticks\":\"\"},\"colorscale\":[[0.0,\"#0d0887\"],[0.1111111111111111,\"#46039f\"],[0.2222222222222222,\"#7201a8\"],[0.3333333333333333,\"#9c179e\"],[0.4444444444444444,\"#bd3786\"],[0.5555555555555556,\"#d8576b\"],[0.6666666666666666,\"#ed7953\"],[0.7777777777777778,\"#fb9f3a\"],[0.8888888888888888,\"#fdca26\"],[1.0,\"#f0f921\"]]}],\"mesh3d\":[{\"type\":\"mesh3d\",\"colorbar\":{\"outlinewidth\":0,\"ticks\":\"\"}}],\"scatter\":[{\"fillpattern\":{\"fillmode\":\"overlay\",\"size\":10,\"solidity\":0.2},\"type\":\"scatter\"}],\"parcoords\":[{\"type\":\"parcoords\",\"line\":{\"colorbar\":{\"outlinewidth\":0,\"ticks\":\"\"}}}],\"scatterpolargl\":[{\"type\":\"scatterpolargl\",\"marker\":{\"colorbar\":{\"outlinewidth\":0,\"ticks\":\"\"}}}],\"bar\":[{\"error_x\":{\"color\":\"#2a3f5f\"},\"error_y\":{\"color\":\"#2a3f5f\"},\"marker\":{\"line\":{\"color\":\"#E5ECF6\",\"width\":0.5},\"pattern\":{\"fillmode\":\"overlay\",\"size\":10,\"solidity\":0.2}},\"type\":\"bar\"}],\"scattergeo\":[{\"type\":\"scattergeo\",\"marker\":{\"colorbar\":{\"outlinewidth\":0,\"ticks\":\"\"}}}],\"scatterpolar\":[{\"type\":\"scatterpolar\",\"marker\":{\"colorbar\":{\"outlinewidth\":0,\"ticks\":\"\"}}}],\"histogram\":[{\"marker\":{\"pattern\":{\"fillmode\":\"overlay\",\"size\":10,\"solidity\":0.2}},\"type\":\"histogram\"}],\"scattergl\":[{\"type\":\"scattergl\",\"marker\":{\"colorbar\":{\"outlinewidth\":0,\"ticks\":\"\"}}}],\"scatter3d\":[{\"type\":\"scatter3d\",\"line\":{\"colorbar\":{\"outlinewidth\":0,\"ticks\":\"\"}},\"marker\":{\"colorbar\":{\"outlinewidth\":0,\"ticks\":\"\"}}}],\"scattermapbox\":[{\"type\":\"scattermapbox\",\"marker\":{\"colorbar\":{\"outlinewidth\":0,\"ticks\":\"\"}}}],\"scatterternary\":[{\"type\":\"scatterternary\",\"marker\":{\"colorbar\":{\"outlinewidth\":0,\"ticks\":\"\"}}}],\"scattercarpet\":[{\"type\":\"scattercarpet\",\"marker\":{\"colorbar\":{\"outlinewidth\":0,\"ticks\":\"\"}}}],\"carpet\":[{\"aaxis\":{\"endlinecolor\":\"#2a3f5f\",\"gridcolor\":\"white\",\"linecolor\":\"white\",\"minorgridcolor\":\"white\",\"startlinecolor\":\"#2a3f5f\"},\"baxis\":{\"endlinecolor\":\"#2a3f5f\",\"gridcolor\":\"white\",\"linecolor\":\"white\",\"minorgridcolor\":\"white\",\"startlinecolor\":\"#2a3f5f\"},\"type\":\"carpet\"}],\"table\":[{\"cells\":{\"fill\":{\"color\":\"#EBF0F8\"},\"line\":{\"color\":\"white\"}},\"header\":{\"fill\":{\"color\":\"#C8D4E3\"},\"line\":{\"color\":\"white\"}},\"type\":\"table\"}],\"barpolar\":[{\"marker\":{\"line\":{\"color\":\"#E5ECF6\",\"width\":0.5},\"pattern\":{\"fillmode\":\"overlay\",\"size\":10,\"solidity\":0.2}},\"type\":\"barpolar\"}],\"pie\":[{\"automargin\":true,\"type\":\"pie\"}]},\"layout\":{\"autotypenumbers\":\"strict\",\"colorway\":[\"#636efa\",\"#EF553B\",\"#00cc96\",\"#ab63fa\",\"#FFA15A\",\"#19d3f3\",\"#FF6692\",\"#B6E880\",\"#FF97FF\",\"#FECB52\"],\"font\":{\"color\":\"#2a3f5f\"},\"hovermode\":\"closest\",\"hoverlabel\":{\"align\":\"left\"},\"paper_bgcolor\":\"white\",\"plot_bgcolor\":\"#E5ECF6\",\"polar\":{\"bgcolor\":\"#E5ECF6\",\"angularaxis\":{\"gridcolor\":\"white\",\"linecolor\":\"white\",\"ticks\":\"\"},\"radialaxis\":{\"gridcolor\":\"white\",\"linecolor\":\"white\",\"ticks\":\"\"}},\"ternary\":{\"bgcolor\":\"#E5ECF6\",\"aaxis\":{\"gridcolor\":\"white\",\"linecolor\":\"white\",\"ticks\":\"\"},\"baxis\":{\"gridcolor\":\"white\",\"linecolor\":\"white\",\"ticks\":\"\"},\"caxis\":{\"gridcolor\":\"white\",\"linecolor\":\"white\",\"ticks\":\"\"}},\"coloraxis\":{\"colorbar\":{\"outlinewidth\":0,\"ticks\":\"\"}},\"colorscale\":{\"sequential\":[[0.0,\"#0d0887\"],[0.1111111111111111,\"#46039f\"],[0.2222222222222222,\"#7201a8\"],[0.3333333333333333,\"#9c179e\"],[0.4444444444444444,\"#bd3786\"],[0.5555555555555556,\"#d8576b\"],[0.6666666666666666,\"#ed7953\"],[0.7777777777777778,\"#fb9f3a\"],[0.8888888888888888,\"#fdca26\"],[1.0,\"#f0f921\"]],\"sequentialminus\":[[0.0,\"#0d0887\"],[0.1111111111111111,\"#46039f\"],[0.2222222222222222,\"#7201a8\"],[0.3333333333333333,\"#9c179e\"],[0.4444444444444444,\"#bd3786\"],[0.5555555555555556,\"#d8576b\"],[0.6666666666666666,\"#ed7953\"],[0.7777777777777778,\"#fb9f3a\"],[0.8888888888888888,\"#fdca26\"],[1.0,\"#f0f921\"]],\"diverging\":[[0,\"#8e0152\"],[0.1,\"#c51b7d\"],[0.2,\"#de77ae\"],[0.3,\"#f1b6da\"],[0.4,\"#fde0ef\"],[0.5,\"#f7f7f7\"],[0.6,\"#e6f5d0\"],[0.7,\"#b8e186\"],[0.8,\"#7fbc41\"],[0.9,\"#4d9221\"],[1,\"#276419\"]]},\"xaxis\":{\"gridcolor\":\"white\",\"linecolor\":\"white\",\"ticks\":\"\",\"title\":{\"standoff\":15},\"zerolinecolor\":\"white\",\"automargin\":true,\"zerolinewidth\":2},\"yaxis\":{\"gridcolor\":\"white\",\"linecolor\":\"white\",\"ticks\":\"\",\"title\":{\"standoff\":15},\"zerolinecolor\":\"white\",\"automargin\":true,\"zerolinewidth\":2},\"scene\":{\"xaxis\":{\"backgroundcolor\":\"#E5ECF6\",\"gridcolor\":\"white\",\"linecolor\":\"white\",\"showbackground\":true,\"ticks\":\"\",\"zerolinecolor\":\"white\",\"gridwidth\":2},\"yaxis\":{\"backgroundcolor\":\"#E5ECF6\",\"gridcolor\":\"white\",\"linecolor\":\"white\",\"showbackground\":true,\"ticks\":\"\",\"zerolinecolor\":\"white\",\"gridwidth\":2},\"zaxis\":{\"backgroundcolor\":\"#E5ECF6\",\"gridcolor\":\"white\",\"linecolor\":\"white\",\"showbackground\":true,\"ticks\":\"\",\"zerolinecolor\":\"white\",\"gridwidth\":2}},\"shapedefaults\":{\"line\":{\"color\":\"#2a3f5f\"}},\"annotationdefaults\":{\"arrowcolor\":\"#2a3f5f\",\"arrowhead\":0,\"arrowwidth\":1},\"geo\":{\"bgcolor\":\"white\",\"landcolor\":\"#E5ECF6\",\"subunitcolor\":\"white\",\"showland\":true,\"showlakes\":true,\"lakecolor\":\"white\"},\"title\":{\"x\":0.05},\"mapbox\":{\"style\":\"light\"}}},\"xaxis\":{\"title\":{\"text\":\"Correlation Coefficient\"},\"side\":\"top\"},\"title\":{\"text\":\"Correlation of Features with Predicted Probabilities\"},\"yaxis\":{\"title\":{\"text\":\"Features\"}},\"height\":800,\"width\":1000},                        {\"responsive\": true}                    ).then(function(){\n",
       "                            \n",
       "var gd = document.getElementById('8d35698d-64cc-428d-a293-686d39e03d5f');\n",
       "var x = new MutationObserver(function (mutations, observer) {{\n",
       "        var display = window.getComputedStyle(gd).display;\n",
       "        if (!display || display === 'none') {{\n",
       "            console.log([gd, 'removed!']);\n",
       "            Plotly.purge(gd);\n",
       "            observer.disconnect();\n",
       "        }}\n",
       "}});\n",
       "\n",
       "// Listen for the removal of the full notebook cells\n",
       "var notebookContainer = gd.closest('#notebook-container');\n",
       "if (notebookContainer) {{\n",
       "    x.observe(notebookContainer, {childList: true});\n",
       "}}\n",
       "\n",
       "// Listen for the clearing of the current output cell\n",
       "var outputEl = gd.closest('.output');\n",
       "if (outputEl) {{\n",
       "    x.observe(outputEl, {childList: true});\n",
       "}}\n",
       "\n",
       "                        })                };                });            </script>        </div>"
      ]
     },
     "metadata": {},
     "output_type": "display_data"
    }
   ],
   "source": [
    "# Function to calculate correlations and generate a sorted bar plot\n",
    "def correlation_analysis(X_test, probs):\n",
    "    # Combine the features and probabilities into a single DataFrame\n",
    "    df = X_test.copy()\n",
    "    df['Predicted Probability'] = probs\n",
    "    \n",
    "    # Calculate correlation matrix specifically for probs with other features\n",
    "    correlation_with_probs = df.corr()['Predicted Probability'].drop('Predicted Probability')\n",
    "    \n",
    "    # Sort correlations for better visualization\n",
    "    correlation_with_probs = correlation_with_probs.sort_values(ascending=True)\n",
    "    \n",
    "    return correlation_with_probs\n",
    "\n",
    "# Perform correlation analysis\n",
    "correlation_with_probs = correlation_analysis(X_test, probs)\n",
    "\n",
    "# Visualizing the correlations as a sorted horizontal bar plot\n",
    "fig = go.Figure()\n",
    "\n",
    "fig.add_trace(go.Bar(\n",
    "    x=list(correlation_with_probs.values),\n",
    "    y=list(correlation_with_probs.index),\n",
    "    orientation='h'\n",
    "))\n",
    "\n",
    "fig.update_layout(\n",
    "    title=\"Correlation of Features with Predicted Probabilities\",\n",
    "    xaxis_title=\"Correlation Coefficient\",\n",
    "    yaxis_title=\"Features\",\n",
    "    xaxis=dict(side='top'),\n",
    "    height=800,\n",
    "    width=1000\n",
    ")\n",
    "\n",
    "fig.show()"
   ]
  },
  {
   "cell_type": "markdown",
   "id": "607a3abf",
   "metadata": {},
   "source": [
    "The features in the test dataset that correlated most positively with the predicted probability of store presence are overall incomes above 150k, while incomes between 35k and 75k correlated most negatively with the prediction of store presence."
   ]
  }
 ],
 "metadata": {
  "kernelspec": {
   "display_name": "Python 3 (ipykernel)",
   "language": "python",
   "name": "python3"
  },
  "language_info": {
   "codemirror_mode": {
    "name": "ipython",
    "version": 3
   },
   "file_extension": ".py",
   "mimetype": "text/x-python",
   "name": "python",
   "nbconvert_exporter": "python",
   "pygments_lexer": "ipython3",
   "version": "3.11.7"
  }
 },
 "nbformat": 4,
 "nbformat_minor": 5
}
